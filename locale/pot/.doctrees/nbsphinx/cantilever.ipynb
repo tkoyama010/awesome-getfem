{
 "cells": [
  {
   "cell_type": "markdown",
   "metadata": {
    "colab_type": "text",
    "id": "L_IS3iGB1kNR"
   },
   "source": [
    "# study of cantilever beam\n",
    "\n",
    "Consider a cantilever beam using the Finite Element Method library GetFEM++."
   ]
  },
  {
   "cell_type": "markdown",
   "metadata": {
    "colab_type": "text",
    "id": "A3Y7EudS_mVB"
   },
   "source": [
    "## Install Libraries\n",
    "First, install GetFEM++."
   ]
  },
  {
   "cell_type": "code",
   "execution_count": 0,
   "metadata": {
    "colab": {
     "base_uri": "https://localhost:8080/",
     "height": 109
    },
    "colab_type": "code",
    "id": "78voqqWq1ma_",
    "outputId": "3b240879-d84d-41fb-acbf-4b903e82eed5"
   },
   "outputs": [
    {
     "name": "stdout",
     "output_type": "stream",
     "text": [
      "Reading package lists... Done\n",
      "Building dependency tree       \n",
      "Reading state information... Done\n",
      "python-getfem++ is already the newest version (5.2+dfsg1-6).\n",
      "0 upgraded, 0 newly installed, 0 to remove and 25 not upgraded.\n"
     ]
    }
   ],
   "source": [
    "!apt install python-getfem++=5.2+dfsg1-6"
   ]
  },
  {
   "cell_type": "markdown",
   "metadata": {
    "colab_type": "text",
    "id": "kSL_se6E29FQ"
   },
   "source": [
    "Next, install the visualization software Mayavi2."
   ]
  },
  {
   "cell_type": "code",
   "execution_count": 0,
   "metadata": {
    "colab": {
     "base_uri": "https://localhost:8080/",
     "height": 1000
    },
    "colab_type": "code",
    "id": "o-APQqlN2_HY",
    "outputId": "a68a046c-f3d7-470e-ee83-7cd49c60ce68"
   },
   "outputs": [
    {
     "name": "stdout",
     "output_type": "stream",
     "text": [
      "Reading package lists... Done\n",
      "Building dependency tree       \n",
      "Reading state information... Done\n",
      "The following additional packages will be installed:\n",
      "  avahi-daemon bind9-host cython geoclue-2.0 geoip-database\n",
      "  gstreamer1.0-plugins-base iio-sensor-proxy javascript-common libaudio2\n",
      "  libavahi-core7 libavahi-glib1 libbind9-160 libbrotli1 libcap2-bin\n",
      "  libcdparanoia0 libdaemon0 libdns1100 libgeoclue-2-0 libgeoip1\n",
      "  libgl1-mesa-glx libgstreamer-plugins-base1.0-0 libgstreamer1.0-0 libhyphen0\n",
      "  libisc169 libisccc160 libisccfg160 libjs-jquery libjs-sphinxdoc\n",
      "  libjs-underscore liblwres160 libmbim-glib4 libmbim-proxy libmm-glib0 libmng2\n",
      "  libnl-genl-3-200 libnotify4 libnss-mdns liborc-0.4-0 libpam-cap libqmi-glib5\n",
      "  libqmi-proxy libqt4-dbus libqt4-declarative libqt4-designer libqt4-help\n",
      "  libqt4-network libqt4-script libqt4-scripttools libqt4-sql libqt4-sql-mysql\n",
      "  libqt4-svg libqt4-test libqt4-xml libqt4-xmlpatterns libqt5opengl5\n",
      "  libqt5positioning5 libqt5qml5 libqt5quick5 libqt5sensors5 libqt5webchannel5\n",
      "  libqt5webkit5 libqtassistantclient4 libqtcore4 libqtdbus4 libqtgui4\n",
      "  libvisual-0.4-0 libvtk6.3-qt libwoff1 libwxbase3.0-0v5 libwxgtk3.0-gtk3-0v5\n",
      "  modemmanager notification-daemon python-apptools python-asn1crypto\n",
      "  python-attr python-autobahn python-automat python-cbor python-cffi-backend\n",
      "  python-chardet python-click python-colorama python-concurrent.futures\n",
      "  python-configobj python-constantly python-cryptography python-enum34\n",
      "  python-envisage python-hyperlink python-idna python-incremental\n",
      "  python-ipaddress python-lz4 python-mpi4py python-nacl python-openssl\n",
      "  python-pam python-pkg-resources python-pyasn1 python-pyasn1-modules\n",
      "  python-pyface python-pygments python-qrcode python-qt4 python-serial\n",
      "  python-service-identity python-sip python-six python-snappy python-traits\n",
      "  python-traitsui python-trie python-trollius python-twisted\n",
      "  python-twisted-bin python-twisted-core python-txaio python-u-msgpack\n",
      "  python-ubjson python-vtk6 python-wsaccel python-wxgtk3.0 python-wxversion\n",
      "  python-zope.interface qdbus qt-at-spi qtcore4-l10n usb-modeswitch\n",
      "  usb-modeswitch-data wpasupplicant\n",
      "Suggested packages:\n",
      "  avahi-autoipd cython-doc gvfs apache2 | lighttpd | httpd nas geoip-bin\n",
      "  libvisual-0.4-plugins gstreamer1.0-tools avahi-autoipd | zeroconf\n",
      "  libqt4-declarative-folderlistmodel libqt4-declarative-gestures\n",
      "  libqt4-declarative-particles libqt4-declarative-shaders qt4-qmlviewer\n",
      "  libqt4-dev qt5-qmltooling-plugins libicu55 qt4-qtconfig ipython\n",
      "  python-attr-doc python-configobj-doc python-cryptography-doc\n",
      "  python-cryptography-vectors python-enum34-doc python-chaco python-nacl-doc\n",
      "  python-openssl-doc python-openssl-dbg python-pam-dbg python-setuptools\n",
      "  ttf-bitstream-vera python-qt4-dbg python-trie-doc python-twisted-bin-dbg\n",
      "  python-gtk2 python-glade2 python-qt3 python-txaio-doc vtk6-doc vtk6-examples\n",
      "  wx3.0-doc comgt wvdial wpagui libengine-pkcs11-openssl\n",
      "The following NEW packages will be installed:\n",
      "  avahi-daemon bind9-host cython geoclue-2.0 geoip-database\n",
      "  gstreamer1.0-plugins-base iio-sensor-proxy javascript-common libaudio2\n",
      "  libavahi-core7 libavahi-glib1 libbind9-160 libbrotli1 libcap2-bin\n",
      "  libcdparanoia0 libdaemon0 libdns1100 libgeoclue-2-0 libgeoip1\n",
      "  libgl1-mesa-glx libgstreamer-plugins-base1.0-0 libgstreamer1.0-0 libhyphen0\n",
      "  libisc169 libisccc160 libisccfg160 libjs-jquery libjs-sphinxdoc\n",
      "  libjs-underscore liblwres160 libmbim-glib4 libmbim-proxy libmm-glib0 libmng2\n",
      "  libnl-genl-3-200 libnotify4 libnss-mdns liborc-0.4-0 libpam-cap libqmi-glib5\n",
      "  libqmi-proxy libqt4-dbus libqt4-declarative libqt4-designer libqt4-help\n",
      "  libqt4-network libqt4-script libqt4-scripttools libqt4-sql libqt4-sql-mysql\n",
      "  libqt4-svg libqt4-test libqt4-xml libqt4-xmlpatterns libqt5opengl5\n",
      "  libqt5positioning5 libqt5qml5 libqt5quick5 libqt5sensors5 libqt5webchannel5\n",
      "  libqt5webkit5 libqtassistantclient4 libqtcore4 libqtdbus4 libqtgui4\n",
      "  libvisual-0.4-0 libvtk6.3-qt libwoff1 libwxbase3.0-0v5 libwxgtk3.0-gtk3-0v5\n",
      "  mayavi2 modemmanager notification-daemon python-apptools python-asn1crypto\n",
      "  python-attr python-autobahn python-automat python-cbor python-cffi-backend\n",
      "  python-chardet python-click python-colorama python-concurrent.futures\n",
      "  python-configobj python-constantly python-cryptography python-enum34\n",
      "  python-envisage python-hyperlink python-idna python-incremental\n",
      "  python-ipaddress python-lz4 python-mpi4py python-nacl python-openssl\n",
      "  python-pam python-pkg-resources python-pyasn1 python-pyasn1-modules\n",
      "  python-pyface python-pygments python-qrcode python-qt4 python-serial\n",
      "  python-service-identity python-sip python-six python-snappy python-traits\n",
      "  python-traitsui python-trie python-trollius python-twisted\n",
      "  python-twisted-bin python-twisted-core python-txaio python-u-msgpack\n",
      "  python-ubjson python-vtk6 python-wsaccel python-wxgtk3.0 python-wxversion\n",
      "  python-zope.interface qdbus qt-at-spi qtcore4-l10n usb-modeswitch\n",
      "  usb-modeswitch-data wpasupplicant\n",
      "0 upgraded, 131 newly installed, 0 to remove and 25 not upgraded.\n",
      "Need to get 88.1 MB of archives.\n",
      "After this operation, 311 MB of additional disk space will be used.\n",
      "Get:1 http://archive.ubuntu.com/ubuntu bionic/main amd64 libdaemon0 amd64 0.14-6 [16.6 kB]\n",
      "Get:2 http://archive.ubuntu.com/ubuntu bionic/universe amd64 libmng2 amd64 2.0.2-0ubuntu3 [169 kB]\n",
      "Get:3 http://archive.ubuntu.com/ubuntu bionic/main amd64 libcap2-bin amd64 1:2.25-1.2 [20.6 kB]\n",
      "Get:4 http://archive.ubuntu.com/ubuntu bionic-updates/main amd64 libgstreamer1.0-0 amd64 1.14.5-0ubuntu1~18.04.1 [865 kB]\n",
      "Get:5 http://archive.ubuntu.com/ubuntu bionic/main amd64 liborc-0.4-0 amd64 1:0.4.28-1 [137 kB]\n",
      "Get:6 http://archive.ubuntu.com/ubuntu bionic-updates/main amd64 libgstreamer-plugins-base1.0-0 amd64 1.14.5-0ubuntu1~18.04.1 [688 kB]\n",
      "Get:7 http://archive.ubuntu.com/ubuntu bionic/main amd64 libhyphen0 amd64 2.8.8-5 [26.5 kB]\n",
      "Get:8 http://archive.ubuntu.com/ubuntu bionic/universe amd64 libqt5positioning5 amd64 5.9.5+dfsg-0ubuntu2 [131 kB]\n",
      "Get:9 http://archive.ubuntu.com/ubuntu bionic-updates/universe amd64 libqt5qml5 amd64 5.9.5-0ubuntu1.1 [1,242 kB]\n",
      "Get:10 http://archive.ubuntu.com/ubuntu bionic-updates/universe amd64 libqt5quick5 amd64 5.9.5-0ubuntu1.1 [1,201 kB]\n",
      "Get:11 http://archive.ubuntu.com/ubuntu bionic/universe amd64 libqt5sensors5 amd64 5.9.5-0ubuntu1 [113 kB]\n",
      "Get:12 http://archive.ubuntu.com/ubuntu bionic/universe amd64 libqt5webchannel5 amd64 5.9.5-0ubuntu1 [47.7 kB]\n",
      "Get:13 http://archive.ubuntu.com/ubuntu bionic-updates/main amd64 libbrotli1 amd64 1.0.3-1ubuntu1.2 [262 kB]\n",
      "Get:14 http://archive.ubuntu.com/ubuntu bionic-updates/main amd64 libwoff1 amd64 1.0.2-1build0.1 [43.0 kB]\n",
      "Get:15 http://archive.ubuntu.com/ubuntu bionic/universe amd64 libqt5webkit5 amd64 5.212.0~alpha2-7ubuntu1 [11.8 MB]\n",
      "Get:16 http://archive.ubuntu.com/ubuntu bionic/main amd64 libpam-cap amd64 1:2.25-1.2 [7,268 B]\n",
      "Get:17 http://archive.ubuntu.com/ubuntu bionic-updates/main amd64 libisc169 amd64 1:9.11.3+dfsg-1ubuntu1.11 [237 kB]\n",
      "Get:18 http://archive.ubuntu.com/ubuntu bionic/main amd64 libgeoip1 amd64 1.6.12-1 [71.8 kB]\n",
      "Get:19 http://archive.ubuntu.com/ubuntu bionic-updates/main amd64 libdns1100 amd64 1:9.11.3+dfsg-1ubuntu1.11 [966 kB]\n",
      "Get:20 http://archive.ubuntu.com/ubuntu bionic-updates/main amd64 libisccc160 amd64 1:9.11.3+dfsg-1ubuntu1.11 [17.9 kB]\n",
      "Get:21 http://archive.ubuntu.com/ubuntu bionic-updates/main amd64 libisccfg160 amd64 1:9.11.3+dfsg-1ubuntu1.11 [48.5 kB]\n",
      "Get:22 http://archive.ubuntu.com/ubuntu bionic-updates/main amd64 libbind9-160 amd64 1:9.11.3+dfsg-1ubuntu1.11 [27.6 kB]\n",
      "Get:23 http://archive.ubuntu.com/ubuntu bionic-updates/main amd64 liblwres160 amd64 1:9.11.3+dfsg-1ubuntu1.11 [34.5 kB]\n",
      "Get:24 http://archive.ubuntu.com/ubuntu bionic-updates/main amd64 bind9-host amd64 1:9.11.3+dfsg-1ubuntu1.11 [53.6 kB]\n",
      "Get:25 http://archive.ubuntu.com/ubuntu bionic/main amd64 geoip-database all 20180315-1 [2,090 kB]\n",
      "Get:26 http://archive.ubuntu.com/ubuntu bionic-updates/main amd64 libavahi-core7 amd64 0.7-3.1ubuntu1.2 [81.1 kB]\n",
      "Get:27 http://archive.ubuntu.com/ubuntu bionic-updates/main amd64 avahi-daemon amd64 0.7-3.1ubuntu1.2 [62.3 kB]\n",
      "Get:28 http://archive.ubuntu.com/ubuntu bionic/universe amd64 cython amd64 0.26.1-0.4 [1,874 kB]\n",
      "Get:29 http://archive.ubuntu.com/ubuntu bionic-updates/main amd64 libavahi-glib1 amd64 0.7-3.1ubuntu1.2 [7,720 B]\n",
      "Get:30 http://archive.ubuntu.com/ubuntu bionic/main amd64 libgeoclue-2-0 amd64 2.4.7-1ubuntu1 [25.6 kB]\n",
      "Get:31 http://archive.ubuntu.com/ubuntu bionic-updates/main amd64 libmm-glib0 amd64 1.10.0-1~ubuntu18.04.2 [179 kB]\n",
      "Get:32 http://archive.ubuntu.com/ubuntu bionic/main amd64 geoclue-2.0 amd64 2.4.7-1ubuntu1 [80.6 kB]\n",
      "Get:33 http://archive.ubuntu.com/ubuntu bionic/main amd64 libcdparanoia0 amd64 3.10.2+debian-13 [46.7 kB]\n",
      "Get:34 http://archive.ubuntu.com/ubuntu bionic/main amd64 libvisual-0.4-0 amd64 0.4.0-11 [99.2 kB]\n",
      "Get:35 http://archive.ubuntu.com/ubuntu bionic-updates/main amd64 gstreamer1.0-plugins-base amd64 1.14.5-0ubuntu1~18.04.1 [587 kB]\n",
      "Get:36 http://archive.ubuntu.com/ubuntu bionic/main amd64 iio-sensor-proxy amd64 2.4-2 [45.0 kB]\n",
      "Get:37 http://archive.ubuntu.com/ubuntu bionic/main amd64 javascript-common all 11 [6,066 B]\n",
      "Get:38 http://archive.ubuntu.com/ubuntu bionic/main amd64 libaudio2 amd64 1.9.4-6 [50.3 kB]\n",
      "Get:39 http://archive.ubuntu.com/ubuntu bionic-updates/main amd64 libgl1-mesa-glx amd64 19.2.8-0ubuntu0~18.04.3 [5,528 B]\n",
      "Get:40 http://archive.ubuntu.com/ubuntu bionic/main amd64 libjs-jquery all 3.2.1-1 [152 kB]\n",
      "Get:41 http://archive.ubuntu.com/ubuntu bionic/main amd64 libjs-underscore all 1.8.3~dfsg-1 [59.9 kB]\n",
      "Get:42 http://archive.ubuntu.com/ubuntu bionic/main amd64 libjs-sphinxdoc all 1.6.7-1ubuntu1 [85.6 kB]\n",
      "Get:43 http://archive.ubuntu.com/ubuntu bionic-updates/main amd64 libmbim-glib4 amd64 1.18.0-1~ubuntu18.04.1 [91.4 kB]\n",
      "Get:44 http://archive.ubuntu.com/ubuntu bionic-updates/main amd64 libmbim-proxy amd64 1.18.0-1~ubuntu18.04.1 [5,572 B]\n",
      "Get:45 http://archive.ubuntu.com/ubuntu bionic/main amd64 libnl-genl-3-200 amd64 3.2.29-0ubuntu3 [11.2 kB]\n",
      "Get:46 http://archive.ubuntu.com/ubuntu bionic/main amd64 libnotify4 amd64 0.7.7-3 [17.3 kB]\n",
      "Get:47 http://archive.ubuntu.com/ubuntu bionic/main amd64 libnss-mdns amd64 0.10-8ubuntu1 [21.2 kB]\n",
      "Get:48 http://archive.ubuntu.com/ubuntu bionic-updates/main amd64 libqmi-glib5 amd64 1.22.0-1.2~ubuntu18.04.1 [494 kB]\n",
      "Get:49 http://archive.ubuntu.com/ubuntu bionic-updates/main amd64 libqmi-proxy amd64 1.22.0-1.2~ubuntu18.04.1 [5,632 B]\n",
      "Get:50 http://archive.ubuntu.com/ubuntu bionic/universe amd64 qtcore4-l10n all 4:4.8.7+dfsg-7ubuntu1 [617 kB]\n",
      "Get:51 http://archive.ubuntu.com/ubuntu bionic/universe amd64 libqtcore4 amd64 4:4.8.7+dfsg-7ubuntu1 [1,552 kB]\n",
      "Get:52 http://archive.ubuntu.com/ubuntu bionic/universe amd64 libqt4-xml amd64 4:4.8.7+dfsg-7ubuntu1 [96.1 kB]\n",
      "Get:53 http://archive.ubuntu.com/ubuntu bionic/universe amd64 libqtdbus4 amd64 4:4.8.7+dfsg-7ubuntu1 [186 kB]\n",
      "Get:54 http://archive.ubuntu.com/ubuntu bionic/universe amd64 qdbus amd64 4:4.8.7+dfsg-7ubuntu1 [30.0 kB]\n",
      "Get:55 http://archive.ubuntu.com/ubuntu bionic/universe amd64 libqt4-dbus amd64 4:4.8.7+dfsg-7ubuntu1 [6,440 B]\n",
      "Get:56 http://archive.ubuntu.com/ubuntu bionic/universe amd64 libqt4-network amd64 4:4.8.7+dfsg-7ubuntu1 [562 kB]\n",
      "Get:57 http://archive.ubuntu.com/ubuntu bionic/universe amd64 libqt4-script amd64 4:4.8.7+dfsg-7ubuntu1 [815 kB]\n",
      "Get:58 http://archive.ubuntu.com/ubuntu bionic/universe amd64 libqt4-sql amd64 4:4.8.7+dfsg-7ubuntu1 [98.5 kB]\n",
      "Get:59 http://archive.ubuntu.com/ubuntu bionic/universe amd64 libqt4-xmlpatterns amd64 4:4.8.7+dfsg-7ubuntu1 [1,091 kB]\n",
      "Get:60 http://archive.ubuntu.com/ubuntu bionic/universe amd64 libqtgui4 amd64 4:4.8.7+dfsg-7ubuntu1 [4,115 kB]\n",
      "Get:61 http://archive.ubuntu.com/ubuntu bionic/universe amd64 libqt4-declarative amd64 4:4.8.7+dfsg-7ubuntu1 [1,089 kB]\n",
      "Get:62 http://archive.ubuntu.com/ubuntu bionic/universe amd64 libqt4-designer amd64 4:4.8.7+dfsg-7ubuntu1 [3,629 kB]\n",
      "Get:63 http://archive.ubuntu.com/ubuntu bionic/universe amd64 libqt4-help amd64 4:4.8.7+dfsg-7ubuntu1 [207 kB]\n",
      "Get:64 http://archive.ubuntu.com/ubuntu bionic/universe amd64 libqt4-scripttools amd64 4:4.8.7+dfsg-7ubuntu1 [225 kB]\n",
      "Get:65 http://archive.ubuntu.com/ubuntu bionic/universe amd64 libqt4-sql-mysql amd64 4:4.8.7+dfsg-7ubuntu1 [30.5 kB]\n",
      "Get:66 http://archive.ubuntu.com/ubuntu bionic/universe amd64 libqt4-svg amd64 4:4.8.7+dfsg-7ubuntu1 [138 kB]\n",
      "Get:67 http://archive.ubuntu.com/ubuntu bionic/universe amd64 libqt4-test amd64 4:4.8.7+dfsg-7ubuntu1 [61.2 kB]\n",
      "Get:68 http://archive.ubuntu.com/ubuntu bionic-updates/main amd64 libqt5opengl5 amd64 5.9.5+dfsg-0ubuntu2.5 [132 kB]\n",
      "Get:69 http://archive.ubuntu.com/ubuntu bionic/universe amd64 libqtassistantclient4 amd64 4.6.3-7build1 [12.7 kB]\n",
      "Get:70 http://archive.ubuntu.com/ubuntu bionic/universe amd64 libvtk6.3-qt amd64 6.3.0+dfsg1-11build1 [244 kB]\n",
      "Get:71 http://archive.ubuntu.com/ubuntu bionic/universe amd64 libwxbase3.0-0v5 amd64 3.0.4+dfsg-3 [954 kB]\n",
      "Get:72 http://archive.ubuntu.com/ubuntu bionic/universe amd64 libwxgtk3.0-gtk3-0v5 amd64 3.0.4+dfsg-3 [4,154 kB]\n",
      "Get:73 http://archive.ubuntu.com/ubuntu bionic/universe amd64 python-traits amd64 4.6.0-1ubuntu2 [233 kB]\n",
      "Get:74 http://archive.ubuntu.com/ubuntu bionic/main amd64 python-pygments all 2.2.0+dfsg-1 [577 kB]\n",
      "Get:75 http://archive.ubuntu.com/ubuntu bionic/universe amd64 python-wxversion all 3.0.2.0+dfsg-7 [12.4 kB]\n",
      "Get:76 http://archive.ubuntu.com/ubuntu bionic/universe amd64 python-wxgtk3.0 amd64 3.0.2.0+dfsg-7 [5,072 kB]\n",
      "Get:77 http://archive.ubuntu.com/ubuntu bionic/universe amd64 python-sip amd64 4.19.7+dfsg-1 [75.4 kB]\n",
      "Get:78 http://archive.ubuntu.com/ubuntu bionic/universe amd64 python-qt4 amd64 4.12.1+dfsg-2 [2,194 kB]\n",
      "Get:79 http://archive.ubuntu.com/ubuntu bionic/universe amd64 python-pyface all 4.5.2-1 [386 kB]\n",
      "Get:80 http://archive.ubuntu.com/ubuntu bionic/universe amd64 python-traitsui all 4.5.1-1 [6,079 kB]\n",
      "Get:81 http://archive.ubuntu.com/ubuntu bionic/main amd64 python-six all 1.11.0-2 [11.3 kB]\n",
      "Get:82 http://archive.ubuntu.com/ubuntu bionic/main amd64 python-configobj all 5.0.6-2 [34.2 kB]\n",
      "Get:83 http://archive.ubuntu.com/ubuntu bionic/universe amd64 python-apptools all 4.3.0-1 [195 kB]\n",
      "Get:84 http://archive.ubuntu.com/ubuntu bionic/universe amd64 python-cbor amd64 1.0.0-1 [20.7 kB]\n",
      "Get:85 http://archive.ubuntu.com/ubuntu bionic/main amd64 python-concurrent.futures all 3.2.0-1 [34.2 kB]\n",
      "Get:86 http://archive.ubuntu.com/ubuntu bionic/universe amd64 python-lz4 amd64 0.10.1+dfsg1-0.2 [16.6 kB]\n",
      "Get:87 http://archive.ubuntu.com/ubuntu bionic/main amd64 python-cffi-backend amd64 1.11.5-1 [63.4 kB]\n",
      "Get:88 http://archive.ubuntu.com/ubuntu bionic/universe amd64 python-nacl amd64 1.1.2-1build1 [27.8 kB]\n",
      "Get:89 http://archive.ubuntu.com/ubuntu bionic/main amd64 python-asn1crypto all 0.24.0-1 [72.7 kB]\n",
      "Get:90 http://archive.ubuntu.com/ubuntu bionic/main amd64 python-enum34 all 1.1.6-2 [34.8 kB]\n",
      "Get:91 http://archive.ubuntu.com/ubuntu bionic/main amd64 python-idna all 2.6-1 [32.4 kB]\n",
      "Get:92 http://archive.ubuntu.com/ubuntu bionic/main amd64 python-ipaddress all 1.0.17-1 [18.2 kB]\n",
      "Get:93 http://archive.ubuntu.com/ubuntu bionic-updates/main amd64 python-cryptography amd64 2.1.4-1ubuntu1.3 [221 kB]\n",
      "Get:94 http://archive.ubuntu.com/ubuntu bionic/main amd64 python-openssl all 17.5.0-1ubuntu1 [41.3 kB]\n",
      "Get:95 http://archive.ubuntu.com/ubuntu bionic/universe amd64 python-qrcode all 5.3-1 [25.3 kB]\n",
      "Get:96 http://archive.ubuntu.com/ubuntu bionic/main amd64 python-attr all 17.4.0-2 [23.7 kB]\n",
      "Get:97 http://archive.ubuntu.com/ubuntu bionic/main amd64 python-pyasn1 all 0.4.2-3 [46.7 kB]\n",
      "Get:98 http://archive.ubuntu.com/ubuntu bionic/main amd64 python-pyasn1-modules all 0.2.1-0.2 [32.8 kB]\n",
      "Get:99 http://archive.ubuntu.com/ubuntu bionic/main amd64 python-service-identity all 16.0.0-2 [9,318 B]\n",
      "Get:100 http://archive.ubuntu.com/ubuntu bionic/universe amd64 python-snappy amd64 0.5-1.1build2 [10.8 kB]\n",
      "Get:101 http://archive.ubuntu.com/ubuntu bionic/universe amd64 python-trie all 0.2+ds-1 [7,076 B]\n",
      "Get:102 http://archive.ubuntu.com/ubuntu bionic/universe amd64 python-trollius all 2.1~b1-5 [83.9 kB]\n",
      "Get:103 http://archive.ubuntu.com/ubuntu bionic/main amd64 python-twisted-bin amd64 17.9.0-2 [14.4 kB]\n",
      "Get:104 http://archive.ubuntu.com/ubuntu bionic/main amd64 python-pkg-resources all 39.0.1-2 [128 kB]\n",
      "Get:105 http://archive.ubuntu.com/ubuntu bionic/main amd64 python-zope.interface amd64 4.3.2-1build2 [82.2 kB]\n",
      "Get:106 http://archive.ubuntu.com/ubuntu bionic/main amd64 python-automat all 0.6.0-1 [25.1 kB]\n",
      "Get:107 http://archive.ubuntu.com/ubuntu bionic/main amd64 python-constantly all 15.1.0-1 [7,960 B]\n",
      "Get:108 http://archive.ubuntu.com/ubuntu bionic/main amd64 python-hyperlink all 17.3.1-2 [27.5 kB]\n",
      "Get:109 http://archive.ubuntu.com/ubuntu bionic/main amd64 python-incremental all 16.10.1-3 [14.4 kB]\n",
      "Get:110 http://archive.ubuntu.com/ubuntu bionic/main amd64 python-twisted-core all 17.9.0-2 [2,003 kB]\n",
      "Get:111 http://archive.ubuntu.com/ubuntu bionic/main amd64 python-twisted all 17.9.0-2 [3,720 B]\n",
      "Get:112 http://archive.ubuntu.com/ubuntu bionic/universe amd64 python-txaio all 2.8.1-1 [18.2 kB]\n",
      "Get:113 http://archive.ubuntu.com/ubuntu bionic/universe amd64 python-u-msgpack all 2.1-1 [7,268 B]\n",
      "Get:114 http://archive.ubuntu.com/ubuntu bionic/universe amd64 python-ubjson amd64 0.8.5-2build1 [95.0 kB]\n",
      "Get:115 http://archive.ubuntu.com/ubuntu bionic/universe amd64 python-wsaccel amd64 0.6.2-1 [37.5 kB]\n",
      "Get:116 http://archive.ubuntu.com/ubuntu bionic/universe amd64 python-autobahn all 17.10.1+dfsg1-2 [158 kB]\n",
      "Get:117 http://archive.ubuntu.com/ubuntu bionic/universe amd64 python-mpi4py amd64 2.0.0-3 [421 kB]\n",
      "Get:118 http://archive.ubuntu.com/ubuntu bionic/universe amd64 python-vtk6 amd64 6.3.0+dfsg1-11build1 [283 kB]\n",
      "Get:119 http://archive.ubuntu.com/ubuntu bionic/universe amd64 python-envisage all 4.4.0-1 [161 kB]\n",
      "Get:120 http://archive.ubuntu.com/ubuntu bionic/universe amd64 mayavi2 amd64 4.5.0-1 [22.4 MB]\n",
      "Get:121 http://archive.ubuntu.com/ubuntu bionic-updates/main amd64 modemmanager amd64 1.10.0-1~ubuntu18.04.2 [728 kB]\n",
      "Get:122 http://archive.ubuntu.com/ubuntu bionic/main amd64 notification-daemon amd64 3.20.0-3 [36.9 kB]\n",
      "Get:123 http://archive.ubuntu.com/ubuntu bionic/main amd64 python-chardet all 3.0.4-1 [80.3 kB]\n",
      "Get:124 http://archive.ubuntu.com/ubuntu bionic/main amd64 python-colorama all 0.3.7-1 [22.6 kB]\n",
      "Get:125 http://archive.ubuntu.com/ubuntu bionic/main amd64 python-click all 6.7-3 [56.4 kB]\n",
      "Get:126 http://archive.ubuntu.com/ubuntu bionic/main amd64 python-pam amd64 0.4.2-13.2ubuntu4 [9,856 B]\n",
      "Get:127 http://archive.ubuntu.com/ubuntu bionic/main amd64 python-serial all 3.4-2 [71.9 kB]\n",
      "Get:128 http://archive.ubuntu.com/ubuntu bionic/universe amd64 qt-at-spi amd64 0.4.0-8 [58.6 kB]\n",
      "Get:129 http://archive.ubuntu.com/ubuntu bionic-updates/main amd64 wpasupplicant amd64 2:2.6-15ubuntu2.5 [954 kB]\n",
      "Get:130 http://archive.ubuntu.com/ubuntu bionic/main amd64 usb-modeswitch-data all 20170806-2 [30.7 kB]\n",
      "Get:131 http://archive.ubuntu.com/ubuntu bionic/main amd64 usb-modeswitch amd64 2.5.2+repack0-2ubuntu1 [53.6 kB]\n",
      "Fetched 88.1 MB in 8s (10.5 MB/s)\n",
      "Extracting templates from packages: 100%\n",
      "Selecting previously unselected package libdaemon0:amd64.\n",
      "(Reading database ... 134948 files and directories currently installed.)\n",
      "Preparing to unpack .../000-libdaemon0_0.14-6_amd64.deb ...\n",
      "Unpacking libdaemon0:amd64 (0.14-6) ...\n",
      "Selecting previously unselected package libmng2:amd64.\n",
      "Preparing to unpack .../001-libmng2_2.0.2-0ubuntu3_amd64.deb ...\n",
      "Unpacking libmng2:amd64 (2.0.2-0ubuntu3) ...\n",
      "Selecting previously unselected package libcap2-bin.\n",
      "Preparing to unpack .../002-libcap2-bin_1%3a2.25-1.2_amd64.deb ...\n",
      "Unpacking libcap2-bin (1:2.25-1.2) ...\n",
      "Selecting previously unselected package libgstreamer1.0-0:amd64.\n",
      "Preparing to unpack .../003-libgstreamer1.0-0_1.14.5-0ubuntu1~18.04.1_amd64.deb ...\n",
      "Unpacking libgstreamer1.0-0:amd64 (1.14.5-0ubuntu1~18.04.1) ...\n",
      "Selecting previously unselected package liborc-0.4-0:amd64.\n",
      "Preparing to unpack .../004-liborc-0.4-0_1%3a0.4.28-1_amd64.deb ...\n",
      "Unpacking liborc-0.4-0:amd64 (1:0.4.28-1) ...\n",
      "Selecting previously unselected package libgstreamer-plugins-base1.0-0:amd64.\n",
      "Preparing to unpack .../005-libgstreamer-plugins-base1.0-0_1.14.5-0ubuntu1~18.04.1_amd64.deb ...\n",
      "Unpacking libgstreamer-plugins-base1.0-0:amd64 (1.14.5-0ubuntu1~18.04.1) ...\n",
      "Selecting previously unselected package libhyphen0:amd64.\n",
      "Preparing to unpack .../006-libhyphen0_2.8.8-5_amd64.deb ...\n",
      "Unpacking libhyphen0:amd64 (2.8.8-5) ...\n",
      "Selecting previously unselected package libqt5positioning5:amd64.\n",
      "Preparing to unpack .../007-libqt5positioning5_5.9.5+dfsg-0ubuntu2_amd64.deb ...\n",
      "Unpacking libqt5positioning5:amd64 (5.9.5+dfsg-0ubuntu2) ...\n",
      "Selecting previously unselected package libqt5qml5:amd64.\n",
      "Preparing to unpack .../008-libqt5qml5_5.9.5-0ubuntu1.1_amd64.deb ...\n",
      "Unpacking libqt5qml5:amd64 (5.9.5-0ubuntu1.1) ...\n",
      "Selecting previously unselected package libqt5quick5:amd64.\n",
      "Preparing to unpack .../009-libqt5quick5_5.9.5-0ubuntu1.1_amd64.deb ...\n",
      "Unpacking libqt5quick5:amd64 (5.9.5-0ubuntu1.1) ...\n",
      "Selecting previously unselected package libqt5sensors5:amd64.\n",
      "Preparing to unpack .../010-libqt5sensors5_5.9.5-0ubuntu1_amd64.deb ...\n",
      "Unpacking libqt5sensors5:amd64 (5.9.5-0ubuntu1) ...\n",
      "Selecting previously unselected package libqt5webchannel5:amd64.\n",
      "Preparing to unpack .../011-libqt5webchannel5_5.9.5-0ubuntu1_amd64.deb ...\n",
      "Unpacking libqt5webchannel5:amd64 (5.9.5-0ubuntu1) ...\n",
      "Selecting previously unselected package libbrotli1:amd64.\n",
      "Preparing to unpack .../012-libbrotli1_1.0.3-1ubuntu1.2_amd64.deb ...\n",
      "Unpacking libbrotli1:amd64 (1.0.3-1ubuntu1.2) ...\n",
      "Selecting previously unselected package libwoff1:amd64.\n",
      "Preparing to unpack .../013-libwoff1_1.0.2-1build0.1_amd64.deb ...\n",
      "Unpacking libwoff1:amd64 (1.0.2-1build0.1) ...\n",
      "Selecting previously unselected package libqt5webkit5:amd64.\n",
      "Preparing to unpack .../014-libqt5webkit5_5.212.0~alpha2-7ubuntu1_amd64.deb ...\n",
      "Unpacking libqt5webkit5:amd64 (5.212.0~alpha2-7ubuntu1) ...\n",
      "Selecting previously unselected package libpam-cap:amd64.\n",
      "Preparing to unpack .../015-libpam-cap_1%3a2.25-1.2_amd64.deb ...\n",
      "Unpacking libpam-cap:amd64 (1:2.25-1.2) ...\n",
      "Selecting previously unselected package libisc169:amd64.\n",
      "Preparing to unpack .../016-libisc169_1%3a9.11.3+dfsg-1ubuntu1.11_amd64.deb ...\n",
      "Unpacking libisc169:amd64 (1:9.11.3+dfsg-1ubuntu1.11) ...\n",
      "Selecting previously unselected package libgeoip1:amd64.\n",
      "Preparing to unpack .../017-libgeoip1_1.6.12-1_amd64.deb ...\n",
      "Unpacking libgeoip1:amd64 (1.6.12-1) ...\n",
      "Selecting previously unselected package libdns1100:amd64.\n",
      "Preparing to unpack .../018-libdns1100_1%3a9.11.3+dfsg-1ubuntu1.11_amd64.deb ...\n",
      "Unpacking libdns1100:amd64 (1:9.11.3+dfsg-1ubuntu1.11) ...\n",
      "Selecting previously unselected package libisccc160:amd64.\n",
      "Preparing to unpack .../019-libisccc160_1%3a9.11.3+dfsg-1ubuntu1.11_amd64.deb ...\n",
      "Unpacking libisccc160:amd64 (1:9.11.3+dfsg-1ubuntu1.11) ...\n",
      "Selecting previously unselected package libisccfg160:amd64.\n",
      "Preparing to unpack .../020-libisccfg160_1%3a9.11.3+dfsg-1ubuntu1.11_amd64.deb ...\n",
      "Unpacking libisccfg160:amd64 (1:9.11.3+dfsg-1ubuntu1.11) ...\n",
      "Selecting previously unselected package libbind9-160:amd64.\n",
      "Preparing to unpack .../021-libbind9-160_1%3a9.11.3+dfsg-1ubuntu1.11_amd64.deb ...\n",
      "Unpacking libbind9-160:amd64 (1:9.11.3+dfsg-1ubuntu1.11) ...\n",
      "Selecting previously unselected package liblwres160:amd64.\n",
      "Preparing to unpack .../022-liblwres160_1%3a9.11.3+dfsg-1ubuntu1.11_amd64.deb ...\n",
      "Unpacking liblwres160:amd64 (1:9.11.3+dfsg-1ubuntu1.11) ...\n",
      "Selecting previously unselected package bind9-host.\n",
      "Preparing to unpack .../023-bind9-host_1%3a9.11.3+dfsg-1ubuntu1.11_amd64.deb ...\n",
      "Unpacking bind9-host (1:9.11.3+dfsg-1ubuntu1.11) ...\n",
      "Selecting previously unselected package geoip-database.\n",
      "Preparing to unpack .../024-geoip-database_20180315-1_all.deb ...\n",
      "Unpacking geoip-database (20180315-1) ...\n",
      "Selecting previously unselected package libavahi-core7:amd64.\n",
      "Preparing to unpack .../025-libavahi-core7_0.7-3.1ubuntu1.2_amd64.deb ...\n",
      "Unpacking libavahi-core7:amd64 (0.7-3.1ubuntu1.2) ...\n",
      "Selecting previously unselected package avahi-daemon.\n",
      "Preparing to unpack .../026-avahi-daemon_0.7-3.1ubuntu1.2_amd64.deb ...\n",
      "Unpacking avahi-daemon (0.7-3.1ubuntu1.2) ...\n",
      "Selecting previously unselected package cython.\n",
      "Preparing to unpack .../027-cython_0.26.1-0.4_amd64.deb ...\n",
      "Unpacking cython (0.26.1-0.4) ...\n",
      "Selecting previously unselected package libavahi-glib1:amd64.\n",
      "Preparing to unpack .../028-libavahi-glib1_0.7-3.1ubuntu1.2_amd64.deb ...\n",
      "Unpacking libavahi-glib1:amd64 (0.7-3.1ubuntu1.2) ...\n",
      "Selecting previously unselected package libgeoclue-2-0:amd64.\n",
      "Preparing to unpack .../029-libgeoclue-2-0_2.4.7-1ubuntu1_amd64.deb ...\n",
      "Unpacking libgeoclue-2-0:amd64 (2.4.7-1ubuntu1) ...\n",
      "Selecting previously unselected package libmm-glib0:amd64.\n",
      "Preparing to unpack .../030-libmm-glib0_1.10.0-1~ubuntu18.04.2_amd64.deb ...\n",
      "Unpacking libmm-glib0:amd64 (1.10.0-1~ubuntu18.04.2) ...\n",
      "Selecting previously unselected package geoclue-2.0.\n",
      "Preparing to unpack .../031-geoclue-2.0_2.4.7-1ubuntu1_amd64.deb ...\n",
      "Unpacking geoclue-2.0 (2.4.7-1ubuntu1) ...\n",
      "Selecting previously unselected package libcdparanoia0:amd64.\n",
      "Preparing to unpack .../032-libcdparanoia0_3.10.2+debian-13_amd64.deb ...\n",
      "Unpacking libcdparanoia0:amd64 (3.10.2+debian-13) ...\n",
      "Selecting previously unselected package libvisual-0.4-0:amd64.\n",
      "Preparing to unpack .../033-libvisual-0.4-0_0.4.0-11_amd64.deb ...\n",
      "Unpacking libvisual-0.4-0:amd64 (0.4.0-11) ...\n",
      "Selecting previously unselected package gstreamer1.0-plugins-base:amd64.\n",
      "Preparing to unpack .../034-gstreamer1.0-plugins-base_1.14.5-0ubuntu1~18.04.1_amd64.deb ...\n",
      "Unpacking gstreamer1.0-plugins-base:amd64 (1.14.5-0ubuntu1~18.04.1) ...\n",
      "Selecting previously unselected package iio-sensor-proxy.\n",
      "Preparing to unpack .../035-iio-sensor-proxy_2.4-2_amd64.deb ...\n",
      "Unpacking iio-sensor-proxy (2.4-2) ...\n",
      "Selecting previously unselected package javascript-common.\n",
      "Preparing to unpack .../036-javascript-common_11_all.deb ...\n",
      "Unpacking javascript-common (11) ...\n",
      "Selecting previously unselected package libaudio2:amd64.\n",
      "Preparing to unpack .../037-libaudio2_1.9.4-6_amd64.deb ...\n",
      "Unpacking libaudio2:amd64 (1.9.4-6) ...\n",
      "Selecting previously unselected package libgl1-mesa-glx:amd64.\n",
      "Preparing to unpack .../038-libgl1-mesa-glx_19.2.8-0ubuntu0~18.04.3_amd64.deb ...\n",
      "Unpacking libgl1-mesa-glx:amd64 (19.2.8-0ubuntu0~18.04.3) ...\n",
      "Selecting previously unselected package libjs-jquery.\n",
      "Preparing to unpack .../039-libjs-jquery_3.2.1-1_all.deb ...\n",
      "Unpacking libjs-jquery (3.2.1-1) ...\n",
      "Selecting previously unselected package libjs-underscore.\n",
      "Preparing to unpack .../040-libjs-underscore_1.8.3~dfsg-1_all.deb ...\n",
      "Unpacking libjs-underscore (1.8.3~dfsg-1) ...\n",
      "Selecting previously unselected package libjs-sphinxdoc.\n",
      "Preparing to unpack .../041-libjs-sphinxdoc_1.6.7-1ubuntu1_all.deb ...\n",
      "Unpacking libjs-sphinxdoc (1.6.7-1ubuntu1) ...\n",
      "Selecting previously unselected package libmbim-glib4:amd64.\n",
      "Preparing to unpack .../042-libmbim-glib4_1.18.0-1~ubuntu18.04.1_amd64.deb ...\n",
      "Unpacking libmbim-glib4:amd64 (1.18.0-1~ubuntu18.04.1) ...\n",
      "Selecting previously unselected package libmbim-proxy.\n",
      "Preparing to unpack .../043-libmbim-proxy_1.18.0-1~ubuntu18.04.1_amd64.deb ...\n",
      "Unpacking libmbim-proxy (1.18.0-1~ubuntu18.04.1) ...\n",
      "Selecting previously unselected package libnl-genl-3-200:amd64.\n",
      "Preparing to unpack .../044-libnl-genl-3-200_3.2.29-0ubuntu3_amd64.deb ...\n",
      "Unpacking libnl-genl-3-200:amd64 (3.2.29-0ubuntu3) ...\n",
      "Selecting previously unselected package libnotify4:amd64.\n",
      "Preparing to unpack .../045-libnotify4_0.7.7-3_amd64.deb ...\n",
      "Unpacking libnotify4:amd64 (0.7.7-3) ...\n",
      "Selecting previously unselected package libnss-mdns:amd64.\n",
      "Preparing to unpack .../046-libnss-mdns_0.10-8ubuntu1_amd64.deb ...\n",
      "Unpacking libnss-mdns:amd64 (0.10-8ubuntu1) ...\n",
      "Selecting previously unselected package libqmi-glib5:amd64.\n",
      "Preparing to unpack .../047-libqmi-glib5_1.22.0-1.2~ubuntu18.04.1_amd64.deb ...\n",
      "Unpacking libqmi-glib5:amd64 (1.22.0-1.2~ubuntu18.04.1) ...\n",
      "Selecting previously unselected package libqmi-proxy.\n",
      "Preparing to unpack .../048-libqmi-proxy_1.22.0-1.2~ubuntu18.04.1_amd64.deb ...\n",
      "Unpacking libqmi-proxy (1.22.0-1.2~ubuntu18.04.1) ...\n",
      "Selecting previously unselected package qtcore4-l10n.\n",
      "Preparing to unpack .../049-qtcore4-l10n_4%3a4.8.7+dfsg-7ubuntu1_all.deb ...\n",
      "Unpacking qtcore4-l10n (4:4.8.7+dfsg-7ubuntu1) ...\n",
      "Selecting previously unselected package libqtcore4:amd64.\n",
      "Preparing to unpack .../050-libqtcore4_4%3a4.8.7+dfsg-7ubuntu1_amd64.deb ...\n",
      "Unpacking libqtcore4:amd64 (4:4.8.7+dfsg-7ubuntu1) ...\n",
      "Selecting previously unselected package libqt4-xml:amd64.\n",
      "Preparing to unpack .../051-libqt4-xml_4%3a4.8.7+dfsg-7ubuntu1_amd64.deb ...\n",
      "Unpacking libqt4-xml:amd64 (4:4.8.7+dfsg-7ubuntu1) ...\n",
      "Selecting previously unselected package libqtdbus4:amd64.\n",
      "Preparing to unpack .../052-libqtdbus4_4%3a4.8.7+dfsg-7ubuntu1_amd64.deb ...\n",
      "Unpacking libqtdbus4:amd64 (4:4.8.7+dfsg-7ubuntu1) ...\n",
      "Selecting previously unselected package qdbus.\n",
      "Preparing to unpack .../053-qdbus_4%3a4.8.7+dfsg-7ubuntu1_amd64.deb ...\n",
      "Unpacking qdbus (4:4.8.7+dfsg-7ubuntu1) ...\n",
      "Selecting previously unselected package libqt4-dbus:amd64.\n",
      "Preparing to unpack .../054-libqt4-dbus_4%3a4.8.7+dfsg-7ubuntu1_amd64.deb ...\n",
      "Unpacking libqt4-dbus:amd64 (4:4.8.7+dfsg-7ubuntu1) ...\n",
      "Selecting previously unselected package libqt4-network:amd64.\n",
      "Preparing to unpack .../055-libqt4-network_4%3a4.8.7+dfsg-7ubuntu1_amd64.deb ...\n",
      "Unpacking libqt4-network:amd64 (4:4.8.7+dfsg-7ubuntu1) ...\n",
      "Selecting previously unselected package libqt4-script:amd64.\n",
      "Preparing to unpack .../056-libqt4-script_4%3a4.8.7+dfsg-7ubuntu1_amd64.deb ...\n",
      "Unpacking libqt4-script:amd64 (4:4.8.7+dfsg-7ubuntu1) ...\n",
      "Selecting previously unselected package libqt4-sql:amd64.\n",
      "Preparing to unpack .../057-libqt4-sql_4%3a4.8.7+dfsg-7ubuntu1_amd64.deb ...\n",
      "Unpacking libqt4-sql:amd64 (4:4.8.7+dfsg-7ubuntu1) ...\n",
      "Selecting previously unselected package libqt4-xmlpatterns:amd64.\n",
      "Preparing to unpack .../058-libqt4-xmlpatterns_4%3a4.8.7+dfsg-7ubuntu1_amd64.deb ...\n",
      "Unpacking libqt4-xmlpatterns:amd64 (4:4.8.7+dfsg-7ubuntu1) ...\n",
      "Selecting previously unselected package libqtgui4:amd64.\n",
      "Preparing to unpack .../059-libqtgui4_4%3a4.8.7+dfsg-7ubuntu1_amd64.deb ...\n",
      "Unpacking libqtgui4:amd64 (4:4.8.7+dfsg-7ubuntu1) ...\n",
      "Selecting previously unselected package libqt4-declarative:amd64.\n",
      "Preparing to unpack .../060-libqt4-declarative_4%3a4.8.7+dfsg-7ubuntu1_amd64.deb ...\n",
      "Unpacking libqt4-declarative:amd64 (4:4.8.7+dfsg-7ubuntu1) ...\n",
      "Selecting previously unselected package libqt4-designer:amd64.\n",
      "Preparing to unpack .../061-libqt4-designer_4%3a4.8.7+dfsg-7ubuntu1_amd64.deb ...\n",
      "Unpacking libqt4-designer:amd64 (4:4.8.7+dfsg-7ubuntu1) ...\n",
      "Selecting previously unselected package libqt4-help:amd64.\n",
      "Preparing to unpack .../062-libqt4-help_4%3a4.8.7+dfsg-7ubuntu1_amd64.deb ...\n",
      "Unpacking libqt4-help:amd64 (4:4.8.7+dfsg-7ubuntu1) ...\n",
      "Selecting previously unselected package libqt4-scripttools:amd64.\n",
      "Preparing to unpack .../063-libqt4-scripttools_4%3a4.8.7+dfsg-7ubuntu1_amd64.deb ...\n",
      "Unpacking libqt4-scripttools:amd64 (4:4.8.7+dfsg-7ubuntu1) ...\n",
      "Selecting previously unselected package libqt4-sql-mysql:amd64.\n",
      "Preparing to unpack .../064-libqt4-sql-mysql_4%3a4.8.7+dfsg-7ubuntu1_amd64.deb ...\n",
      "Unpacking libqt4-sql-mysql:amd64 (4:4.8.7+dfsg-7ubuntu1) ...\n",
      "Selecting previously unselected package libqt4-svg:amd64.\n",
      "Preparing to unpack .../065-libqt4-svg_4%3a4.8.7+dfsg-7ubuntu1_amd64.deb ...\n",
      "Unpacking libqt4-svg:amd64 (4:4.8.7+dfsg-7ubuntu1) ...\n",
      "Selecting previously unselected package libqt4-test:amd64.\n",
      "Preparing to unpack .../066-libqt4-test_4%3a4.8.7+dfsg-7ubuntu1_amd64.deb ...\n",
      "Unpacking libqt4-test:amd64 (4:4.8.7+dfsg-7ubuntu1) ...\n",
      "Selecting previously unselected package libqt5opengl5:amd64.\n",
      "Preparing to unpack .../067-libqt5opengl5_5.9.5+dfsg-0ubuntu2.5_amd64.deb ...\n",
      "Unpacking libqt5opengl5:amd64 (5.9.5+dfsg-0ubuntu2.5) ...\n",
      "Selecting previously unselected package libqtassistantclient4:amd64.\n",
      "Preparing to unpack .../068-libqtassistantclient4_4.6.3-7build1_amd64.deb ...\n",
      "Unpacking libqtassistantclient4:amd64 (4.6.3-7build1) ...\n",
      "Selecting previously unselected package libvtk6.3-qt.\n",
      "Preparing to unpack .../069-libvtk6.3-qt_6.3.0+dfsg1-11build1_amd64.deb ...\n",
      "Unpacking libvtk6.3-qt (6.3.0+dfsg1-11build1) ...\n",
      "Selecting previously unselected package libwxbase3.0-0v5:amd64.\n",
      "Preparing to unpack .../070-libwxbase3.0-0v5_3.0.4+dfsg-3_amd64.deb ...\n",
      "Unpacking libwxbase3.0-0v5:amd64 (3.0.4+dfsg-3) ...\n",
      "Selecting previously unselected package libwxgtk3.0-gtk3-0v5:amd64.\n",
      "Preparing to unpack .../071-libwxgtk3.0-gtk3-0v5_3.0.4+dfsg-3_amd64.deb ...\n",
      "Unpacking libwxgtk3.0-gtk3-0v5:amd64 (3.0.4+dfsg-3) ...\n",
      "Selecting previously unselected package python-traits.\n",
      "Preparing to unpack .../072-python-traits_4.6.0-1ubuntu2_amd64.deb ...\n",
      "Unpacking python-traits (4.6.0-1ubuntu2) ...\n",
      "Selecting previously unselected package python-pygments.\n",
      "Preparing to unpack .../073-python-pygments_2.2.0+dfsg-1_all.deb ...\n",
      "Unpacking python-pygments (2.2.0+dfsg-1) ...\n",
      "Selecting previously unselected package python-wxversion.\n",
      "Preparing to unpack .../074-python-wxversion_3.0.2.0+dfsg-7_all.deb ...\n",
      "Unpacking python-wxversion (3.0.2.0+dfsg-7) ...\n",
      "Selecting previously unselected package python-wxgtk3.0.\n",
      "Preparing to unpack .../075-python-wxgtk3.0_3.0.2.0+dfsg-7_amd64.deb ...\n",
      "Unpacking python-wxgtk3.0 (3.0.2.0+dfsg-7) ...\n",
      "Selecting previously unselected package python-sip.\n",
      "Preparing to unpack .../076-python-sip_4.19.7+dfsg-1_amd64.deb ...\n",
      "Unpacking python-sip (4.19.7+dfsg-1) ...\n",
      "Selecting previously unselected package python-qt4.\n",
      "Preparing to unpack .../077-python-qt4_4.12.1+dfsg-2_amd64.deb ...\n",
      "Unpacking python-qt4 (4.12.1+dfsg-2) ...\n",
      "Selecting previously unselected package python-pyface.\n",
      "Preparing to unpack .../078-python-pyface_4.5.2-1_all.deb ...\n",
      "Unpacking python-pyface (4.5.2-1) ...\n",
      "Selecting previously unselected package python-traitsui.\n",
      "Preparing to unpack .../079-python-traitsui_4.5.1-1_all.deb ...\n",
      "Unpacking python-traitsui (4.5.1-1) ...\n",
      "Selecting previously unselected package python-six.\n",
      "Preparing to unpack .../080-python-six_1.11.0-2_all.deb ...\n",
      "Unpacking python-six (1.11.0-2) ...\n",
      "Selecting previously unselected package python-configobj.\n",
      "Preparing to unpack .../081-python-configobj_5.0.6-2_all.deb ...\n",
      "Unpacking python-configobj (5.0.6-2) ...\n",
      "Selecting previously unselected package python-apptools.\n",
      "Preparing to unpack .../082-python-apptools_4.3.0-1_all.deb ...\n",
      "Unpacking python-apptools (4.3.0-1) ...\n",
      "Selecting previously unselected package python-cbor.\n",
      "Preparing to unpack .../083-python-cbor_1.0.0-1_amd64.deb ...\n",
      "Unpacking python-cbor (1.0.0-1) ...\n",
      "Selecting previously unselected package python-concurrent.futures.\n",
      "Preparing to unpack .../084-python-concurrent.futures_3.2.0-1_all.deb ...\n",
      "Unpacking python-concurrent.futures (3.2.0-1) ...\n",
      "Selecting previously unselected package python-lz4.\n",
      "Preparing to unpack .../085-python-lz4_0.10.1+dfsg1-0.2_amd64.deb ...\n",
      "Unpacking python-lz4 (0.10.1+dfsg1-0.2) ...\n",
      "Selecting previously unselected package python-cffi-backend.\n",
      "Preparing to unpack .../086-python-cffi-backend_1.11.5-1_amd64.deb ...\n",
      "Unpacking python-cffi-backend (1.11.5-1) ...\n",
      "Selecting previously unselected package python-nacl.\n",
      "Preparing to unpack .../087-python-nacl_1.1.2-1build1_amd64.deb ...\n",
      "Unpacking python-nacl (1.1.2-1build1) ...\n",
      "Selecting previously unselected package python-asn1crypto.\n",
      "Preparing to unpack .../088-python-asn1crypto_0.24.0-1_all.deb ...\n",
      "Unpacking python-asn1crypto (0.24.0-1) ...\n",
      "Selecting previously unselected package python-enum34.\n",
      "Preparing to unpack .../089-python-enum34_1.1.6-2_all.deb ...\n",
      "Unpacking python-enum34 (1.1.6-2) ...\n",
      "Selecting previously unselected package python-idna.\n",
      "Preparing to unpack .../090-python-idna_2.6-1_all.deb ...\n",
      "Unpacking python-idna (2.6-1) ...\n",
      "Selecting previously unselected package python-ipaddress.\n",
      "Preparing to unpack .../091-python-ipaddress_1.0.17-1_all.deb ...\n",
      "Unpacking python-ipaddress (1.0.17-1) ...\n",
      "Selecting previously unselected package python-cryptography.\n",
      "Preparing to unpack .../092-python-cryptography_2.1.4-1ubuntu1.3_amd64.deb ...\n",
      "Unpacking python-cryptography (2.1.4-1ubuntu1.3) ...\n",
      "Selecting previously unselected package python-openssl.\n",
      "Preparing to unpack .../093-python-openssl_17.5.0-1ubuntu1_all.deb ...\n",
      "Unpacking python-openssl (17.5.0-1ubuntu1) ...\n",
      "Selecting previously unselected package python-qrcode.\n",
      "Preparing to unpack .../094-python-qrcode_5.3-1_all.deb ...\n",
      "Unpacking python-qrcode (5.3-1) ...\n",
      "Selecting previously unselected package python-attr.\n",
      "Preparing to unpack .../095-python-attr_17.4.0-2_all.deb ...\n",
      "Unpacking python-attr (17.4.0-2) ...\n",
      "Selecting previously unselected package python-pyasn1.\n",
      "Preparing to unpack .../096-python-pyasn1_0.4.2-3_all.deb ...\n",
      "Unpacking python-pyasn1 (0.4.2-3) ...\n",
      "Selecting previously unselected package python-pyasn1-modules.\n",
      "Preparing to unpack .../097-python-pyasn1-modules_0.2.1-0.2_all.deb ...\n",
      "Unpacking python-pyasn1-modules (0.2.1-0.2) ...\n",
      "Selecting previously unselected package python-service-identity.\n",
      "Preparing to unpack .../098-python-service-identity_16.0.0-2_all.deb ...\n",
      "Unpacking python-service-identity (16.0.0-2) ...\n",
      "Selecting previously unselected package python-snappy.\n",
      "Preparing to unpack .../099-python-snappy_0.5-1.1build2_amd64.deb ...\n",
      "Unpacking python-snappy (0.5-1.1build2) ...\n",
      "Selecting previously unselected package python-trie.\n",
      "Preparing to unpack .../100-python-trie_0.2+ds-1_all.deb ...\n",
      "Unpacking python-trie (0.2+ds-1) ...\n",
      "Selecting previously unselected package python-trollius.\n",
      "Preparing to unpack .../101-python-trollius_2.1~b1-5_all.deb ...\n",
      "Unpacking python-trollius (2.1~b1-5) ...\n",
      "Selecting previously unselected package python-twisted-bin:amd64.\n",
      "Preparing to unpack .../102-python-twisted-bin_17.9.0-2_amd64.deb ...\n",
      "Unpacking python-twisted-bin:amd64 (17.9.0-2) ...\n",
      "Selecting previously unselected package python-pkg-resources.\n",
      "Preparing to unpack .../103-python-pkg-resources_39.0.1-2_all.deb ...\n",
      "Unpacking python-pkg-resources (39.0.1-2) ...\n",
      "Selecting previously unselected package python-zope.interface.\n",
      "Preparing to unpack .../104-python-zope.interface_4.3.2-1build2_amd64.deb ...\n",
      "Unpacking python-zope.interface (4.3.2-1build2) ...\n",
      "Selecting previously unselected package python-automat.\n",
      "Preparing to unpack .../105-python-automat_0.6.0-1_all.deb ...\n",
      "Unpacking python-automat (0.6.0-1) ...\n",
      "Selecting previously unselected package python-constantly.\n",
      "Preparing to unpack .../106-python-constantly_15.1.0-1_all.deb ...\n",
      "Unpacking python-constantly (15.1.0-1) ...\n",
      "Selecting previously unselected package python-hyperlink.\n",
      "Preparing to unpack .../107-python-hyperlink_17.3.1-2_all.deb ...\n",
      "Unpacking python-hyperlink (17.3.1-2) ...\n",
      "Selecting previously unselected package python-incremental.\n",
      "Preparing to unpack .../108-python-incremental_16.10.1-3_all.deb ...\n",
      "Unpacking python-incremental (16.10.1-3) ...\n",
      "Selecting previously unselected package python-twisted-core.\n",
      "Preparing to unpack .../109-python-twisted-core_17.9.0-2_all.deb ...\n",
      "Unpacking python-twisted-core (17.9.0-2) ...\n",
      "Selecting previously unselected package python-twisted.\n",
      "Preparing to unpack .../110-python-twisted_17.9.0-2_all.deb ...\n",
      "Unpacking python-twisted (17.9.0-2) ...\n",
      "Selecting previously unselected package python-txaio.\n",
      "Preparing to unpack .../111-python-txaio_2.8.1-1_all.deb ...\n",
      "Unpacking python-txaio (2.8.1-1) ...\n",
      "Selecting previously unselected package python-u-msgpack.\n",
      "Preparing to unpack .../112-python-u-msgpack_2.1-1_all.deb ...\n",
      "Unpacking python-u-msgpack (2.1-1) ...\n",
      "Selecting previously unselected package python-ubjson.\n",
      "Preparing to unpack .../113-python-ubjson_0.8.5-2build1_amd64.deb ...\n",
      "Unpacking python-ubjson (0.8.5-2build1) ...\n",
      "Selecting previously unselected package python-wsaccel.\n",
      "Preparing to unpack .../114-python-wsaccel_0.6.2-1_amd64.deb ...\n",
      "Unpacking python-wsaccel (0.6.2-1) ...\n",
      "Selecting previously unselected package python-autobahn.\n",
      "Preparing to unpack .../115-python-autobahn_17.10.1+dfsg1-2_all.deb ...\n",
      "Unpacking python-autobahn (17.10.1+dfsg1-2) ...\n",
      "Selecting previously unselected package python-mpi4py.\n",
      "Preparing to unpack .../116-python-mpi4py_2.0.0-3_amd64.deb ...\n",
      "Unpacking python-mpi4py (2.0.0-3) ...\n",
      "Selecting previously unselected package python-vtk6.\n",
      "Preparing to unpack .../117-python-vtk6_6.3.0+dfsg1-11build1_amd64.deb ...\n",
      "Unpacking python-vtk6 (6.3.0+dfsg1-11build1) ...\n",
      "Selecting previously unselected package python-envisage.\n",
      "Preparing to unpack .../118-python-envisage_4.4.0-1_all.deb ...\n",
      "Unpacking python-envisage (4.4.0-1) ...\n",
      "Selecting previously unselected package mayavi2.\n",
      "Preparing to unpack .../119-mayavi2_4.5.0-1_amd64.deb ...\n",
      "Unpacking mayavi2 (4.5.0-1) ...\n",
      "Selecting previously unselected package modemmanager.\n",
      "Preparing to unpack .../120-modemmanager_1.10.0-1~ubuntu18.04.2_amd64.deb ...\n",
      "Unpacking modemmanager (1.10.0-1~ubuntu18.04.2) ...\n",
      "Selecting previously unselected package notification-daemon.\n",
      "Preparing to unpack .../121-notification-daemon_3.20.0-3_amd64.deb ...\n",
      "Unpacking notification-daemon (3.20.0-3) ...\n",
      "Selecting previously unselected package python-chardet.\n",
      "Preparing to unpack .../122-python-chardet_3.0.4-1_all.deb ...\n",
      "Unpacking python-chardet (3.0.4-1) ...\n",
      "Selecting previously unselected package python-colorama.\n",
      "Preparing to unpack .../123-python-colorama_0.3.7-1_all.deb ...\n",
      "Unpacking python-colorama (0.3.7-1) ...\n",
      "Selecting previously unselected package python-click.\n",
      "Preparing to unpack .../124-python-click_6.7-3_all.deb ...\n",
      "Unpacking python-click (6.7-3) ...\n",
      "Selecting previously unselected package python-pam.\n",
      "Preparing to unpack .../125-python-pam_0.4.2-13.2ubuntu4_amd64.deb ...\n",
      "Unpacking python-pam (0.4.2-13.2ubuntu4) ...\n",
      "Selecting previously unselected package python-serial.\n",
      "Preparing to unpack .../126-python-serial_3.4-2_all.deb ...\n",
      "Unpacking python-serial (3.4-2) ...\n",
      "Selecting previously unselected package qt-at-spi:amd64.\n",
      "Preparing to unpack .../127-qt-at-spi_0.4.0-8_amd64.deb ...\n",
      "Unpacking qt-at-spi:amd64 (0.4.0-8) ...\n",
      "Selecting previously unselected package wpasupplicant.\n",
      "Preparing to unpack .../128-wpasupplicant_2%3a2.6-15ubuntu2.5_amd64.deb ...\n",
      "Unpacking wpasupplicant (2:2.6-15ubuntu2.5) ...\n",
      "Selecting previously unselected package usb-modeswitch-data.\n",
      "Preparing to unpack .../129-usb-modeswitch-data_20170806-2_all.deb ...\n",
      "Unpacking usb-modeswitch-data (20170806-2) ...\n",
      "Selecting previously unselected package usb-modeswitch.\n",
      "Preparing to unpack .../130-usb-modeswitch_2.5.2+repack0-2ubuntu1_amd64.deb ...\n",
      "Unpacking usb-modeswitch (2.5.2+repack0-2ubuntu1) ...\n",
      "Setting up python-mpi4py (2.0.0-3) ...\n",
      "Setting up python-u-msgpack (2.1-1) ...\n",
      "Setting up libqt5qml5:amd64 (5.9.5-0ubuntu1.1) ...\n",
      "Setting up python-idna (2.6-1) ...\n",
      "Setting up libbrotli1:amd64 (1.0.3-1ubuntu1.2) ...\n",
      "Setting up libjs-jquery (3.2.1-1) ...\n",
      "Setting up libqt5quick5:amd64 (5.9.5-0ubuntu1.1) ...\n",
      "Setting up libisc169:amd64 (1:9.11.3+dfsg-1ubuntu1.11) ...\n",
      "Setting up libnotify4:amd64 (0.7.7-3) ...\n",
      "Setting up python-hyperlink (17.3.1-2) ...\n",
      "Setting up libqt5sensors5:amd64 (5.9.5-0ubuntu1) ...\n",
      "Setting up libdaemon0:amd64 (0.14-6) ...\n",
      "Setting up libisccc160:amd64 (1:9.11.3+dfsg-1ubuntu1.11) ...\n",
      "Setting up python-asn1crypto (0.24.0-1) ...\n",
      "Setting up libmbim-glib4:amd64 (1.18.0-1~ubuntu18.04.1) ...\n",
      "Setting up python-lz4 (0.10.1+dfsg1-0.2) ...\n",
      "Setting up libpam-cap:amd64 (1:2.25-1.2) ...\n",
      "Setting up python-attr (17.4.0-2) ...\n",
      "Setting up python-snappy (0.5-1.1build2) ...\n",
      "Setting up libjs-underscore (1.8.3~dfsg-1) ...\n",
      "Setting up iio-sensor-proxy (2.4-2) ...\n",
      "Setting up python-traits (4.6.0-1ubuntu2) ...\n",
      "Setting up libwoff1:amd64 (1.0.2-1build0.1) ...\n",
      "Setting up geoip-database (20180315-1) ...\n",
      "Setting up libcap2-bin (1:2.25-1.2) ...\n",
      "Setting up python-pyasn1 (0.4.2-3) ...\n",
      "Setting up python-wxversion (3.0.2.0+dfsg-7) ...\n",
      "Setting up qtcore4-l10n (4:4.8.7+dfsg-7ubuntu1) ...\n",
      "Setting up python-twisted-bin:amd64 (17.9.0-2) ...\n",
      "Setting up libjs-sphinxdoc (1.6.7-1ubuntu1) ...\n",
      "Setting up libnl-genl-3-200:amd64 (3.2.29-0ubuntu3) ...\n",
      "Setting up python-colorama (0.3.7-1) ...\n",
      "Setting up libgeoip1:amd64 (1.6.12-1) ...\n",
      "Setting up python-pkg-resources (39.0.1-2) ...\n",
      "Setting up libcdparanoia0:amd64 (3.10.2+debian-13) ...\n",
      "Setting up libmng2:amd64 (2.0.2-0ubuntu3) ...\n",
      "Setting up python-pyasn1-modules (0.2.1-0.2) ...\n",
      "Setting up libqt5opengl5:amd64 (5.9.5+dfsg-0ubuntu2.5) ...\n",
      "Setting up libmbim-proxy (1.18.0-1~ubuntu18.04.1) ...\n",
      "Setting up cython (0.26.1-0.4) ...\n",
      "Setting up python-wsaccel (0.6.2-1) ...\n",
      "Setting up libwxbase3.0-0v5:amd64 (3.0.4+dfsg-3) ...\n",
      "Setting up usb-modeswitch-data (20170806-2) ...\n",
      "Setting up python-cffi-backend (1.11.5-1) ...\n",
      "Setting up libhyphen0:amd64 (2.8.8-5) ...\n",
      "Setting up python-incremental (16.10.1-3) ...\n",
      "Setting up python-six (1.11.0-2) ...\n",
      "Setting up python-constantly (15.1.0-1) ...\n",
      "Setting up usb-modeswitch (2.5.2+repack0-2ubuntu1) ...\n",
      "Setting up python-cbor (1.0.0-1) ...\n",
      "Setting up python-pygments (2.2.0+dfsg-1) ...\n",
      "Setting up libqtcore4:amd64 (4:4.8.7+dfsg-7ubuntu1) ...\n",
      "Setting up libmm-glib0:amd64 (1.10.0-1~ubuntu18.04.2) ...\n",
      "Setting up python-zope.interface (4.3.2-1build2) ...\n",
      "Setting up libgl1-mesa-glx:amd64 (19.2.8-0ubuntu0~18.04.3) ...\n",
      "Setting up libqt5positioning5:amd64 (5.9.5+dfsg-0ubuntu2) ...\n",
      "Setting up python-enum34 (1.1.6-2) ...\n",
      "Setting up python-serial (3.4-2) ...\n",
      "Setting up libvisual-0.4-0:amd64 (0.4.0-11) ...\n",
      "Setting up libwxgtk3.0-gtk3-0v5:amd64 (3.0.4+dfsg-3) ...\n",
      "Setting up python-concurrent.futures (3.2.0-1) ...\n",
      "Setting up liborc-0.4-0:amd64 (1:0.4.28-1) ...\n",
      "Setting up libavahi-glib1:amd64 (0.7-3.1ubuntu1.2) ...\n",
      "Setting up javascript-common (11) ...\n",
      "Setting up libqt5webchannel5:amd64 (5.9.5-0ubuntu1) ...\n",
      "Setting up python-pam (0.4.2-13.2ubuntu4) ...\n",
      "Setting up python-ubjson (0.8.5-2build1) ...\n",
      "Setting up libdns1100:amd64 (1:9.11.3+dfsg-1ubuntu1.11) ...\n",
      "Setting up python-ipaddress (1.0.17-1) ...\n",
      "Setting up libqt4-test:amd64 (4:4.8.7+dfsg-7ubuntu1) ...\n",
      "Setting up python-trie (0.2+ds-1) ...\n",
      "Setting up python-automat (0.6.0-1) ...\n",
      "Setting up liblwres160:amd64 (1:9.11.3+dfsg-1ubuntu1.11) ...\n",
      "Setting up libqt4-xml:amd64 (4:4.8.7+dfsg-7ubuntu1) ...\n",
      "Setting up libaudio2:amd64 (1.9.4-6) ...\n",
      "Setting up notification-daemon (3.20.0-3) ...\n",
      "Setting up python-sip (4.19.7+dfsg-1) ...\n",
      "Setting up libavahi-core7:amd64 (0.7-3.1ubuntu1.2) ...\n",
      "Setting up python-configobj (5.0.6-2) ...\n",
      "Setting up python-chardet (3.0.4-1) ...\n",
      "Setting up libgstreamer1.0-0:amd64 (1.14.5-0ubuntu1~18.04.1) ...\n",
      "Setcap worked! gst-ptp-helper is not suid!\n",
      "Setting up python-nacl (1.1.2-1build1) ...\n",
      "Setting up python-trollius (2.1~b1-5) ...\n",
      "Setting up python-click (6.7-3) ...\n",
      "Setting up python-wxgtk3.0 (3.0.2.0+dfsg-7) ...\n",
      "update-alternatives: using /usr/lib/wx/python/wx3.0.pth to provide /usr/lib/wx/python/wx.pth (wx.pth) in auto mode\n",
      "Setting up wpasupplicant (2:2.6-15ubuntu2.5) ...\n",
      "Created symlink /etc/systemd/system/dbus-fi.w1.wpa_supplicant1.service → /lib/systemd/system/wpa_supplicant.service.\n",
      "Created symlink /etc/systemd/system/multi-user.target.wants/wpa_supplicant.service → /lib/systemd/system/wpa_supplicant.service.\n",
      "Setting up python-qrcode (5.3-1) ...\n",
      "update-alternatives: using /usr/bin/python2-qr to provide /usr/bin/qr (qr) in auto mode\n",
      "Setting up libqmi-glib5:amd64 (1.22.0-1.2~ubuntu18.04.1) ...\n",
      "Setting up libqt4-sql:amd64 (4:4.8.7+dfsg-7ubuntu1) ...\n",
      "Setting up libqmi-proxy (1.22.0-1.2~ubuntu18.04.1) ...\n",
      "Setting up libisccfg160:amd64 (1:9.11.3+dfsg-1ubuntu1.11) ...\n",
      "Setting up python-cryptography (2.1.4-1ubuntu1.3) ...\n",
      "Setting up libqtdbus4:amd64 (4:4.8.7+dfsg-7ubuntu1) ...\n",
      "Setting up libgstreamer-plugins-base1.0-0:amd64 (1.14.5-0ubuntu1~18.04.1) ...\n",
      "Setting up gstreamer1.0-plugins-base:amd64 (1.14.5-0ubuntu1~18.04.1) ...\n",
      "Setting up libqt4-script:amd64 (4:4.8.7+dfsg-7ubuntu1) ...\n",
      "Setting up python-openssl (17.5.0-1ubuntu1) ...\n",
      "Setting up libqt4-sql-mysql:amd64 (4:4.8.7+dfsg-7ubuntu1) ...\n",
      "Setting up libqt5webkit5:amd64 (5.212.0~alpha2-7ubuntu1) ...\n",
      "Setting up modemmanager (1.10.0-1~ubuntu18.04.2) ...\n",
      "Created symlink /etc/systemd/system/dbus-org.freedesktop.ModemManager1.service → /lib/systemd/system/ModemManager.service.\n",
      "Created symlink /etc/systemd/system/multi-user.target.wants/ModemManager.service → /lib/systemd/system/ModemManager.service.\n",
      "Setting up libbind9-160:amd64 (1:9.11.3+dfsg-1ubuntu1.11) ...\n",
      "Setting up qdbus (4:4.8.7+dfsg-7ubuntu1) ...\n",
      "Setting up libvtk6.3-qt (6.3.0+dfsg1-11build1) ...\n",
      "Setting up libqt4-dbus:amd64 (4:4.8.7+dfsg-7ubuntu1) ...\n",
      "Setting up libqt4-network:amd64 (4:4.8.7+dfsg-7ubuntu1) ...\n",
      "Setting up python-service-identity (16.0.0-2) ...\n",
      "Setting up bind9-host (1:9.11.3+dfsg-1ubuntu1.11) ...\n",
      "Setting up libqt4-xmlpatterns:amd64 (4:4.8.7+dfsg-7ubuntu1) ...\n",
      "Setting up libqtassistantclient4:amd64 (4.6.3-7build1) ...\n",
      "Setting up avahi-daemon (0.7-3.1ubuntu1.2) ...\n",
      "invoke-rc.d: could not determine current runlevel\n",
      "invoke-rc.d: policy-rc.d denied execution of force-reload.\n",
      "Created symlink /etc/systemd/system/dbus-org.freedesktop.Avahi.service → /lib/systemd/system/avahi-daemon.service.\n",
      "Created symlink /etc/systemd/system/multi-user.target.wants/avahi-daemon.service → /lib/systemd/system/avahi-daemon.service.\n",
      "Created symlink /etc/systemd/system/sockets.target.wants/avahi-daemon.socket → /lib/systemd/system/avahi-daemon.socket.\n",
      "invoke-rc.d: could not determine current runlevel\n",
      "invoke-rc.d: policy-rc.d denied execution of start.\n",
      "Setting up python-twisted-core (17.9.0-2) ...\n",
      "Setting up python-twisted (17.9.0-2) ...\n",
      "Setting up libnss-mdns:amd64 (0.10-8ubuntu1) ...\n",
      "First installation detected...\n",
      "Checking NSS setup...\n",
      "Setting up python-txaio (2.8.1-1) ...\n",
      "Setting up python-autobahn (17.10.1+dfsg1-2) ...\n",
      "Setting up python-vtk6 (6.3.0+dfsg1-11build1) ...\n",
      "Setting up libgeoclue-2-0:amd64 (2.4.7-1ubuntu1) ...\n",
      "Setting up geoclue-2.0 (2.4.7-1ubuntu1) ...\n",
      "Setting up libqt4-declarative:amd64 (4:4.8.7+dfsg-7ubuntu1) ...\n",
      "Setting up libqtgui4:amd64 (4:4.8.7+dfsg-7ubuntu1) ...\n",
      "Setting up qt-at-spi:amd64 (0.4.0-8) ...\n",
      "Setting up libqt4-designer:amd64 (4:4.8.7+dfsg-7ubuntu1) ...\n",
      "Setting up libqt4-help:amd64 (4:4.8.7+dfsg-7ubuntu1) ...\n",
      "Setting up libqt4-svg:amd64 (4:4.8.7+dfsg-7ubuntu1) ...\n",
      "Setting up libqt4-scripttools:amd64 (4:4.8.7+dfsg-7ubuntu1) ...\n",
      "Setting up python-qt4 (4.12.1+dfsg-2) ...\n",
      "Setting up python-pyface (4.5.2-1) ...\n",
      "Setting up python-traitsui (4.5.1-1) ...\n",
      "Setting up python-apptools (4.3.0-1) ...\n",
      "Setting up python-envisage (4.4.0-1) ...\n",
      "Setting up mayavi2 (4.5.0-1) ...\n",
      "Processing triggers for mime-support (3.60ubuntu1) ...\n",
      "Processing triggers for libc-bin (2.27-3ubuntu1) ...\n",
      "/sbin/ldconfig.real: /usr/local/lib/python3.6/dist-packages/ideep4py/lib/libmkldnn.so.0 is not a symbolic link\n",
      "\n",
      "Processing triggers for systemd (237-3ubuntu10.39) ...\n",
      "Processing triggers for man-db (2.8.3-2ubuntu0.1) ...\n",
      "Processing triggers for dbus (1.12.2-1ubuntu1.1) ...\n",
      "Processing triggers for hicolor-icon-theme (0.17-2) ...\n"
     ]
    }
   ],
   "source": [
    "!apt install mayavi2=4.5.0-1"
   ]
  },
  {
   "cell_type": "markdown",
   "metadata": {
    "colab_type": "text",
    "id": "YlHZjpib5Cb2"
   },
   "source": [
    "Since there is no display on colab, we set up a virtual display for Mayavi2."
   ]
  },
  {
   "cell_type": "code",
   "execution_count": 0,
   "metadata": {
    "colab": {
     "base_uri": "https://localhost:8080/",
     "height": 462
    },
    "colab_type": "code",
    "id": "EqZ1Qe9k3E2T",
    "outputId": "90fccbe8-cc03-416d-c090-df6139a1a035"
   },
   "outputs": [
    {
     "name": "stdout",
     "output_type": "stream",
     "text": [
      "Reading package lists... Done\n",
      "Building dependency tree       \n",
      "Reading state information... Done\n",
      "The following NEW packages will be installed:\n",
      "  xvfb\n",
      "0 upgraded, 1 newly installed, 0 to remove and 25 not upgraded.\n",
      "Need to get 784 kB of archives.\n",
      "After this operation, 2,266 kB of additional disk space will be used.\n",
      "Get:1 http://archive.ubuntu.com/ubuntu bionic-updates/universe amd64 xvfb amd64 2:1.19.6-1ubuntu4.4 [784 kB]\n",
      "Fetched 784 kB in 1s (705 kB/s)\n",
      "Selecting previously unselected package xvfb.\n",
      "(Reading database ... 143671 files and directories currently installed.)\n",
      "Preparing to unpack .../xvfb_2%3a1.19.6-1ubuntu4.4_amd64.deb ...\n",
      "Unpacking xvfb (2:1.19.6-1ubuntu4.4) ...\n",
      "Setting up xvfb (2:1.19.6-1ubuntu4.4) ...\n",
      "Processing triggers for man-db (2.8.3-2ubuntu0.1) ...\n",
      "Collecting pyvirtualdisplay==0.2.5\n",
      "  Downloading https://files.pythonhosted.org/packages/69/ec/8221a07850d69fa3c57c02e526edd23d18c7c05d58ed103e3b19172757c1/PyVirtualDisplay-0.2.5-py2.py3-none-any.whl\n",
      "Collecting EasyProcess\n",
      "  Downloading https://files.pythonhosted.org/packages/32/8f/88d636f1da22a3c573259e44cfefb46a117d3f9432e2c98b1ab4a21372ad/EasyProcess-0.2.10-py2.py3-none-any.whl\n",
      "Installing collected packages: EasyProcess, pyvirtualdisplay\n",
      "Successfully installed EasyProcess-0.2.10 pyvirtualdisplay-0.2.5\n"
     ]
    },
    {
     "name": "stderr",
     "output_type": "stream",
     "text": [
      "No handlers could be found for logger \"pyvirtualdisplay.abstractdisplay\"\n"
     ]
    }
   ],
   "source": [
    "!apt-get -y install xvfb=2:1.19.6-1ubuntu4.4\n",
    "!pip install pyvirtualdisplay==0.2.5\n",
    "\n",
    "from pyvirtualdisplay import Display\n",
    "import os\n",
    "\n",
    "display = Display(visible=0, size=(1280, 1024))\n",
    "display.start()\n",
    "os.environ[\"DISPLAY\"] = \":\" + str(display.display) + \".\" + str(display.screen)\n"
   ]
  },
  {
   "cell_type": "markdown",
   "metadata": {
    "colab_type": "text",
    "id": "VoX1kh7t_zFn"
   },
   "source": [
    "## Creating a Model"
   ]
  },
  {
   "cell_type": "markdown",
   "metadata": {
    "colab_type": "text",
    "id": "tIvfNf2F5mXz"
   },
   "source": [
    "Now we are ready, import the library."
   ]
  },
  {
   "cell_type": "code",
   "execution_count": 0,
   "metadata": {
    "colab": {},
    "colab_type": "code",
    "id": "es5ZAE995S5L"
   },
   "outputs": [],
   "source": [
    "import getfem as gf\n",
    "import numpy as np\n",
    "import pandas as pd\n",
    "import numpy.testing as npt\n"
   ]
  },
  {
   "cell_type": "markdown",
   "metadata": {
    "colab_type": "text",
    "id": "cWjPHP7y7NdL"
   },
   "source": [
    "The review cases are as follows. GetFEM++ uses FEM_PRODUCT and IM_PRODUCT to two-dimensional the finite element method and the integration method, respectively. For quadratic elements, the Gaussian integration point is 3. IM_GAUSS1D(K) represents the integration point of $K/2+1$ points. The element uses plane strain elements. Set up these meshes, the finite element method and the integration method."
   ]
  },
  {
   "cell_type": "code",
   "execution_count": 0,
   "metadata": {
    "colab": {},
    "colab_type": "code",
    "id": "niYaXPZ3jYCG"
   },
   "outputs": [],
   "source": [
    "cases = [\n",
    "    \"case11\",\n",
    "    \"case12\",\n",
    "    \"case13\",\n",
    "    \"case14\",\n",
    "    \"case21\",\n",
    "    \"case22\",\n",
    "    \"case23\",\n",
    "    \"case24\",\n",
    "    \"case31\",\n",
    "    \"case32\",\n",
    "    \"case33\",\n",
    "    \"case34\",\n",
    "    \"case41\",\n",
    "    \"case42\",\n",
    "    \"case43\",\n",
    "    \"case44\",\n",
    "]\n"
   ]
  },
  {
   "cell_type": "code",
   "execution_count": 0,
   "metadata": {
    "colab": {},
    "colab_type": "code",
    "id": "To0AdNjowMhs"
   },
   "outputs": [],
   "source": [
    "xs = [\n",
    "    4,\n",
    "    4,\n",
    "    4,\n",
    "    16,\n",
    "    4,\n",
    "    4,\n",
    "    4,\n",
    "    16,\n",
    "    4,\n",
    "    4,\n",
    "    4,\n",
    "    16,\n",
    "    4,\n",
    "    4,\n",
    "    4,\n",
    "    16,\n",
    "]\n",
    "ys = [\n",
    "    1,\n",
    "    2,\n",
    "    4,\n",
    "    8,\n",
    "    1,\n",
    "    2,\n",
    "    4,\n",
    "    8,\n",
    "    1,\n",
    "    2,\n",
    "    4,\n",
    "    8,\n",
    "    1,\n",
    "    2,\n",
    "    4,\n",
    "    8,\n",
    "]\n"
   ]
  },
  {
   "cell_type": "code",
   "execution_count": 0,
   "metadata": {
    "colab": {},
    "colab_type": "code",
    "id": "Q1YaMRRGifB5"
   },
   "outputs": [],
   "source": [
    "fem_names = [\n",
    "    \"FEM_PK(1, 2)\",\n",
    "    \"FEM_PK(1, 2)\",\n",
    "    \"FEM_PK(1, 2)\",\n",
    "    \"FEM_PK(1, 2)\",\n",
    "    \"FEM_PK(1, 1)\",\n",
    "    \"FEM_PK(1, 1)\",\n",
    "    \"FEM_PK(1, 1)\",\n",
    "    \"FEM_PK(1, 1)\",\n",
    "    \"FEM_PK(1, 1)\",\n",
    "    \"FEM_PK(1, 1)\",\n",
    "    \"FEM_PK(1, 1)\",\n",
    "    \"FEM_PK(1, 1)\",\n",
    "    \"FEM_PK_WITH_CUBIC_BUBBLE(1, 1)\",\n",
    "    \"FEM_PK_WITH_CUBIC_BUBBLE(1, 1)\",\n",
    "    \"FEM_PK_WITH_CUBIC_BUBBLE(1, 1)\",\n",
    "    \"FEM_PK_WITH_CUBIC_BUBBLE(1, 1)\",\n",
    "]\n"
   ]
  },
  {
   "cell_type": "code",
   "execution_count": 0,
   "metadata": {
    "colab": {},
    "colab_type": "code",
    "id": "DDwYsdjErcPw"
   },
   "outputs": [],
   "source": [
    "methods = [\n",
    "    \"IM_GAUSS1D(4)\",\n",
    "    \"IM_GAUSS1D(4)\",\n",
    "    \"IM_GAUSS1D(4)\",\n",
    "    \"IM_GAUSS1D(4)\",\n",
    "    \"IM_GAUSS1D(2)\",\n",
    "    \"IM_GAUSS1D(2)\",\n",
    "    \"IM_GAUSS1D(2)\",\n",
    "    \"IM_GAUSS1D(2)\",\n",
    "    \"IM_GAUSS1D(0)\",\n",
    "    \"IM_GAUSS1D(0)\",\n",
    "    \"IM_GAUSS1D(0)\",\n",
    "    \"IM_GAUSS1D(0)\",\n",
    "    \"IM_GAUSS1D(4)\",\n",
    "    \"IM_GAUSS1D(4)\",\n",
    "    \"IM_GAUSS1D(4)\",\n",
    "    \"IM_GAUSS1D(4)\",\n",
    "]\n"
   ]
  },
  {
   "cell_type": "code",
   "execution_count": 0,
   "metadata": {
    "colab": {
     "base_uri": "https://localhost:8080/",
     "height": 541
    },
    "colab_type": "code",
    "id": "7uNHImiSu_rm",
    "outputId": "1e371259-004d-4670-d8ec-e3e837a5ece0"
   },
   "outputs": [
    {
     "data": {
      "text/html": [
       "<div>\n",
       "<style scoped>\n",
       "    .dataframe tbody tr th:only-of-type {\n",
       "        vertical-align: middle;\n",
       "    }\n",
       "\n",
       "    .dataframe tbody tr th {\n",
       "        vertical-align: top;\n",
       "    }\n",
       "\n",
       "    .dataframe thead th {\n",
       "        text-align: right;\n",
       "    }\n",
       "</style>\n",
       "<table border=\"1\" class=\"dataframe\">\n",
       "  <thead>\n",
       "    <tr style=\"text-align: right;\">\n",
       "      <th></th>\n",
       "      <th>Case Name</th>\n",
       "      <th>Mesh</th>\n",
       "      <th>Finite Element Method</th>\n",
       "      <th>Integration Method</th>\n",
       "    </tr>\n",
       "  </thead>\n",
       "  <tbody>\n",
       "    <tr>\n",
       "      <th>0</th>\n",
       "      <td>case11</td>\n",
       "      <td>4x1</td>\n",
       "      <td>FEM_PK(1, 2)</td>\n",
       "      <td>IM_GAUSS1D(4)</td>\n",
       "    </tr>\n",
       "    <tr>\n",
       "      <th>1</th>\n",
       "      <td>case12</td>\n",
       "      <td>4x2</td>\n",
       "      <td>FEM_PK(1, 2)</td>\n",
       "      <td>IM_GAUSS1D(4)</td>\n",
       "    </tr>\n",
       "    <tr>\n",
       "      <th>2</th>\n",
       "      <td>case13</td>\n",
       "      <td>4x4</td>\n",
       "      <td>FEM_PK(1, 2)</td>\n",
       "      <td>IM_GAUSS1D(4)</td>\n",
       "    </tr>\n",
       "    <tr>\n",
       "      <th>3</th>\n",
       "      <td>case14</td>\n",
       "      <td>16x8</td>\n",
       "      <td>FEM_PK(1, 2)</td>\n",
       "      <td>IM_GAUSS1D(4)</td>\n",
       "    </tr>\n",
       "    <tr>\n",
       "      <th>4</th>\n",
       "      <td>case21</td>\n",
       "      <td>4x1</td>\n",
       "      <td>FEM_PK(1, 1)</td>\n",
       "      <td>IM_GAUSS1D(2)</td>\n",
       "    </tr>\n",
       "    <tr>\n",
       "      <th>5</th>\n",
       "      <td>case22</td>\n",
       "      <td>4x2</td>\n",
       "      <td>FEM_PK(1, 1)</td>\n",
       "      <td>IM_GAUSS1D(2)</td>\n",
       "    </tr>\n",
       "    <tr>\n",
       "      <th>6</th>\n",
       "      <td>case23</td>\n",
       "      <td>4x4</td>\n",
       "      <td>FEM_PK(1, 1)</td>\n",
       "      <td>IM_GAUSS1D(2)</td>\n",
       "    </tr>\n",
       "    <tr>\n",
       "      <th>7</th>\n",
       "      <td>case24</td>\n",
       "      <td>16x8</td>\n",
       "      <td>FEM_PK(1, 1)</td>\n",
       "      <td>IM_GAUSS1D(2)</td>\n",
       "    </tr>\n",
       "    <tr>\n",
       "      <th>8</th>\n",
       "      <td>case31</td>\n",
       "      <td>4x1</td>\n",
       "      <td>FEM_PK(1, 1)</td>\n",
       "      <td>IM_GAUSS1D(0)</td>\n",
       "    </tr>\n",
       "    <tr>\n",
       "      <th>9</th>\n",
       "      <td>case32</td>\n",
       "      <td>4x2</td>\n",
       "      <td>FEM_PK(1, 1)</td>\n",
       "      <td>IM_GAUSS1D(0)</td>\n",
       "    </tr>\n",
       "    <tr>\n",
       "      <th>10</th>\n",
       "      <td>case33</td>\n",
       "      <td>4x4</td>\n",
       "      <td>FEM_PK(1, 1)</td>\n",
       "      <td>IM_GAUSS1D(0)</td>\n",
       "    </tr>\n",
       "    <tr>\n",
       "      <th>11</th>\n",
       "      <td>case34</td>\n",
       "      <td>16x8</td>\n",
       "      <td>FEM_PK(1, 1)</td>\n",
       "      <td>IM_GAUSS1D(0)</td>\n",
       "    </tr>\n",
       "    <tr>\n",
       "      <th>12</th>\n",
       "      <td>case41</td>\n",
       "      <td>4x1</td>\n",
       "      <td>FEM_PK_WITH_CUBIC_BUBBLE(1, 1)</td>\n",
       "      <td>IM_GAUSS1D(4)</td>\n",
       "    </tr>\n",
       "    <tr>\n",
       "      <th>13</th>\n",
       "      <td>case42</td>\n",
       "      <td>4x2</td>\n",
       "      <td>FEM_PK_WITH_CUBIC_BUBBLE(1, 1)</td>\n",
       "      <td>IM_GAUSS1D(4)</td>\n",
       "    </tr>\n",
       "    <tr>\n",
       "      <th>14</th>\n",
       "      <td>case43</td>\n",
       "      <td>4x4</td>\n",
       "      <td>FEM_PK_WITH_CUBIC_BUBBLE(1, 1)</td>\n",
       "      <td>IM_GAUSS1D(4)</td>\n",
       "    </tr>\n",
       "    <tr>\n",
       "      <th>15</th>\n",
       "      <td>case44</td>\n",
       "      <td>16x8</td>\n",
       "      <td>FEM_PK_WITH_CUBIC_BUBBLE(1, 1)</td>\n",
       "      <td>IM_GAUSS1D(4)</td>\n",
       "    </tr>\n",
       "  </tbody>\n",
       "</table>\n",
       "</div>"
      ],
      "text/plain": [
       "   Case Name  Mesh           Finite Element Method Integration Method\n",
       "0     case11   4x1                    FEM_PK(1, 2)      IM_GAUSS1D(4)\n",
       "1     case12   4x2                    FEM_PK(1, 2)      IM_GAUSS1D(4)\n",
       "2     case13   4x4                    FEM_PK(1, 2)      IM_GAUSS1D(4)\n",
       "3     case14  16x8                    FEM_PK(1, 2)      IM_GAUSS1D(4)\n",
       "4     case21   4x1                    FEM_PK(1, 1)      IM_GAUSS1D(2)\n",
       "5     case22   4x2                    FEM_PK(1, 1)      IM_GAUSS1D(2)\n",
       "6     case23   4x4                    FEM_PK(1, 1)      IM_GAUSS1D(2)\n",
       "7     case24  16x8                    FEM_PK(1, 1)      IM_GAUSS1D(2)\n",
       "8     case31   4x1                    FEM_PK(1, 1)      IM_GAUSS1D(0)\n",
       "9     case32   4x2                    FEM_PK(1, 1)      IM_GAUSS1D(0)\n",
       "10    case33   4x4                    FEM_PK(1, 1)      IM_GAUSS1D(0)\n",
       "11    case34  16x8                    FEM_PK(1, 1)      IM_GAUSS1D(0)\n",
       "12    case41   4x1  FEM_PK_WITH_CUBIC_BUBBLE(1, 1)      IM_GAUSS1D(4)\n",
       "13    case42   4x2  FEM_PK_WITH_CUBIC_BUBBLE(1, 1)      IM_GAUSS1D(4)\n",
       "14    case43   4x4  FEM_PK_WITH_CUBIC_BUBBLE(1, 1)      IM_GAUSS1D(4)\n",
       "15    case44  16x8  FEM_PK_WITH_CUBIC_BUBBLE(1, 1)      IM_GAUSS1D(4)"
      ]
     },
     "execution_count": 9,
     "metadata": {
      "tags": []
     },
     "output_type": "execute_result"
    }
   ],
   "source": [
    "pd.options.display.float_format = \"{:.2f}\".format\n",
    "\n",
    "\n",
    "data = []\n",
    "\n",
    "columns = [\"Case Name\", \"Mesh\", \"Finite Element Method\", \"Integration Method\"]\n",
    "\n",
    "for case, x, y, fem_name, method in zip(cases, xs, ys, fem_names, methods):\n",
    "    data.append([case, str(x) + \"x\" + str(y), fem_name, method])\n",
    "\n",
    "df = pd.DataFrame(data=data, columns=columns)\n",
    "df\n"
   ]
  },
  {
   "cell_type": "markdown",
   "metadata": {
    "colab_type": "text",
    "id": "JB2ke7MEowxr"
   },
   "source": [
    "### Mesh\n",
    "\n",
    "The overall size of the model is L = 10 mm in length, h = 1 mm in height, and b = 1 mm in depth. In general, a slender ratio of 1: 10 is considered a beam element."
   ]
  },
  {
   "cell_type": "code",
   "execution_count": 0,
   "metadata": {
    "colab": {},
    "colab_type": "code",
    "id": "A6iUeElf8Wf2"
   },
   "outputs": [],
   "source": [
    "L = 10.0\n",
    "b = 1.0\n",
    "h = 1.0\n",
    "\n",
    "meshs = []\n",
    "\n",
    "for case, x, y in zip(cases, xs, ys):\n",
    "    X = np.arange(x + 1) * L / x\n",
    "    Y = np.arange(y + 1) * h / y\n",
    "    mesh = gf.Mesh(\"cartesian\", X, Y)\n",
    "    meshs.append(mesh)\n",
    "    mesh.export_to_vtk(\"mesh_\" + case + \".vtk\")\n"
   ]
  },
  {
   "cell_type": "markdown",
   "metadata": {
    "colab_type": "text",
    "id": "5tsdWFw3o7iZ"
   },
   "source": [
    "Outputs an image of each mesh."
   ]
  },
  {
   "cell_type": "code",
   "execution_count": 0,
   "metadata": {
    "colab": {
     "base_uri": "https://localhost:8080/",
     "height": 72
    },
    "colab_type": "code",
    "id": "rtbpws1NpGlF",
    "outputId": "453478ac-bdda-4c7d-d556-05e15abdaf0f"
   },
   "outputs": [
    {
     "name": "stderr",
     "output_type": "stream",
     "text": [
      "/usr/lib/python2.7/dist-packages/traits/etsconfig/etsconfig.py:429: UserWarning: Environment variable \"HOME\" not set, setting home directory to /tmp\n",
      "  (environment_variable, parent_directory))\n"
     ]
    },
    {
     "name": "stdout",
     "output_type": "stream",
     "text": [
      "Notebook initialized with x3d backend.\n"
     ]
    }
   ],
   "source": [
    "from mayavi import mlab\n",
    "\n",
    "mlab.init_notebook()\n",
    "\n",
    "for case in cases:\n",
    "    vtk_file_reader = mlab.pipeline.open(\"mesh_\" + case + \".vtk\")\n",
    "    extract_edges = mlab.pipeline.extract_edges(vtk_file_reader)\n",
    "    surface = mlab.pipeline.surface(extract_edges)\n",
    "    mlab.show()\n",
    "    mlab.savefig(\"mesh_\" + case + \".png\")\n",
    "    mlab.clf()\n"
   ]
  },
  {
   "cell_type": "code",
   "execution_count": 0,
   "metadata": {
    "colab": {
     "base_uri": "https://localhost:8080/",
     "height": 367
    },
    "colab_type": "code",
    "id": "HtMdJxpJqNaw",
    "outputId": "33d39318-609e-4a38-a9ab-d93ccd45ce3f"
   },
   "outputs": [
    {
     "data": {
      "image/png": "[encoded data removed]"
     },
     "metadata": {
      "tags": []
     },
     "output_type": "display_data"
    }
   ],
   "source": [
    "from IPython.display import Image, display_png\n",
    "\n",
    "display_png(Image(\"mesh_\" + cases[0] + \".png\"))\n"
   ]
  },
  {
   "cell_type": "code",
   "execution_count": 0,
   "metadata": {
    "colab": {
     "base_uri": "https://localhost:8080/",
     "height": 367
    },
    "colab_type": "code",
    "id": "hKK-Op-0qSWN",
    "outputId": "df8a21ee-dfd7-43af-a6cb-ce92a154cee3"
   },
   "outputs": [
    {
     "data": {
      "image/png": "[encoded data removed]"
     },
     "metadata": {
      "tags": []
     },
     "output_type": "display_data"
    }
   ],
   "source": [
    "from IPython.display import Image, display_png\n",
    "\n",
    "display_png(Image(\"mesh_\" + cases[1] + \".png\"))\n"
   ]
  },
  {
   "cell_type": "code",
   "execution_count": 0,
   "metadata": {
    "colab": {
     "base_uri": "https://localhost:8080/",
     "height": 367
    },
    "colab_type": "code",
    "id": "waCG51rWqUd9",
    "outputId": "8e05e7eb-6430-4a4e-a402-2ee996d89b97"
   },
   "outputs": [
    {
     "data": {
      "image/png": "[encoded data removed]"
     },
     "metadata": {
      "tags": []
     },
     "output_type": "display_data"
    }
   ],
   "source": [
    "from IPython.display import Image, display_png\n",
    "\n",
    "display_png(Image(\"mesh_\" + cases[2] + \".png\"))\n"
   ]
  },
  {
   "cell_type": "code",
   "execution_count": 0,
   "metadata": {
    "colab": {
     "base_uri": "https://localhost:8080/",
     "height": 367
    },
    "colab_type": "code",
    "id": "eebOMXDKqZ4e",
    "outputId": "5d3f7efe-b422-497e-f460-f2781cdeffc6"
   },
   "outputs": [
    {
     "data": {
      "image/png": "[encoded data removed]"
     },
     "metadata": {
      "tags": []
     },
     "output_type": "display_data"
    }
   ],
   "source": [
    "from IPython.display import Image, display_png\n",
    "\n",
    "display_png(Image(\"mesh_\" + cases[3] + \".png\"))\n"
   ]
  },
  {
   "cell_type": "markdown",
   "metadata": {
    "colab_type": "text",
    "id": "ft8YGlwgswMF"
   },
   "source": [
    "### Region\n",
    "\n",
    "Sets the area on the left side of the mesh where the Dirichlet condition is set. The right side sets the area for setting the Neumann condition."
   ]
  },
  {
   "cell_type": "code",
   "execution_count": 0,
   "metadata": {
    "colab": {},
    "colab_type": "code",
    "id": "KHZ87B4NuVkH"
   },
   "outputs": [],
   "source": [
    "TOP_BOUND = 1\n",
    "RIGHT_BOUND = 2\n",
    "LEFT_BOUND = 3\n",
    "BOTTOM_BOUND = 4\n",
    "\n",
    "for mesh in meshs:\n",
    "    fb1 = mesh.outer_faces_with_direction([0.0, 1.0], 0.01)\n",
    "    fb2 = mesh.outer_faces_with_direction([1.0, 0.0], 0.01)\n",
    "    fb3 = mesh.outer_faces_with_direction([-1.0, 0.0], 0.01)\n",
    "    fb4 = mesh.outer_faces_with_direction([0.0, -1.0], 0.01)\n",
    "    mesh.set_region(TOP_BOUND, fb1)\n",
    "    mesh.set_region(RIGHT_BOUND, fb2)\n",
    "    mesh.set_region(LEFT_BOUND, fb3)\n",
    "    mesh.set_region(BOTTOM_BOUND, fb4)\n"
   ]
  },
  {
   "cell_type": "markdown",
   "metadata": {
    "colab_type": "text",
    "id": "wmc1X8kxuI0U"
   },
   "source": [
    "### Finite Element Method\n",
    "Create a MeshFem object and associate the mesh with the finite element method."
   ]
  },
  {
   "cell_type": "code",
   "execution_count": 0,
   "metadata": {
    "colab": {},
    "colab_type": "code",
    "id": "BZMl4G9fuHNw"
   },
   "outputs": [],
   "source": [
    "fems = []\n",
    "for fem_name in fem_names:\n",
    "    fems.append(gf.Fem(\"FEM_PRODUCT(\" + fem_name + \",\" + fem_name + \")\"))\n"
   ]
  },
  {
   "cell_type": "code",
   "execution_count": 0,
   "metadata": {
    "colab": {},
    "colab_type": "code",
    "id": "Cmfiow4MviZF"
   },
   "outputs": [],
   "source": [
    "mfus = []\n",
    "for mesh, fem in zip(meshs, fems):\n",
    "    mfu = gf.MeshFem(mesh, 2)\n",
    "    mfu.set_fem(fem)\n",
    "    mfus.append(mfu)\n"
   ]
  },
  {
   "cell_type": "markdown",
   "metadata": {
    "colab_type": "text",
    "id": "DsCLZKKfwrpx"
   },
   "source": [
    "### Integral method\n",
    "Associate the integration method with the mesh."
   ]
  },
  {
   "cell_type": "code",
   "execution_count": 0,
   "metadata": {
    "colab": {},
    "colab_type": "code",
    "id": "XyAaD48IwA0r"
   },
   "outputs": [],
   "source": [
    "ims = []\n",
    "for method in methods:\n",
    "    ims.append(gf.Integ(\"IM_PRODUCT(\" + method + \", \" + method + \")\"))\n"
   ]
  },
  {
   "cell_type": "code",
   "execution_count": 0,
   "metadata": {
    "colab": {},
    "colab_type": "code",
    "id": "MzAy5F_XxyVU"
   },
   "outputs": [],
   "source": [
    "mims = []\n",
    "for mesh, im in zip(meshs, ims):\n",
    "    mim = gf.MeshIm(mesh, im)\n",
    "    mims.append(mim)\n"
   ]
  },
  {
   "cell_type": "markdown",
   "metadata": {
    "colab_type": "text",
    "id": "inmXMhiDzynb"
   },
   "source": [
    "### Variable\n",
    "Define the model object and set the variable \"u\"."
   ]
  },
  {
   "cell_type": "code",
   "execution_count": 0,
   "metadata": {
    "colab": {},
    "colab_type": "code",
    "id": "GQU-6EO-zbe0"
   },
   "outputs": [],
   "source": [
    "mds = []\n",
    "for mfu in mfus:\n",
    "    md = gf.Model(\"real\")\n",
    "    md.add_fem_variable(\"u\", mfu)\n",
    "    mds.append(md)\n"
   ]
  },
  {
   "cell_type": "markdown",
   "metadata": {
    "colab_type": "text",
    "id": "iZZsWtD21d93"
   },
   "source": [
    "### Properties\n",
    "Define properties as constants for the model object. The Young's modulus of steel is $E = 205000\\times 10^6N/m^2$. Also set Poisson's ratio $\\nu = 0.0$ to ignore the Poisson effect."
   ]
  },
  {
   "cell_type": "code",
   "execution_count": 0,
   "metadata": {
    "colab": {},
    "colab_type": "code",
    "id": "9QjugTGu14Gj"
   },
   "outputs": [],
   "source": [
    "E = 10000  # N/mm2\n",
    "Nu = 0.0\n",
    "\n",
    "for md in mds:\n",
    "    md.add_initialized_data(\"E\", E)\n",
    "    md.add_initialized_data(\"Nu\", Nu)\n"
   ]
  },
  {
   "cell_type": "markdown",
   "metadata": {
    "colab_type": "text",
    "id": "gSF5W36n00E7"
   },
   "source": [
    "### Plane Strain Element\n",
    "Defines the plane strain element for variable 'u'."
   ]
  },
  {
   "cell_type": "code",
   "execution_count": 0,
   "metadata": {
    "colab": {},
    "colab_type": "code",
    "id": "BYQ4PrIezwcM"
   },
   "outputs": [],
   "source": [
    "for md, mim in zip(mds, mims):\n",
    "    md.add_isotropic_linearized_elasticity_brick_pstrain(mim, \"u\", \"E\", \"Nu\")\n"
   ]
  },
  {
   "cell_type": "markdown",
   "metadata": {
    "colab_type": "text",
    "id": "hPQ4wVVM3iK8"
   },
   "source": [
    "### Boundary Conditions\n",
    "\n",
    "Set the Dirichlet condition for the region on the left side."
   ]
  },
  {
   "cell_type": "code",
   "execution_count": 0,
   "metadata": {
    "colab": {},
    "colab_type": "code",
    "id": "P-rLV-Bp24II"
   },
   "outputs": [],
   "source": [
    "for (md, mim, mfu, fem) in zip(mds, mims, mfus, fems):\n",
    "    if fem.is_lagrange():\n",
    "        md.add_Dirichlet_condition_with_simplification(\"u\", LEFT_BOUND)\n",
    "    else:\n",
    "        md.add_Dirichlet_condition_with_multipliers(mim, \"u\", mfu, LEFT_BOUND)\n"
   ]
  },
  {
   "cell_type": "markdown",
   "metadata": {
    "colab_type": "text",
    "id": "7WMVp20z5Nhh"
   },
   "source": [
    "Set the Neumann boundary condition on the right side."
   ]
  },
  {
   "cell_type": "code",
   "execution_count": 0,
   "metadata": {
    "colab": {},
    "colab_type": "code",
    "id": "58PYqaOb45Tk"
   },
   "outputs": [],
   "source": [
    "F = 1.0  # N/mm2\n",
    "for (md, mfu, mim) in zip(mds, mfus, mims):\n",
    "    md.add_initialized_data(\"F\", [0, F / (b * h)])\n",
    "    md.add_source_term_brick(mim, \"u\", \"F\", RIGHT_BOUND)\n"
   ]
  },
  {
   "cell_type": "markdown",
   "metadata": {
    "colab_type": "text",
    "id": "wzRniIhB-sEI"
   },
   "source": [
    "## Solve\n",
    "\n",
    "Solve the simultaneous equations of the model object to find the value of the variable 'u'."
   ]
  },
  {
   "cell_type": "code",
   "execution_count": 0,
   "metadata": {
    "colab": {},
    "colab_type": "code",
    "id": "Ga_ybGEB_COm"
   },
   "outputs": [],
   "source": [
    "for md in mds:\n",
    "    md.solve()\n"
   ]
  },
  {
   "cell_type": "markdown",
   "metadata": {
    "colab_type": "text",
    "id": "n948RG_OBhMB"
   },
   "source": [
    "After solving simultaneous equations, the right side rhs can be output. The sum of the right-hand terms equals $F*b*h$."
   ]
  },
  {
   "cell_type": "code",
   "execution_count": 0,
   "metadata": {
    "colab": {},
    "colab_type": "code",
    "id": "KyyvtZc6Bzor"
   },
   "outputs": [],
   "source": [
    "#for case, md in zip(cases, mds):\n",
    "#    npt.assert_almost_equal(sum(md.rhs()), F*b*h)\n"
   ]
  },
  {
   "cell_type": "markdown",
   "metadata": {
    "colab_type": "text",
    "id": "DFU32bi0tBaL"
   },
   "source": [
    "The constraint on the left end has a displacement of 0.0."
   ]
  },
  {
   "cell_type": "code",
   "execution_count": 0,
   "metadata": {
    "colab": {},
    "colab_type": "code",
    "id": "cRGXMmgbtK4N"
   },
   "outputs": [],
   "source": [
    "for md, mfu, case in zip(mds, mfus, cases):\n",
    "    u = md.variable('u')\n",
    "    dof = mfu.basic_dof_on_region(LEFT_BOUND)\n",
    "    npt.assert_almost_equal(abs(np.max(u[dof])), 0.0)"
   ]
  },
  {
   "cell_type": "markdown",
   "metadata": {
    "colab_type": "text",
    "id": "H0p8QbwA_Ss6"
   },
   "source": [
    "## Review results\n",
    "\n",
    "Output and visualize the results of each case to vtk files."
   ]
  },
  {
   "cell_type": "code",
   "execution_count": 0,
   "metadata": {
    "colab": {},
    "colab_type": "code",
    "id": "Yfz9hDGJAZKc"
   },
   "outputs": [],
   "source": [
    "for md, mfu, case in zip(mds, mfus, cases):\n",
    "    u = md.variable(\"u\")\n",
    "    mfu.export_to_vtk(\"u_\" + case + \".vtk\", \"ascii\", mfu, u, \"u\")\n"
   ]
  },
  {
   "cell_type": "code",
   "execution_count": 0,
   "metadata": {
    "colab": {
     "base_uri": "https://localhost:8080/",
     "height": 36
    },
    "colab_type": "code",
    "id": "xff7bVY_Ar-0",
    "outputId": "d83b5453-83f2-4855-835a-680525d6e85e"
   },
   "outputs": [
    {
     "name": "stdout",
     "output_type": "stream",
     "text": [
      "Notebook initialized with x3d backend.\n"
     ]
    }
   ],
   "source": [
    "from mayavi import mlab\n",
    "\n",
    "mlab.init_notebook()\n",
    "\n",
    "for case in cases:\n",
    "    vtk_file_reader = mlab.pipeline.open(\"u_\" + case + \".vtk\")\n",
    "    extract_edges = mlab.pipeline.extract_edges(vtk_file_reader)\n",
    "    warp_vector = mlab.pipeline.warp_vector(extract_edges)\n",
    "    surface = mlab.pipeline.surface(warp_vector)\n",
    "    mlab.show()\n",
    "    mlab.savefig(\"u_\" + case + \".png\")\n",
    "    mlab.clf()\n"
   ]
  },
  {
   "cell_type": "markdown",
   "metadata": {
    "colab_type": "text",
    "id": "qnJP7kAfe9R5"
   },
   "source": [
    "### Computation of Theoretical Solutions\n",
    "Calculates the deflection at each coordinate for comparison with the theoretical solution. The theoretical solution for a cantilever beam subjected to a concentrated load is as follows.\n",
    "\n",
    "$w\\left(x\\right)=\\dfrac{FL^3}{3EI}$"
   ]
  },
  {
   "cell_type": "code",
   "execution_count": 0,
   "metadata": {
    "colab": {
     "base_uri": "https://localhost:8080/",
     "height": 36
    },
    "colab_type": "code",
    "id": "UMmE4D_If7bl",
    "outputId": "8c88948e-6c26-4870-c8ff-8cf753f2ab31"
   },
   "outputs": [
    {
     "data": {
      "text/plain": [
       "0.4"
      ]
     },
     "execution_count": 30,
     "metadata": {
      "tags": []
     },
     "output_type": "execute_result"
    }
   ],
   "source": [
    "I = b * h ** 3 / 12\n",
    "w = F * L ** 3 / (3 * E * I)\n",
    "w\n"
   ]
  },
  {
   "cell_type": "markdown",
   "metadata": {
    "colab_type": "text",
    "id": "69vtNG2wNwsH"
   },
   "source": [
    "### deformation diagram of case11"
   ]
  },
  {
   "cell_type": "code",
   "execution_count": 0,
   "metadata": {
    "colab": {
     "base_uri": "https://localhost:8080/",
     "height": 367
    },
    "colab_type": "code",
    "id": "mtC4Fh8uEJ6d",
    "outputId": "d1ac4ed9-1e66-4e4c-d723-42d384b21f5c"
   },
   "outputs": [
    {
     "data": {
      "image/png": "[encoded data removed]"
     },
     "metadata": {
      "tags": []
     },
     "output_type": "display_data"
    }
   ],
   "source": [
    "from IPython.display import Image, display_png\n",
    "\n",
    "display_png(Image(\"u_\" + \"case11\" + \".png\"))\n"
   ]
  },
  {
   "cell_type": "markdown",
   "metadata": {
    "colab_type": "text",
    "id": "ptYbOWxXOuYZ"
   },
   "source": [
    "### deformation diagram of case12"
   ]
  },
  {
   "cell_type": "code",
   "execution_count": 0,
   "metadata": {
    "colab": {
     "base_uri": "https://localhost:8080/",
     "height": 367
    },
    "colab_type": "code",
    "id": "eP3m4aNDHo0o",
    "outputId": "123e8207-e871-4172-fc50-6b691e22e54a"
   },
   "outputs": [
    {
     "data": {
      "image/png": "[encoded data removed]"
     },
     "metadata": {
      "tags": []
     },
     "output_type": "display_data"
    }
   ],
   "source": [
    "from IPython.display import Image, display_png\n",
    "\n",
    "display_png(Image(\"u_\" + \"case12\" + \".png\"))\n"
   ]
  },
  {
   "cell_type": "markdown",
   "metadata": {
    "colab_type": "text",
    "id": "17AGRkZ2PFa7"
   },
   "source": [
    "### deformation diagram of case13"
   ]
  },
  {
   "cell_type": "code",
   "execution_count": 0,
   "metadata": {
    "colab": {
     "base_uri": "https://localhost:8080/",
     "height": 367
    },
    "colab_type": "code",
    "id": "1WSB1NhJJ6Gk",
    "outputId": "6e8f453f-1a76-4500-849f-e3e5c41bb5a8"
   },
   "outputs": [
    {
     "data": {
      "image/png": "[encoded data removed]"
     },
     "metadata": {
      "tags": []
     },
     "output_type": "display_data"
    }
   ],
   "source": [
    "from IPython.display import Image, display_png\n",
    "\n",
    "display_png(Image(\"u_\" + \"case13\" + \".png\"))\n"
   ]
  },
  {
   "cell_type": "markdown",
   "metadata": {
    "colab_type": "text",
    "id": "jc2cZkG5PIVw"
   },
   "source": [
    "### deformation diagram of case14"
   ]
  },
  {
   "cell_type": "code",
   "execution_count": 0,
   "metadata": {
    "colab": {
     "base_uri": "https://localhost:8080/",
     "height": 367
    },
    "colab_type": "code",
    "id": "YLdfHTXrJ778",
    "outputId": "9fb8629a-580d-43c4-b424-828854b0f45f"
   },
   "outputs": [
    {
     "data": {
      "image/png": "[encoded data removed]"
     },
     "metadata": {
      "tags": []
     },
     "output_type": "display_data"
    }
   ],
   "source": [
    "from IPython.display import Image, display_png\n",
    "\n",
    "display_png(Image(\"u_\" + \"case14\" + \".png\"))\n"
   ]
  },
  {
   "cell_type": "markdown",
   "metadata": {
    "colab_type": "text",
    "id": "HwiVdED1PKzD"
   },
   "source": [
    "### deformation diagram of case21"
   ]
  },
  {
   "cell_type": "code",
   "execution_count": 0,
   "metadata": {
    "colab": {
     "base_uri": "https://localhost:8080/",
     "height": 367
    },
    "colab_type": "code",
    "id": "kON4lrbaJ9xk",
    "outputId": "a26cc060-7581-4d44-e906-09ba1e29fa07"
   },
   "outputs": [
    {
     "data": {
      "image/png": "[encoded data removed]"
     },
     "metadata": {
      "tags": []
     },
     "output_type": "display_data"
    }
   ],
   "source": [
    "from IPython.display import Image, display_png\n",
    "\n",
    "display_png(Image(\"u_\" + \"case21\" + \".png\"))\n"
   ]
  },
  {
   "cell_type": "markdown",
   "metadata": {
    "colab_type": "text",
    "id": "jCV589NKPTpf"
   },
   "source": [
    "### deformation diagram of case22"
   ]
  },
  {
   "cell_type": "code",
   "execution_count": 0,
   "metadata": {
    "colab": {
     "base_uri": "https://localhost:8080/",
     "height": 367
    },
    "colab_type": "code",
    "id": "as9IYstcKATw",
    "outputId": "4520348e-8916-4d37-ae81-5ad6d66408ae"
   },
   "outputs": [
    {
     "data": {
      "image/png": "[encoded data removed]"
     },
     "metadata": {
      "tags": []
     },
     "output_type": "display_data"
    }
   ],
   "source": [
    "from IPython.display import Image, display_png\n",
    "\n",
    "display_png(Image(\"u_\" + \"case22\" + \".png\"))\n"
   ]
  },
  {
   "cell_type": "markdown",
   "metadata": {
    "colab_type": "text",
    "id": "PY_KrYPAPQ_K"
   },
   "source": [
    "### deformation diagram of case23"
   ]
  },
  {
   "cell_type": "code",
   "execution_count": 0,
   "metadata": {
    "colab": {
     "base_uri": "https://localhost:8080/",
     "height": 367
    },
    "colab_type": "code",
    "id": "XTqMfwfdKBl2",
    "outputId": "3b999ef8-6deb-4487-ea3b-2a4b23377082"
   },
   "outputs": [
    {
     "data": {
      "image/png": "[encoded data removed]"
     },
     "metadata": {
      "tags": []
     },
     "output_type": "display_data"
    }
   ],
   "source": [
    "from IPython.display import Image, display_png\n",
    "\n",
    "display_png(Image(\"u_\" + \"case23\" + \".png\"))\n"
   ]
  },
  {
   "cell_type": "markdown",
   "metadata": {
    "colab_type": "text",
    "id": "Osw87MFZPXHn"
   },
   "source": [
    "### deformation diagram of case24"
   ]
  },
  {
   "cell_type": "code",
   "execution_count": 0,
   "metadata": {
    "colab": {
     "base_uri": "https://localhost:8080/",
     "height": 367
    },
    "colab_type": "code",
    "id": "u0iE0RcYKC5i",
    "outputId": "78ac7c35-b029-423b-c757-7bdcfa955e0e"
   },
   "outputs": [
    {
     "data": {
      "image/png": "[encoded data removed]"
     },
     "metadata": {
      "tags": []
     },
     "output_type": "display_data"
    }
   ],
   "source": [
    "from IPython.display import Image, display_png\n",
    "\n",
    "display_png(Image(\"u_\" + \"case24\" + \".png\"))\n"
   ]
  },
  {
   "cell_type": "markdown",
   "metadata": {
    "colab_type": "text",
    "id": "rQyj1kJzPaU_"
   },
   "source": [
    "### deformation diagram of case31"
   ]
  },
  {
   "cell_type": "code",
   "execution_count": 0,
   "metadata": {
    "colab": {
     "base_uri": "https://localhost:8080/",
     "height": 367
    },
    "colab_type": "code",
    "id": "bWNLQzmNKEA4",
    "outputId": "73d377fa-b532-4e89-9759-5ad91e41b377"
   },
   "outputs": [
    {
     "data": {
      "image/png": "[encoded data removed]"
     },
     "metadata": {
      "tags": []
     },
     "output_type": "display_data"
    }
   ],
   "source": [
    "from IPython.display import Image, display_png\n",
    "\n",
    "display_png(Image(\"u_\" + \"case31\" + \".png\"))\n"
   ]
  },
  {
   "cell_type": "markdown",
   "metadata": {
    "colab_type": "text",
    "id": "dEOU6jZLPdgE"
   },
   "source": [
    "### deformation diagram of case32"
   ]
  },
  {
   "cell_type": "code",
   "execution_count": 0,
   "metadata": {
    "colab": {
     "base_uri": "https://localhost:8080/",
     "height": 367
    },
    "colab_type": "code",
    "id": "3yFyuP9NKFud",
    "outputId": "557ea6fd-d760-47ac-a26d-a8c6cf4e8bc8"
   },
   "outputs": [
    {
     "data": {
      "image/png": "[encoded data removed]"
     },
     "metadata": {
      "tags": []
     },
     "output_type": "display_data"
    }
   ],
   "source": [
    "from IPython.display import Image, display_png\n",
    "\n",
    "display_png(Image(\"u_\" + \"case32\" + \".png\"))\n"
   ]
  },
  {
   "cell_type": "markdown",
   "metadata": {
    "colab_type": "text",
    "id": "Cn7FuHVNPfUt"
   },
   "source": [
    "### deformation diagram of case33"
   ]
  },
  {
   "cell_type": "code",
   "execution_count": 0,
   "metadata": {
    "colab": {
     "base_uri": "https://localhost:8080/",
     "height": 367
    },
    "colab_type": "code",
    "id": "zEaysK3GKG5H",
    "outputId": "d3027abb-eb63-41ce-cd75-8a36817c9f58"
   },
   "outputs": [
    {
     "data": {
      "image/png": "[encoded data removed]"
     },
     "metadata": {
      "tags": []
     },
     "output_type": "display_data"
    }
   ],
   "source": [
    "from IPython.display import Image, display_png\n",
    "\n",
    "display_png(Image(\"u_\" + \"case33\" + \".png\"))\n"
   ]
  },
  {
   "cell_type": "markdown",
   "metadata": {
    "colab_type": "text",
    "id": "9fnw5pfXPhNq"
   },
   "source": [
    "### deformation diagram of case34"
   ]
  },
  {
   "cell_type": "code",
   "execution_count": 0,
   "metadata": {
    "colab": {
     "base_uri": "https://localhost:8080/",
     "height": 367
    },
    "colab_type": "code",
    "id": "qDBpneknKIJj",
    "outputId": "8f7f4574-bea1-49e5-bb03-d0480b8fb0ae"
   },
   "outputs": [
    {
     "data": {
      "image/png": "[encoded data removed]"
     },
     "metadata": {
      "tags": []
     },
     "output_type": "display_data"
    }
   ],
   "source": [
    "from IPython.display import Image, display_png\n",
    "\n",
    "display_png(Image(\"u_\" + \"case34\" + \".png\"))\n"
   ]
  },
  {
   "cell_type": "markdown",
   "metadata": {
    "colab_type": "text",
    "id": "MCKqxPBIPjCX"
   },
   "source": [
    "### deformation diagram of case41"
   ]
  },
  {
   "cell_type": "code",
   "execution_count": 0,
   "metadata": {
    "colab": {
     "base_uri": "https://localhost:8080/",
     "height": 367
    },
    "colab_type": "code",
    "id": "qhwFR0bnKJYR",
    "outputId": "1733b93b-f702-47ff-ee36-22093e6ac76a"
   },
   "outputs": [
    {
     "data": {
      "image/png": "[encoded data removed]"
     },
     "metadata": {
      "tags": []
     },
     "output_type": "display_data"
    }
   ],
   "source": [
    "from IPython.display import Image, display_png\n",
    "\n",
    "display_png(Image(\"u_\" + \"case41\" + \".png\"))\n"
   ]
  },
  {
   "cell_type": "markdown",
   "metadata": {
    "colab_type": "text",
    "id": "UJM9mumLPlsK"
   },
   "source": [
    "### deformation diagram of case42"
   ]
  },
  {
   "cell_type": "code",
   "execution_count": 0,
   "metadata": {
    "colab": {
     "base_uri": "https://localhost:8080/",
     "height": 367
    },
    "colab_type": "code",
    "id": "gJ11AuTIKKnr",
    "outputId": "a77df3d5-b57f-452f-d59e-e24722c0345a"
   },
   "outputs": [
    {
     "data": {
      "image/png": "[encoded data removed]"
     },
     "metadata": {
      "tags": []
     },
     "output_type": "display_data"
    }
   ],
   "source": [
    "from IPython.display import Image, display_png\n",
    "\n",
    "display_png(Image(\"u_\" + \"case42\" + \".png\"))\n"
   ]
  },
  {
   "cell_type": "markdown",
   "metadata": {
    "colab_type": "text",
    "id": "EVLdO58BPnsP"
   },
   "source": [
    "### deformation diagram of case43"
   ]
  },
  {
   "cell_type": "code",
   "execution_count": 0,
   "metadata": {
    "colab": {
     "base_uri": "https://localhost:8080/",
     "height": 367
    },
    "colab_type": "code",
    "id": "FEqhs7RbKNAr",
    "outputId": "85df7b82-ea6d-4628-9872-75afb90dbb05"
   },
   "outputs": [
    {
     "data": {
      "image/png": "[encoded data removed]"
     },
     "metadata": {
      "tags": []
     },
     "output_type": "display_data"
    }
   ],
   "source": [
    "from IPython.display import Image, display_png\n",
    "\n",
    "display_png(Image(\"u_\" + \"case43\" + \".png\"))\n"
   ]
  },
  {
   "cell_type": "markdown",
   "metadata": {
    "colab_type": "text",
    "id": "2QVCW0t6PpcY"
   },
   "source": [
    "### deformation diagram of case44"
   ]
  },
  {
   "cell_type": "code",
   "execution_count": 0,
   "metadata": {
    "colab": {
     "base_uri": "https://localhost:8080/",
     "height": 367
    },
    "colab_type": "code",
    "id": "ajFVdPM8KOIy",
    "outputId": "0a89e108-f4c5-4900-bdab-d8431375bcc0"
   },
   "outputs": [
    {
     "data": {
      "image/png": "[encoded data removed]"
     },
     "metadata": {
      "tags": []
     },
     "output_type": "display_data"
    }
   ],
   "source": [
    "from IPython.display import Image, display_png\n",
    "\n",
    "display_png(Image(\"u_\" + \"case44\" + \".png\"))\n"
   ]
  },
  {
   "cell_type": "markdown",
   "metadata": {
    "colab_type": "text",
    "id": "HngL2tNXPrem"
   },
   "source": [
    "### Comparison with Theoretical Solutions"
   ]
  },
  {
   "cell_type": "code",
   "execution_count": 0,
   "metadata": {
    "colab": {
     "base_uri": "https://localhost:8080/",
     "height": 36
    },
    "colab_type": "code",
    "id": "WKnwa4FSKP37",
    "outputId": "f00200fb-f2b7-4c88-b780-569b526c1d49"
   },
   "outputs": [
    {
     "data": {
      "text/plain": [
       "0.4"
      ]
     },
     "execution_count": 47,
     "metadata": {
      "tags": []
     },
     "output_type": "execute_result"
    }
   ],
   "source": [
    "b = 1.0\n",
    "I = b*h**3.0/12.0\n",
    "dmax = 1.0/3.0*(F*L**3)/(E*I)\n",
    "dmax"
   ]
  },
  {
   "cell_type": "markdown",
   "metadata": {
    "colab_type": "text",
    "id": "4b_vSpwXVuaK"
   },
   "source": [
    "Calculates the ratio of deformation to theoretical solution for each case.\n"
   ]
  },
  {
   "cell_type": "code",
   "execution_count": 0,
   "metadata": {
    "colab": {
     "base_uri": "https://localhost:8080/",
     "height": 541
    },
    "colab_type": "code",
    "id": "Bgo8KTz2bXZV",
    "outputId": "4a78aa1a-0559-482d-9367-43a66faf8d18"
   },
   "outputs": [
    {
     "data": {
      "text/html": [
       "<div>\n",
       "<style scoped>\n",
       "    .dataframe tbody tr th:only-of-type {\n",
       "        vertical-align: middle;\n",
       "    }\n",
       "\n",
       "    .dataframe tbody tr th {\n",
       "        vertical-align: top;\n",
       "    }\n",
       "\n",
       "    .dataframe thead th {\n",
       "        text-align: right;\n",
       "    }\n",
       "</style>\n",
       "<table border=\"1\" class=\"dataframe\">\n",
       "  <thead>\n",
       "    <tr style=\"text-align: right;\">\n",
       "      <th></th>\n",
       "      <th>case name</th>\n",
       "      <th>mesh</th>\n",
       "      <th>finite element method</th>\n",
       "      <th>integration method</th>\n",
       "      <th>ratio with theory</th>\n",
       "    </tr>\n",
       "  </thead>\n",
       "  <tbody>\n",
       "    <tr>\n",
       "      <th>0</th>\n",
       "      <td>case11</td>\n",
       "      <td>4x1</td>\n",
       "      <td>FEM_PK(1, 2)</td>\n",
       "      <td>IM_GAUSS1D(4)</td>\n",
       "      <td>1.00</td>\n",
       "    </tr>\n",
       "    <tr>\n",
       "      <th>1</th>\n",
       "      <td>case12</td>\n",
       "      <td>4x2</td>\n",
       "      <td>FEM_PK(1, 2)</td>\n",
       "      <td>IM_GAUSS1D(4)</td>\n",
       "      <td>1.00</td>\n",
       "    </tr>\n",
       "    <tr>\n",
       "      <th>2</th>\n",
       "      <td>case13</td>\n",
       "      <td>4x4</td>\n",
       "      <td>FEM_PK(1, 2)</td>\n",
       "      <td>IM_GAUSS1D(4)</td>\n",
       "      <td>1.00</td>\n",
       "    </tr>\n",
       "    <tr>\n",
       "      <th>3</th>\n",
       "      <td>case14</td>\n",
       "      <td>16x8</td>\n",
       "      <td>FEM_PK(1, 2)</td>\n",
       "      <td>IM_GAUSS1D(4)</td>\n",
       "      <td>1.01</td>\n",
       "    </tr>\n",
       "    <tr>\n",
       "      <th>4</th>\n",
       "      <td>case21</td>\n",
       "      <td>4x1</td>\n",
       "      <td>FEM_PK(1, 1)</td>\n",
       "      <td>IM_GAUSS1D(2)</td>\n",
       "      <td>0.24</td>\n",
       "    </tr>\n",
       "    <tr>\n",
       "      <th>5</th>\n",
       "      <td>case22</td>\n",
       "      <td>4x2</td>\n",
       "      <td>FEM_PK(1, 1)</td>\n",
       "      <td>IM_GAUSS1D(2)</td>\n",
       "      <td>0.24</td>\n",
       "    </tr>\n",
       "    <tr>\n",
       "      <th>6</th>\n",
       "      <td>case23</td>\n",
       "      <td>4x4</td>\n",
       "      <td>FEM_PK(1, 1)</td>\n",
       "      <td>IM_GAUSS1D(2)</td>\n",
       "      <td>0.24</td>\n",
       "    </tr>\n",
       "    <tr>\n",
       "      <th>7</th>\n",
       "      <td>case24</td>\n",
       "      <td>16x8</td>\n",
       "      <td>FEM_PK(1, 1)</td>\n",
       "      <td>IM_GAUSS1D(2)</td>\n",
       "      <td>0.84</td>\n",
       "    </tr>\n",
       "    <tr>\n",
       "      <th>8</th>\n",
       "      <td>case31</td>\n",
       "      <td>4x1</td>\n",
       "      <td>FEM_PK(1, 1)</td>\n",
       "      <td>IM_GAUSS1D(0)</td>\n",
       "      <td>65235544550.74</td>\n",
       "    </tr>\n",
       "    <tr>\n",
       "      <th>9</th>\n",
       "      <td>case32</td>\n",
       "      <td>4x2</td>\n",
       "      <td>FEM_PK(1, 1)</td>\n",
       "      <td>IM_GAUSS1D(0)</td>\n",
       "      <td>1.32</td>\n",
       "    </tr>\n",
       "    <tr>\n",
       "      <th>10</th>\n",
       "      <td>case33</td>\n",
       "      <td>4x4</td>\n",
       "      <td>FEM_PK(1, 1)</td>\n",
       "      <td>IM_GAUSS1D(0)</td>\n",
       "      <td>1.06</td>\n",
       "    </tr>\n",
       "    <tr>\n",
       "      <th>11</th>\n",
       "      <td>case34</td>\n",
       "      <td>16x8</td>\n",
       "      <td>FEM_PK(1, 1)</td>\n",
       "      <td>IM_GAUSS1D(0)</td>\n",
       "      <td>1.02</td>\n",
       "    </tr>\n",
       "    <tr>\n",
       "      <th>12</th>\n",
       "      <td>case41</td>\n",
       "      <td>4x1</td>\n",
       "      <td>FEM_PK_WITH_CUBIC_BUBBLE(1, 1)</td>\n",
       "      <td>IM_GAUSS1D(4)</td>\n",
       "      <td>1.00</td>\n",
       "    </tr>\n",
       "    <tr>\n",
       "      <th>13</th>\n",
       "      <td>case42</td>\n",
       "      <td>4x2</td>\n",
       "      <td>FEM_PK_WITH_CUBIC_BUBBLE(1, 1)</td>\n",
       "      <td>IM_GAUSS1D(4)</td>\n",
       "      <td>1.00</td>\n",
       "    </tr>\n",
       "    <tr>\n",
       "      <th>14</th>\n",
       "      <td>case43</td>\n",
       "      <td>4x4</td>\n",
       "      <td>FEM_PK_WITH_CUBIC_BUBBLE(1, 1)</td>\n",
       "      <td>IM_GAUSS1D(4)</td>\n",
       "      <td>1.00</td>\n",
       "    </tr>\n",
       "    <tr>\n",
       "      <th>15</th>\n",
       "      <td>case44</td>\n",
       "      <td>16x8</td>\n",
       "      <td>FEM_PK_WITH_CUBIC_BUBBLE(1, 1)</td>\n",
       "      <td>IM_GAUSS1D(4)</td>\n",
       "      <td>1.01</td>\n",
       "    </tr>\n",
       "  </tbody>\n",
       "</table>\n",
       "</div>"
      ],
      "text/plain": [
       "   case name  mesh  ... integration method ratio with theory\n",
       "0     case11   4x1  ...      IM_GAUSS1D(4)              1.00\n",
       "1     case12   4x2  ...      IM_GAUSS1D(4)              1.00\n",
       "2     case13   4x4  ...      IM_GAUSS1D(4)              1.00\n",
       "3     case14  16x8  ...      IM_GAUSS1D(4)              1.01\n",
       "4     case21   4x1  ...      IM_GAUSS1D(2)              0.24\n",
       "5     case22   4x2  ...      IM_GAUSS1D(2)              0.24\n",
       "6     case23   4x4  ...      IM_GAUSS1D(2)              0.24\n",
       "7     case24  16x8  ...      IM_GAUSS1D(2)              0.84\n",
       "8     case31   4x1  ...      IM_GAUSS1D(0)    65235544550.74\n",
       "9     case32   4x2  ...      IM_GAUSS1D(0)              1.32\n",
       "10    case33   4x4  ...      IM_GAUSS1D(0)              1.06\n",
       "11    case34  16x8  ...      IM_GAUSS1D(0)              1.02\n",
       "12    case41   4x1  ...      IM_GAUSS1D(4)              1.00\n",
       "13    case42   4x2  ...      IM_GAUSS1D(4)              1.00\n",
       "14    case43   4x4  ...      IM_GAUSS1D(4)              1.00\n",
       "15    case44  16x8  ...      IM_GAUSS1D(4)              1.01\n",
       "\n",
       "[16 rows x 5 columns]"
      ]
     },
     "execution_count": 48,
     "metadata": {
      "tags": []
     },
     "output_type": "execute_result"
    }
   ],
   "source": [
    "pd.options.display.float_format = \"{:.2f}\".format\n",
    "\n",
    "\n",
    "data = []\n",
    "\n",
    "columns = [\n",
    "    \"case name\",\n",
    "    \"mesh\",\n",
    "    \"finite element method\",\n",
    "    \"integration method\",\n",
    "    \"ratio with theory\",\n",
    "]\n",
    "\n",
    "for case, x, y, fem_name, method, md, mfu in zip(\n",
    "    cases, xs, ys, fem_names, methods, mds, mfus\n",
    "):\n",
    "    u = md.variable(\"u\")\n",
    "    dof = mfu.basic_dof_on_region(RIGHT_BOUND)\n",
    "    data.append([case, str(x) + \"x\" + str(y), fem_name, method, max(u[dof] / dmax)])\n",
    "df = pd.DataFrame(data=data, columns=columns)\n",
    "df\n"
   ]
  },
  {
   "cell_type": "code",
   "execution_count": 0,
   "metadata": {
    "colab": {},
    "colab_type": "code",
    "id": "DFvTsPDclXxH"
   },
   "outputs": [],
   "source": []
  }
 ],
 "metadata": {
  "colab": {
   "collapsed_sections": [],
   "name": "Cantilever.ipynb",
   "provenance": []
  },
  "kernelspec": {
   "display_name": "Python 2",
   "name": "python2"
  }
 },
 "nbformat": 4,
 "nbformat_minor": 0
}
