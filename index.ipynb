{
 "cells": [
  {
   "cell_type": "markdown",
   "metadata": {
    "slideshow": {
     "slide_type": "-"
    }
   },
   "source": [
    "# Introduction to FEM Analysis with Python\n",
    "\n",
    "This tutorial aims to show using Python to pre-processing, solve, and post-processing of Finite Element Method analysis. It uses a finite element method library with a Python interface called [GetFEM](http://getfem.org/) for preprocessing and solving. We will load vtk file by using [meshio](https://github.com/nschloe/meshio) and visualize by [matplotlib](https://github.com/matplotlib/matplotlib) in pre-processing and post-processing. This tutorial was used in the [PyConJP 2019 talk](https://pycon.jp/2019/schedule/?sessionId=120). You can watch the talk on YouTube below. The tutorial descriptions are heavily influenced by the [official GetFEM pages](http://getfem.org/tutorial/thermo_coupling.html)."
   ]
  },
  {
   "cell_type": "code",
   "execution_count": null,
   "metadata": {},
   "outputs": [],
   "source": [
    "from IPython.display import YouTubeVideo\n",
    "\n",
    "YouTubeVideo(\"6JuB1GiDLQQ\", start=512)"
   ]
  },
  {
   "cell_type": "markdown",
   "metadata": {},
   "source": [
    "## Installation\n",
    "\n",
    "GetFEM including its python interface can be installed from a terminal by executing aptitude update and aptitude install python-getfem++."
   ]
  },
  {
   "cell_type": "raw",
   "metadata": {},
   "source": [
    "sudo apt install python3-getfem++"
   ]
  },
  {
   "cell_type": "markdown",
   "metadata": {},
   "source": [
    "The additional packages in [requirements.txt](https://github.com/getfem-doc/getfem-binder/blob/master/requirements.txt) are required for this tutorial. You do not need to build these environments because they are already configured in the [Dockerfile](https://github.com/getfem-doc/getfem-binder/blob/master/Dockerfile)."
   ]
  },
  {
   "cell_type": "markdown",
   "metadata": {},
   "source": [
    "## The problem setting\n",
    "\n",
    "The problem refers to [\"Poisson's Equation on Unit Disk\"](https://mathworks.com/help/pde/ug/solve-poissons-equation-on-a-unit-disk.html) published by Math Works's homepage.\n",
    "\n",
    "\n",
    "$$−\\Delta u=1 \\ {\\rm on}\\  \\Omega, u=0 \\ {\\rm on}\\  \\delta \\Omega $$\n",
    "\n",
    "![pdedemo1_01](https://jp.mathworks.com/help/examples/pde/win64/pdedemo1_01.png)\n",
    "\n"
   ]
  },
  {
   "cell_type": "markdown",
   "metadata": {},
   "source": [
    "## How to use GetEM\n",
    "\n",
    "We take the following steps when using GetFEM to solve finite element problems. See [this page](http://getfem.org/tutorial/basic_usage.html) for more information on using GetFEM.\n",
    "\n",
    "- define a [MesherObject](http://getfem.org/python/cmdref_MesherObject.html)\n",
    "- define a [Mesh](http://getfem.org/python/cmdref_Mesh.html)\n",
    "- define a [MeshFem](http://getfem.org/python/cmdref_MeshFem.html)\n",
    "- define a [MeshIm](http://getfem.org/python/cmdref_MeshIm.html)\n",
    "- define a [Model](http://getfem.org/python/cmdref_Model.html) and set it up\n",
    "- solve Model object\n",
    "- get value from Model object"
   ]
  },
  {
   "cell_type": "markdown",
   "metadata": {},
   "source": [
    "## Initialization\n",
    "\n",
    "GetFEM can be imported following (numpy has also to be imported). "
   ]
  },
  {
   "cell_type": "code",
   "execution_count": null,
   "metadata": {
    "scrolled": true
   },
   "outputs": [],
   "source": [
    "import getfem as gf\n",
    "import numpy as np"
   ]
  },
  {
   "cell_type": "markdown",
   "metadata": {},
   "source": [
    "## Mesh generation"
   ]
  },
  {
   "cell_type": "markdown",
   "metadata": {},
   "source": [
    "We use GetFEM's [MesherObject](http://getfem.org/python/cmdref_MesherObject.html#) to create a mesh from the geometric information to be analyzed.\n",
    "This object represents a geometric object to be meshed by the experimental meshing procedure of GetFEM. We can represents a ball of corresponding center and radius by using \"ball\"."
   ]
  },
  {
   "cell_type": "code",
   "execution_count": null,
   "metadata": {},
   "outputs": [],
   "source": [
    "center = [0.0, 0.0]\n",
    "radius = 1.0\n",
    "\n",
    "mo = gf.MesherObject(\"ball\", center, radius)"
   ]
  },
  {
   "cell_type": "markdown",
   "metadata": {},
   "source": [
    "We can make mesh object `mesh` by calling the experimental mesher of GetFEM on the geometry represented by `mo`."
   ]
  },
  {
   "cell_type": "code",
   "execution_count": null,
   "metadata": {},
   "outputs": [],
   "source": [
    "h = 0.1\n",
    "mesh = gf.Mesh(\"generate\", mo, h, 2)"
   ]
  },
  {
   "cell_type": "markdown",
   "metadata": {},
   "source": [
    "## Boundary selection"
   ]
  },
  {
   "cell_type": "markdown",
   "metadata": {},
   "source": [
    "To define a boundary condition, we set a boundary number on the outer circumference of the circle."
   ]
  },
  {
   "cell_type": "code",
   "execution_count": null,
   "metadata": {},
   "outputs": [],
   "source": [
    "outer_faces = mesh.outer_faces()\n",
    "OUTER_BOUND = 1\n",
    "mesh.set_region(OUTER_BOUND, outer_faces)"
   ]
  },
  {
   "cell_type": "markdown",
   "metadata": {},
   "source": [
    "## Mesh draw"
   ]
  },
  {
   "cell_type": "markdown",
   "metadata": {},
   "source": [
    "We visualize the created mesh to check its quality. We make Slice of ject to create a mesh slice.We can output mesh objects, but matplotlib can only output triangles. Therefore, we convert mesh to triangles on the slice object."
   ]
  },
  {
   "cell_type": "code",
   "execution_count": null,
   "metadata": {},
   "outputs": [],
   "source": [
    "sl = gf.Slice((\"none\",), mesh, 1)"
   ]
  },
  {
   "cell_type": "markdown",
   "metadata": {},
   "source": [
    "We can export a slice to VTK file by using export_to_vtk method."
   ]
  },
  {
   "cell_type": "code",
   "execution_count": null,
   "metadata": {},
   "outputs": [],
   "source": [
    "sl.export_to_vtk(\"sl.vtk\", \"ascii\")"
   ]
  },
  {
   "cell_type": "markdown",
   "metadata": {},
   "source": [
    "We can rendere VTK files using Paraview or mayavi2. In order to display in the jupyter notebook this time, we read in meshio and draw in matplotlib."
   ]
  },
  {
   "cell_type": "code",
   "execution_count": null,
   "metadata": {},
   "outputs": [],
   "source": [
    "import meshio\n",
    "\n",
    "reader = meshio.read(\"sl.vtk\")\n",
    "points = reader.points\n",
    "cells = reader.cells[0][1]"
   ]
  },
  {
   "cell_type": "code",
   "execution_count": null,
   "metadata": {},
   "outputs": [],
   "source": [
    "%matplotlib inline\n",
    "from matplotlib.pyplot import figure\n",
    "\n",
    "figure = figure(figsize=(7, 7))\n",
    "axes = figure.add_subplot(aspect=\"equal\")\n",
    "axes.triplot(points[:, 0], points[:, 1], cells, color=\"black\")"
   ]
  },
  {
   "cell_type": "markdown",
   "metadata": {},
   "source": [
    "## Definition of finite element methods and integration method\n",
    "\n",
    "![Lagrange Element](https://raw.githubusercontent.com/tkoyama010/OpenCAE-tkoyama010/PyConJP2019/getfemlisttriangleP2.png)"
   ]
  },
  {
   "cell_type": "code",
   "execution_count": null,
   "metadata": {},
   "outputs": [],
   "source": [
    "# The node has 1 degree of freedom\n",
    "mfu = gf.MeshFem(mesh, 1)\n",
    "\n",
    "# classical lagrange elements\n",
    "elements_degree = 2\n",
    "mfu.set_classical_fem(elements_degree)"
   ]
  },
  {
   "cell_type": "code",
   "execution_count": null,
   "metadata": {},
   "outputs": [],
   "source": [
    "mim = gf.MeshIm(mesh, pow(elements_degree, 2))"
   ]
  },
  {
   "cell_type": "markdown",
   "metadata": {},
   "source": [
    "## 🏃 [Model Object](http://getfem.org/userdoc/model_object.html)\n",
    "\n",
    "$$ [K] \\left\\{ u \\right\\} = \\left\\{ F \\right\\} $$"
   ]
  },
  {
   "cell_type": "code",
   "execution_count": null,
   "metadata": {},
   "outputs": [],
   "source": [
    "md = gf.Model(\"real\")\n",
    "md.add_fem_variable(\"u\", mfu)"
   ]
  },
  {
   "cell_type": "markdown",
   "metadata": {},
   "source": [
    "## 🏃 Laplacian Brick, RHS and condition \n",
    "\n",
    "$$−\\Delta u=1 \\ {\\rm on}\\  \\Omega, u=0 \\ {\\rm on}\\  \\delta \\Omega $$\n",
    "to\n",
    "$$[K] \\left\\{ u \\right\\} = \\left\\{ F \\right\\}$$"
   ]
  },
  {
   "cell_type": "code",
   "execution_count": null,
   "metadata": {},
   "outputs": [],
   "source": [
    "md.add_Laplacian_brick(mim, \"u\")"
   ]
  },
  {
   "cell_type": "code",
   "execution_count": null,
   "metadata": {},
   "outputs": [],
   "source": [
    "F = 1.0\n",
    "md.add_fem_data(\"F\", mfu)\n",
    "md.add_source_term_brick(mim, \"u\", \"F\")\n",
    "md.set_variable(\"F\", np.repeat(F, mfu.nbdof()))"
   ]
  },
  {
   "cell_type": "code",
   "execution_count": null,
   "metadata": {},
   "outputs": [],
   "source": [
    "md.add_Dirichlet_condition_with_multipliers(mim, \"u\", elements_degree - 1, OUTER_BOUND)"
   ]
  },
  {
   "cell_type": "markdown",
   "metadata": {},
   "source": [
    "## 🏃 Solve $u$\n",
    "\n",
    "$$[K] \\left\\{ u \\right\\} = \\left\\{ F \\right\\}$$"
   ]
  },
  {
   "cell_type": "code",
   "execution_count": null,
   "metadata": {},
   "outputs": [],
   "source": [
    "md.solve()\n",
    "U = md.variable(\"u\")"
   ]
  },
  {
   "cell_type": "markdown",
   "metadata": {},
   "source": [
    "## variable ***u***"
   ]
  },
  {
   "cell_type": "code",
   "execution_count": null,
   "metadata": {},
   "outputs": [],
   "source": [
    "sl.export_to_vtk(\"u.vtk\", \"ascii\", mfu, U, \"U\")\n",
    "reader = meshio.read(\"u.vtk\")\n",
    "points = reader.points\n",
    "cells = reader.cells[0][1]\n",
    "point_data = reader.point_data[\"U\"]"
   ]
  },
  {
   "cell_type": "code",
   "execution_count": null,
   "metadata": {},
   "outputs": [],
   "source": [
    "from matplotlib.pyplot import figure\n",
    "\n",
    "figure = figure(figsize=(7, 7))\n",
    "axes = figure.add_subplot(aspect=\"equal\")\n",
    "axes.triplot(points[:, 0], points[:, 1], cells, color=\"gray\")\n",
    "contour = axes.tricontourf(\n",
    "    points[:, 0], points[:, 1], cells, point_data, 16, cmap=\"jet\"\n",
    ")\n",
    "figure.colorbar(contour)"
   ]
  },
  {
   "cell_type": "markdown",
   "metadata": {},
   "source": [
    "## theoretical solution\n",
    "\n",
    "The theoretical solution to this problem is given by the following equation:\n",
    "$$u(x, y) = \\dfrac{1-x^2-y^2}{4}$$"
   ]
  },
  {
   "cell_type": "code",
   "execution_count": null,
   "metadata": {},
   "outputs": [],
   "source": [
    "evalue = mfu.eval(\"(1-x*x-y*y)/4\")"
   ]
  },
  {
   "cell_type": "markdown",
   "metadata": {},
   "source": [
    "We can calculate the error for the L2 and H1 norms by using the following functions:"
   ]
  },
  {
   "cell_type": "code",
   "execution_count": null,
   "metadata": {},
   "outputs": [],
   "source": [
    "L2error = gf.compute(mfu, U - evalue, \"L2 norm\", mim)\n",
    "H1error = gf.compute(mfu, U - evalue, \"H1 norm\", mim)\n",
    "print(\"Error in L2 norm : \", L2error)\n",
    "print(\"Error in H1 norm : \", H1error)"
   ]
  },
  {
   "cell_type": "code",
   "execution_count": null,
   "metadata": {},
   "outputs": [],
   "source": []
  }
 ],
 "metadata": {
  "kernelspec": {
   "display_name": "Python 3",
   "language": "python",
   "name": "python3"
  }
 },
 "nbformat": 4,
 "nbformat_minor": 4
}
