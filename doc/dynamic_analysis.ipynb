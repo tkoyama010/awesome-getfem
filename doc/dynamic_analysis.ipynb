{
 "cells": [
  {
   "cell_type": "markdown",
   "metadata": {},
   "source": [
    "# Damping model with one degree of freedom\n",
    "\n",
    "In this example of one degree of freedom with damping, we use here python interface, translate this program for another interface or in C++ is easy.\n",
    "\n",
    "## The probelm setting\n",
    "\n",
    "A single truss element is used to verify the damping of a single-degree-of-freedom system.\n",
    "Node 1 is fully constrained, and the damped free vibration is obtained after giving an instantaneous forced displacement of 1 mm in the $x$ direction of node 2."
   ]
  },
  {
   "cell_type": "markdown",
   "metadata": {},
   "source": [
    "## Building the program\n",
    "Let us begin by loading GetFEM and fixing the parameter of the problem."
   ]
  },
  {
   "cell_type": "code",
   "execution_count": null,
   "metadata": {},
   "outputs": [],
   "source": [
    "import getfem as gf\n",
    "import numpy as np\n",
    "\n",
    "E = 1.0E+05   # Young Modulus (N/mm^2)\n",
    "rho = 8.9E-09 # Mass Density (ton/mm^3)\n",
    "A = 1.0       # Cross-Sectional Area (mm^2)\n",
    "L = 1000.0    # Length (mm)"
   ]
  },
  {
   "cell_type": "markdown",
   "metadata": {},
   "source": [
    "### Mesh generation\n",
    "We consider that the length of mesh is 1D and it has 1 convex.\n",
    "We generate the mesh of the one degree of freedom using empty mesh of GetFEM (see the documentation of the Mesh object in the python interface)."
   ]
  },
  {
   "cell_type": "code",
   "execution_count": null,
   "metadata": {},
   "outputs": [],
   "source": [
    "m = gf.Mesh(\"empty\", 1)\n",
    "cvid = m.add_convex(gf.GeoTrans(\"GT_PK(1, 1)\"), [[0, L]])"
   ]
  },
  {
   "cell_type": "markdown",
   "metadata": {},
   "source": [
    "We can check the mesh information using print function.\n",
    "We can see that the mesh has 2 point and 1 convex."
   ]
  },
  {
   "cell_type": "code",
   "execution_count": 3,
   "metadata": {},
   "outputs": [
    {
     "name": "stdout",
     "output_type": "stream",
     "text": [
      "\n",
      "BEGIN POINTS LIST\n",
      "\n",
      "  POINT COUNT 2\n",
      "  POINT  0  0\n",
      "  POINT  1  1000\n",
      "\n",
      "END POINTS LIST\n",
      "\n",
      "\n",
      "\n",
      "BEGIN MESH STRUCTURE DESCRIPTION\n",
      "\n",
      "  CONVEX COUNT 1\n",
      "  CONVEX 0    'GT_PK(1,1)'      0  1\n",
      "\n",
      "END MESH STRUCTURE DESCRIPTION\n",
      "\n"
     ]
    }
   ],
   "source": [
    "print(m)"
   ]
  },
  {
   "cell_type": "markdown",
   "metadata": {},
   "source": [
    "If you want to build a regular mesh quickly with multi convexs, you can use following Mesh object constructor."
   ]
  },
  {
   "cell_type": "code",
   "execution_count": 4,
   "metadata": {},
   "outputs": [],
   "source": [
    "m = gf.Mesh(\"cartesian\", [0, L])"
   ]
  },
  {
   "cell_type": "code",
   "execution_count": 5,
   "metadata": {},
   "outputs": [
    {
     "name": "stdout",
     "output_type": "stream",
     "text": [
      "\n",
      "BEGIN POINTS LIST\n",
      "\n",
      "  POINT COUNT 2\n",
      "  POINT  0  0\n",
      "  POINT  1  1000\n",
      "\n",
      "END POINTS LIST\n",
      "\n",
      "\n",
      "\n",
      "BEGIN MESH STRUCTURE DESCRIPTION\n",
      "\n",
      "  CONVEX COUNT 1\n",
      "  CONVEX 0    'GT_PK(1,1)'      0  1\n",
      "\n",
      "END MESH STRUCTURE DESCRIPTION\n",
      "\n"
     ]
    }
   ],
   "source": [
    "print(m)"
   ]
  },
  {
   "cell_type": "markdown",
   "metadata": {},
   "source": [
    "We can exports a mesh to a VTK file ."
   ]
  },
  {
   "cell_type": "code",
   "execution_count": 6,
   "metadata": {},
   "outputs": [],
   "source": [
    "m.export_to_vtk(\"m.vtk\")"
   ]
  },
  {
   "cell_type": "markdown",
   "metadata": {},
   "source": [
    "The result is the following."
   ]
  },
  {
   "cell_type": "code",
   "execution_count": 7,
   "metadata": {},
   "outputs": [
    {
     "data": {
      "image/png": "[encoded data removed]",
      "text/plain": [
       "<PIL.Image.Image image mode=RGB size=512x384 at 0x7FA0C10CD760>"
      ]
     },
     "metadata": {},
     "output_type": "display_data"
    },
    {
     "data": {
      "text/plain": [
       "<pyvirtualdisplay.display.Display at 0x7fa0c10c06a0>"
      ]
     },
     "execution_count": 7,
     "metadata": {},
     "output_type": "execute_result"
    }
   ],
   "source": [
    "import pyvista as pv\n",
    "from pyvirtualdisplay import Display\n",
    "import os\n",
    "display = Display(visible=0, size=(1280, 1024))\n",
    "display.start()\n",
    "plotter = pv.Plotter()\n",
    "mesh = pv.read(\"m.vtk\")\n",
    "plotter.add_mesh(mesh)\n",
    "plotter.add_text(\"Mesh\", \"upper_left\")\n",
    "points = mesh.points\n",
    "plotter.add_point_labels(points, points.tolist(), point_size=10, font_size=10)\n",
    "plotter.show(window_size=[512, 384])\n",
    "display.stop()"
   ]
  },
  {
   "cell_type": "markdown",
   "metadata": {},
   "source": [
    "### Boundary selection\n",
    "We have to select the different parts of the boundary where we will set some boundary conditions, namely boundary of the fix boundary $(0.0, 0.0, 0.0)$ and the deformed boundary $(1000.0, 0.0, 0.0)$."
   ]
  },
  {
   "cell_type": "code",
   "execution_count": 8,
   "metadata": {},
   "outputs": [],
   "source": [
    "fb1 = m.outer_faces_with_direction([-1.], 0.01)\n",
    "fb2 = m.outer_faces_with_direction([1.], 0.01)\n",
    "\n",
    "FIX_BOUNDARY = 1\n",
    "DEFORMED_BOUNDARY = 2\n",
    "\n",
    "m.set_region(FIX_BOUNDARY, fb1)\n",
    "m.set_region(DEFORMED_BOUNDARY, fb2)"
   ]
  },
  {
   "cell_type": "code",
   "execution_count": 9,
   "metadata": {},
   "outputs": [
    {
     "name": "stdout",
     "output_type": "stream",
     "text": [
      "\n",
      "BEGIN POINTS LIST\n",
      "\n",
      "  POINT COUNT 2\n",
      "  POINT  0  0\n",
      "  POINT  1  1000\n",
      "\n",
      "END POINTS LIST\n",
      "\n",
      "\n",
      "\n",
      "BEGIN MESH STRUCTURE DESCRIPTION\n",
      "\n",
      "  CONVEX COUNT 1\n",
      "  CONVEX 0    'GT_PK(1,1)'      0  1\n",
      "\n",
      "END MESH STRUCTURE DESCRIPTION\n",
      "BEGIN REGION 1\n",
      "0/1 \n",
      "END REGION 1\n",
      "BEGIN REGION 2\n",
      "0/0 \n",
      "END REGION 2\n",
      "\n"
     ]
    }
   ],
   "source": [
    "print(m)"
   ]
  },
  {
   "cell_type": "code",
   "execution_count": null,
   "metadata": {},
   "outputs": [],
   "source": []
  }
 ],
 "metadata": {
  "kernelspec": {
   "display_name": "Python 3",
   "language": "python",
   "name": "python3"
  },
  "language_info": {
   "codemirror_mode": {
    "name": "ipython",
    "version": 3
   },
   "file_extension": ".py",
   "mimetype": "text/x-python",
   "name": "python",
   "nbconvert_exporter": "python",
   "pygments_lexer": "ipython3",
   "version": "3.8.5"
  }
 },
 "nbformat": 4,
 "nbformat_minor": 4
}
