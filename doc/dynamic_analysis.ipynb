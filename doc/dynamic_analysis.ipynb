{
 "cells": [
  {
   "cell_type": "markdown",
   "metadata": {},
   "source": [
    "# Damping model with one degree of freedom\n",
    "\n",
    "In this example of one degree of freedom with damping, we use here python interface, translate this program for another interface or in C++ is easy.\n",
    "We also explain about how to use GWFL(Generic Weak Form Language) in problem.\n",
    "\n",
    "## The probelm setting\n",
    "\n",
    "A single truss element is used to verify the damping of a single-degree-of-freedom system.\n",
    "Node 1 is fully constrained, and the damped free vibration is obtained after giving an instantaneous forced displacement of 1 mm in the $x$ direction of node 2."
   ]
  },
  {
   "cell_type": "markdown",
   "metadata": {},
   "source": [
    "## Building the program\n",
    "Let us begin by loading GetFEM and fixing the parameter of the problem."
   ]
  },
  {
   "cell_type": "code",
   "execution_count": 1,
   "metadata": {},
   "outputs": [],
   "source": [
    "import getfem as gf\n",
    "import numpy as np\n",
    "\n",
    "E = 1.0e05  # Young Modulus (N/mm^2)\n",
    "rho = 8.9e-09  # Mass Density (ton/mm^3)\n",
    "A = 1.0  # Cross-Sectional Area (mm^2)\n",
    "L = 1000.0  # Length (mm)"
   ]
  },
  {
   "cell_type": "markdown",
   "metadata": {},
   "source": [
    "We consider that the length of mesh is 1D and it has 1 convex.\n",
    "We generate the mesh of the one degree of freedom using empty mesh of GetFEM (see the documentation of the Mesh object in the python interface)."
   ]
  },
  {
   "cell_type": "code",
   "execution_count": 2,
   "metadata": {},
   "outputs": [],
   "source": [
    "mesh = gf.Mesh(\"empty\", 1)"
   ]
  },
  {
   "cell_type": "code",
   "execution_count": 3,
   "metadata": {},
   "outputs": [
    {
     "data": {
      "text/plain": [
       "\u001b[0;31mSignature:\u001b[0m \u001b[0mmesh\u001b[0m\u001b[0;34m.\u001b[0m\u001b[0madd_convex\u001b[0m\u001b[0;34m(\u001b[0m\u001b[0mGT\u001b[0m\u001b[0;34m,\u001b[0m \u001b[0mPTS\u001b[0m\u001b[0;34m)\u001b[0m\u001b[0;34m\u001b[0m\u001b[0;34m\u001b[0m\u001b[0m\n",
       "\u001b[0;31mDocstring:\u001b[0m\n",
       "Add a new convex into the mesh.\n",
       "\n",
       "The convex structure (triangle, prism,...) is given by `GT`\n",
       "(obtained with GeoTrans('...')), and its points are given by\n",
       "the columns of `PTS`. On return, `CVIDs` contains the convex #ids.\n",
       "`PTS` might be a 3-dimensional array in order to insert more than\n",
       "one convex (or a two dimensional array correctly shaped according\n",
       "to Fortran ordering).\n",
       "\u001b[0;31mFile:\u001b[0m      /usr/lib/python3/dist-packages/getfem/getfem.py\n",
       "\u001b[0;31mType:\u001b[0m      method\n"
      ]
     },
     "metadata": {},
     "output_type": "display_data"
    }
   ],
   "source": [
    "mesh.add_convex?"
   ]
  },
  {
   "cell_type": "code",
   "execution_count": 4,
   "metadata": {},
   "outputs": [],
   "source": [
    "cvid = mesh.add_convex(gf.GeoTrans(\"GT_PK(1, 1)\"), [[0, L]])"
   ]
  },
  {
   "cell_type": "markdown",
   "metadata": {},
   "source": [
    "We can check the mesh information using print function.\n",
    "We can see that the mesh has 2 point and 1 convex."
   ]
  },
  {
   "cell_type": "code",
   "execution_count": 5,
   "metadata": {},
   "outputs": [
    {
     "name": "stdout",
     "output_type": "stream",
     "text": [
      "\n",
      "BEGIN POINTS LIST\n",
      "\n",
      "  POINT COUNT 2\n",
      "  POINT  0  0\n",
      "  POINT  1  1000\n",
      "\n",
      "END POINTS LIST\n",
      "\n",
      "\n",
      "\n",
      "BEGIN MESH STRUCTURE DESCRIPTION\n",
      "\n",
      "  CONVEX COUNT 1\n",
      "  CONVEX 0    'GT_PK(1,1)'      0  1\n",
      "\n",
      "END MESH STRUCTURE DESCRIPTION\n",
      "\n"
     ]
    }
   ],
   "source": [
    "print(mesh)"
   ]
  },
  {
   "cell_type": "markdown",
   "metadata": {},
   "source": [
    "If you want to build a regular mesh quickly with multi convexs, we can use following Mesh object constructor."
   ]
  },
  {
   "cell_type": "code",
   "execution_count": 6,
   "metadata": {},
   "outputs": [],
   "source": [
    "mesh = gf.Mesh(\"cartesian\", [0, L])"
   ]
  },
  {
   "cell_type": "code",
   "execution_count": 7,
   "metadata": {},
   "outputs": [
    {
     "name": "stdout",
     "output_type": "stream",
     "text": [
      "\n",
      "BEGIN POINTS LIST\n",
      "\n",
      "  POINT COUNT 2\n",
      "  POINT  0  0\n",
      "  POINT  1  1000\n",
      "\n",
      "END POINTS LIST\n",
      "\n",
      "\n",
      "\n",
      "BEGIN MESH STRUCTURE DESCRIPTION\n",
      "\n",
      "  CONVEX COUNT 1\n",
      "  CONVEX 0    'GT_PK(1,1)'      0  1\n",
      "\n",
      "END MESH STRUCTURE DESCRIPTION\n",
      "\n"
     ]
    }
   ],
   "source": [
    "print(mesh)"
   ]
  },
  {
   "cell_type": "markdown",
   "metadata": {},
   "source": [
    "### Boundary selection\n",
    "We have to select the different parts of the boundary where we will set some boundary conditions, namely boundary of the fix boundary $(0.0, 0.0, 0.0)$ and the deformed boundary of the $(1000.0, 0.0, 0.0)$."
   ]
  },
  {
   "cell_type": "code",
   "execution_count": 8,
   "metadata": {},
   "outputs": [],
   "source": [
    "fb1 = mesh.outer_faces_with_direction([-1.0], 0.01)\n",
    "fb2 = mesh.outer_faces_with_direction([1.0], 0.01)\n",
    "\n",
    "LEFT = 1\n",
    "RIGHT = 2\n",
    "\n",
    "mesh.set_region(LEFT, fb1)\n",
    "mesh.set_region(RIGHT, fb2)"
   ]
  },
  {
   "cell_type": "markdown",
   "metadata": {},
   "source": [
    "### Mesh draw\n",
    "In order to preview the mesh and to control its validity, the following instructions can be used:"
   ]
  },
  {
   "cell_type": "code",
   "execution_count": 9,
   "metadata": {},
   "outputs": [],
   "source": [
    "mesh.export_to_vtk(\"m.vtk\")"
   ]
  },
  {
   "cell_type": "markdown",
   "metadata": {},
   "source": [
    "An external graphical post-processor has to be used (for instance, pyvista)."
   ]
  },
  {
   "cell_type": "code",
   "execution_count": 10,
   "metadata": {},
   "outputs": [
    {
     "data": {
      "image/png": "[encoded data removed]",
      "text/plain": [
       "<PIL.Image.Image image mode=RGB size=512x384 at 0x7F216C2AE880>"
      ]
     },
     "metadata": {},
     "output_type": "display_data"
    },
    {
     "data": {
      "text/plain": [
       "<pyvirtualdisplay.display.Display at 0x7f21923988b0>"
      ]
     },
     "execution_count": 10,
     "metadata": {},
     "output_type": "execute_result"
    }
   ],
   "source": [
    "import pyvista as pv\n",
    "from pyvirtualdisplay import Display\n",
    "\n",
    "display = Display(visible=0, size=(1280, 1024))\n",
    "display.start()\n",
    "p = pv.Plotter()\n",
    "m = pv.read(\"m.vtk\")\n",
    "p.add_mesh(m, line_width=5)\n",
    "pts = m.points\n",
    "p.add_point_labels(pts, pts[:, 0].tolist(), point_size=10, font_size=10)\n",
    "p.show(window_size=[512, 384], cpos=\"xy\")\n",
    "display.stop()"
   ]
  },
  {
   "cell_type": "code",
   "execution_count": 11,
   "metadata": {},
   "outputs": [
    {
     "name": "stdout",
     "output_type": "stream",
     "text": [
      "\n",
      "BEGIN POINTS LIST\n",
      "\n",
      "  POINT COUNT 2\n",
      "  POINT  0  0\n",
      "  POINT  1  1000\n",
      "\n",
      "END POINTS LIST\n",
      "\n",
      "\n",
      "\n",
      "BEGIN MESH STRUCTURE DESCRIPTION\n",
      "\n",
      "  CONVEX COUNT 1\n",
      "  CONVEX 0    'GT_PK(1,1)'      0  1\n",
      "\n",
      "END MESH STRUCTURE DESCRIPTION\n",
      "BEGIN REGION 1\n",
      "0/1 \n",
      "END REGION 1\n",
      "BEGIN REGION 2\n",
      "0/0 \n",
      "END REGION 2\n",
      "\n"
     ]
    }
   ],
   "source": [
    "print(mesh)"
   ]
  },
  {
   "cell_type": "markdown",
   "metadata": {},
   "source": [
    "### Definition of finite element methods and integration method\n",
    "We will define three finite element methods. The first one, ```mfu``` is to approximate the displacement field. This is a vector field. This is defined in Python by"
   ]
  },
  {
   "cell_type": "code",
   "execution_count": 12,
   "metadata": {},
   "outputs": [],
   "source": [
    "mfu = gf.MeshFem(mesh, 1)\n",
    "\n",
    "elements_degree = 1\n",
    "mfu.set_classical_fem(elements_degree)"
   ]
  },
  {
   "cell_type": "markdown",
   "metadata": {},
   "source": [
    "where the 1 stands for the dimension of the vector field. The second line sets the finite element used.\n",
    "```classical_fem``` means a continuous Lagrange element and remember that elements_degree has been set to 1 which means that we will use quadratic (isoparametric) elements."
   ]
  },
  {
   "cell_type": "markdown",
   "metadata": {},
   "source": [
    "The last thing to define is an integration method ```mim```. \n",
    "There is no default integration method in GetFEM so this is mandatory to define an integration method. \n",
    "Of course, the order of the integration method have to be chosen sufficient to make a convenient integration of the selected finite element method.\n",
    "Here, the square of ```elements_degree``` is sufficient."
   ]
  },
  {
   "cell_type": "code",
   "execution_count": 13,
   "metadata": {},
   "outputs": [],
   "source": [
    "mim = gf.MeshIm(mesh, elements_degree * 2)"
   ]
  },
  {
   "cell_type": "markdown",
   "metadata": {},
   "source": [
    "### Model definition\n",
    "The model object in *GetFEM* gather the variables of the models (the unknowns), the data and what is called the model bricks.\n",
    "The model bricks are some parts of the model (linear or nonlinear terms) applied on a single variable or linking several variables. \n",
    "They are used to make the assembly of the (tangent) linear system (see [The model object](https://getfem.readthedocs.io/en/latest/userdoc/model_object.html#ud-model-object) for more details)."
   ]
  },
  {
   "cell_type": "markdown",
   "metadata": {},
   "source": [
    "followingThis is not strictly mandatory to use the model object since one may use directly the assembly procedures and build by it own the (tangent) linear system. \n",
    "The model object allows a rapid build of the model since most classical parts of a model are pre-programmed: standard boundary conditions, standard partial differential equations, use of multipliers to prescribe a constraint …\n",
    "Moreover, some bricks are designed to extend the possibilities of the standard bricks (generic assembly bricks, explicit matrix brick …). Thus, it is recommended to use the framework of the model object."
   ]
  },
  {
   "cell_type": "markdown",
   "metadata": {},
   "source": [
    "There are two versions of the model: the real one and the complex one.\n",
    "Complex models have to be reserved for special applications (some electromagnetism problems for instance) where it is advantageous to solve a complex linear system."
   ]
  },
  {
   "cell_type": "markdown",
   "metadata": {},
   "source": [
    "Let us declare a real model with the one variables corresponding to the three fields to be computed:"
   ]
  },
  {
   "cell_type": "code",
   "execution_count": 14,
   "metadata": {},
   "outputs": [],
   "source": [
    "model = gf.Model(\"real\")\n",
    "model.add_fem_variable(\"u\", mfu)"
   ]
  },
  {
   "cell_type": "markdown",
   "metadata": {},
   "source": [
    "### Truss deformation problem"
   ]
  },
  {
   "cell_type": "markdown",
   "metadata": {},
   "source": [
    "Let us now begin by truss deformation problem.\n",
    "The equation on the deformation $u$ and boundary condition can be written as follows:\n",
    "$$\n",
    "\\dfrac{d}{dx}\\left\\{EA\\dfrac{du}{dx}\\right\\} =F\n",
    "$$\n",
    "is expressed also:\n",
    "$$\n",
    "\\nabla ( D\\nabla u) =F\n",
    "$$\n",
    "Where $D = EA$."
   ]
  },
  {
   "cell_type": "markdown",
   "metadata": {},
   "source": [
    "We use directly a GWFL term `add_linear_term(md mim, “E*A*Grad_u.Grad_Test_u)”`.\n",
    "See Compute arbitrary terms - high-level generic assembly procedures - Generic Weak-Form Language (GWFL) for more details on GWFL.\n",
    "$$\n",
    "\\int ^{L}_{0} EA\\dfrac{du( x)}{dx}\\dfrac{dv( x)}{dx} dx=\\int ^{L}_{0} F v( x)dx\n",
    "$$\n",
    "$v$ it the test function of $u$."
   ]
  },
  {
   "cell_type": "code",
   "execution_count": 15,
   "metadata": {},
   "outputs": [
    {
     "data": {
      "text/plain": [
       "\u001b[0;31mSignature:\u001b[0m \u001b[0mmodel\u001b[0m\u001b[0;34m.\u001b[0m\u001b[0madd_linear_term\u001b[0m\u001b[0;34m(\u001b[0m\u001b[0mmim\u001b[0m\u001b[0;34m,\u001b[0m \u001b[0mexpression\u001b[0m\u001b[0;34m,\u001b[0m \u001b[0mregion\u001b[0m\u001b[0;34m=\u001b[0m\u001b[0;32mNone\u001b[0m\u001b[0;34m,\u001b[0m \u001b[0;34m*\u001b[0m\u001b[0margs\u001b[0m\u001b[0;34m)\u001b[0m\u001b[0;34m\u001b[0m\u001b[0;34m\u001b[0m\u001b[0m\n",
       "\u001b[0;31mDocstring:\u001b[0m\n",
       "Synopsis: ind = Model.add_linear_term(self, MeshIm mim, string expression[, int region[, int is_symmetric[, int is_coercive]]])\n",
       "\n",
       "Adds a matrix term given by the assembly string `expr` which will\n",
       "be assembled in region `region` and with the integration method `mim`.\n",
       "Only the matrix term will be taken into account, assuming that it is\n",
       "linear.\n",
       "The advantage of declaring a term linear instead of nonlinear is that\n",
       "it will be assembled only once and no assembly is necessary for the\n",
       "residual.\n",
       "Take care that if the expression contains some variables and if the\n",
       "expression is a potential or of first order (i.e. describe the weak\n",
       "form, not the derivative of the weak form), the expression will be\n",
       "derivated with respect to all variables.\n",
       "You can specify if the term is symmetric, coercive or not.\n",
       "If you are not sure, the better is to declare the term not symmetric\n",
       "and not coercive. But some solvers (conjugate gradient for instance)\n",
       "are not allowed for non-coercive problems.\n",
       "`brickname` is an otpional name for the brick.\n",
       "\u001b[0;31mFile:\u001b[0m      /usr/lib/python3/dist-packages/getfem/getfem.py\n",
       "\u001b[0;31mType:\u001b[0m      method\n"
      ]
     },
     "metadata": {},
     "output_type": "display_data"
    }
   ],
   "source": [
    "model.add_linear_term?"
   ]
  },
  {
   "cell_type": "code",
   "execution_count": 16,
   "metadata": {},
   "outputs": [
    {
     "data": {
      "text/plain": [
       "0"
      ]
     },
     "execution_count": 16,
     "metadata": {},
     "output_type": "execute_result"
    }
   ],
   "source": [
    "model.add_initialized_data(\"D\", [E * A])\n",
    "model.add_linear_term(mim, \"(D*Grad_u).Grad_Test_u\")"
   ]
  },
  {
   "cell_type": "markdown",
   "metadata": {},
   "source": [
    "Returned integer of `add_linear_term` show the index of the brick.\n",
    "\n",
    "The equation of Model object will be:\n",
    "$$\n",
    "\\begin{bmatrix}\\dfrac{EA}{L} & -\\dfrac{EA}{L}\\\\\n",
    "-\\dfrac{EA}{L} & \\dfrac{EA}{L}\n",
    "\\end{bmatrix}\\begin{Bmatrix}u_{0}\\\\\n",
    "u_{1}\n",
    "\\end{Bmatrix}=\\begin{Bmatrix}0\\\\\n",
    "0\n",
    "\\end{Bmatrix}\n",
    "$$\n",
    "You can assemble equtaion using `assembly` method.\n",
    "After assembling, you can check stiffness tangent matrix and rhs of equation using `tangent_matrix` and `rhs` method."
   ]
  },
  {
   "cell_type": "code",
   "execution_count": 17,
   "metadata": {},
   "outputs": [
    {
     "name": "stdout",
     "output_type": "stream",
     "text": [
      "matrix(2, 2)\n",
      "( (r0, 100) (r1, -100) )\n",
      "( (r0, -100) (r1, 100) )\n",
      "\n",
      "[0. 0.]\n"
     ]
    }
   ],
   "source": [
    "model.assembly()\n",
    "SM = model.tangent_matrix()\n",
    "rhs = model.rhs()\n",
    "print(SM)\n",
    "print(rhs)"
   ]
  },
  {
   "cell_type": "code",
   "execution_count": 18,
   "metadata": {},
   "outputs": [
    {
     "name": "stdout",
     "output_type": "stream",
     "text": [
      "matrix(2, 2)\n",
      "( (r0, 100) (r1, -100) )\n",
      "( (r0, -100) (r1, 100) )\n",
      "\n"
     ]
    }
   ],
   "source": [
    "SM = gf.Spmat(\"empty\", 2, 2)\n",
    "SM.add(0, 0, E * A / L)\n",
    "SM.add(0, 1, -E * A / L)\n",
    "SM.add(1, 0, -E * A / L)\n",
    "SM.add(1, 1, E * A / L)\n",
    "print(SM)\n",
    "# model.add_explicit_matrix(\"u\", \"u\", SM)"
   ]
  },
  {
   "cell_type": "markdown",
   "metadata": {},
   "source": [
    "The following program allows to take into account the whole elastic deformation equation.\n",
    "Note the use of specific brick to prescribe the Dirichlet condition on the left boundary.\n",
    "There is several option to prescribe a Dirichlet condition (see Dirichlet condition brick)."
   ]
  },
  {
   "cell_type": "code",
   "execution_count": 19,
   "metadata": {},
   "outputs": [
    {
     "data": {
      "text/plain": [
       "\u001b[0;31mSignature:\u001b[0m\n",
       "\u001b[0mmodel\u001b[0m\u001b[0;34m.\u001b[0m\u001b[0madd_Dirichlet_condition_with_simplification\u001b[0m\u001b[0;34m(\u001b[0m\u001b[0;34m\u001b[0m\n",
       "\u001b[0;34m\u001b[0m    \u001b[0mvarname\u001b[0m\u001b[0;34m,\u001b[0m\u001b[0;34m\u001b[0m\n",
       "\u001b[0;34m\u001b[0m    \u001b[0mregion\u001b[0m\u001b[0;34m,\u001b[0m\u001b[0;34m\u001b[0m\n",
       "\u001b[0;34m\u001b[0m    \u001b[0mdataname\u001b[0m\u001b[0;34m=\u001b[0m\u001b[0;32mNone\u001b[0m\u001b[0;34m,\u001b[0m\u001b[0;34m\u001b[0m\n",
       "\u001b[0;34m\u001b[0m\u001b[0;34m)\u001b[0m\u001b[0;34m\u001b[0m\u001b[0;34m\u001b[0m\u001b[0m\n",
       "\u001b[0;31mDocstring:\u001b[0m\n",
       "Adds a (simple) Dirichlet condition on the variable `varname` and\n",
       "the mesh region `region`. The Dirichlet condition is prescribed by\n",
       "a simple post-treatment of the final linear system (tangent system\n",
       "for nonlinear problems) consisting of modifying the lines corresponding\n",
       "to the degree of freedom of the variable on `region` (0 outside the\n",
       "diagonal, 1 on the diagonal of the matrix and the expected value on\n",
       "the right hand side).\n",
       "The symmetry of the linear system is kept if all other bricks are\n",
       "symmetric.\n",
       "This brick is to be reserved for simple Dirichlet conditions (only dof\n",
       "declared on the correspodning boundary are prescribed). The application\n",
       "of this brick on reduced dof may be problematic. Intrinsic vectorial\n",
       "finite element method are not supported. \n",
       "`dataname` is the optional right hand side of  the Dirichlet condition.\n",
       "It could be constant (but in that case, it can only be applied to\n",
       "Lagrange f.e.m.) or (important) described on the same finite\n",
       "element method as `varname`.\n",
       "Returns the brick index in the model. \n",
       "\u001b[0;31mFile:\u001b[0m      /usr/lib/python3/dist-packages/getfem/getfem.py\n",
       "\u001b[0;31mType:\u001b[0m      method\n"
      ]
     },
     "metadata": {},
     "output_type": "display_data"
    }
   ],
   "source": [
    "model.add_Dirichlet_condition_with_simplification?"
   ]
  },
  {
   "cell_type": "code",
   "execution_count": 20,
   "metadata": {},
   "outputs": [
    {
     "data": {
      "text/plain": [
       "1"
      ]
     },
     "execution_count": 20,
     "metadata": {},
     "output_type": "execute_result"
    }
   ],
   "source": [
    "model.add_Dirichlet_condition_with_simplification(\"u\", LEFT)"
   ]
  },
  {
   "cell_type": "markdown",
   "metadata": {},
   "source": [
    "The equation of Model object will be:\n",
    "$$\n",
    "\\begin{bmatrix}1 & 0\\\\\n",
    "-\\dfrac{EA}{L} & \\dfrac{EA}{L}\n",
    "\\end{bmatrix}\\begin{Bmatrix}u_{0}\\\\\n",
    "u_{1}\n",
    "\\end{Bmatrix}=\\begin{Bmatrix}0\\\\\n",
    "0\n",
    "\\end{Bmatrix}\n",
    "$$"
   ]
  },
  {
   "cell_type": "code",
   "execution_count": 21,
   "metadata": {},
   "outputs": [
    {
     "name": "stdout",
     "output_type": "stream",
     "text": [
      "matrix(2, 2)\n",
      "( (r0, 1) )\n",
      "( (r0, -100) (r1, 100) )\n",
      "\n",
      "[0. 0.]\n"
     ]
    }
   ],
   "source": [
    "model.assembly()\n",
    "SM = model.tangent_matrix()\n",
    "rhs = model.rhs()\n",
    "print(SM)\n",
    "print(rhs)"
   ]
  },
  {
   "cell_type": "markdown",
   "metadata": {},
   "source": [
    "The following program allows to take into account the rhs of source force. Note the use of specific brick to prescribe the source term brick on the rhs of equation."
   ]
  },
  {
   "cell_type": "code",
   "execution_count": 22,
   "metadata": {},
   "outputs": [
    {
     "data": {
      "text/plain": [
       "\u001b[0;31mSignature:\u001b[0m \u001b[0mmodel\u001b[0m\u001b[0;34m.\u001b[0m\u001b[0madd_source_term_brick\u001b[0m\u001b[0;34m(\u001b[0m\u001b[0mmim\u001b[0m\u001b[0;34m,\u001b[0m \u001b[0mvarname\u001b[0m\u001b[0;34m,\u001b[0m \u001b[0mdataexpr\u001b[0m\u001b[0;34m,\u001b[0m \u001b[0mregion\u001b[0m\u001b[0;34m=\u001b[0m\u001b[0;32mNone\u001b[0m\u001b[0;34m,\u001b[0m \u001b[0;34m*\u001b[0m\u001b[0margs\u001b[0m\u001b[0;34m)\u001b[0m\u001b[0;34m\u001b[0m\u001b[0;34m\u001b[0m\u001b[0m\n",
       "\u001b[0;31mDocstring:\u001b[0m\n",
       "Synopsis: ind = Model.add_source_term_brick(self, MeshIm mim, string varname, string dataexpr[, int region[, string directdataname]])\n",
       "\n",
       "Add a source term to the model relatively to the variable `varname`.\n",
       "The source term is\n",
       "represented by `dataexpr` which could be any regular expression of the\n",
       "high-level generic assembly language (except for the complex version\n",
       "where it has to be a declared data of the model).\n",
       "`region` is an optional mesh region\n",
       "on which the term is added. An additional optional data `directdataname`\n",
       "can be provided. The corresponding data vector will be directly added\n",
       "to the right hand side without assembly. Note that when region is a\n",
       "boundary, this brick allows to prescribe a nonzero Neumann boundary\n",
       "condition. Return the brick index in the model.\n",
       "\u001b[0;31mFile:\u001b[0m      /usr/lib/python3/dist-packages/getfem/getfem.py\n",
       "\u001b[0;31mType:\u001b[0m      method\n"
      ]
     },
     "metadata": {},
     "output_type": "display_data"
    }
   ],
   "source": [
    "model.add_source_term_brick?"
   ]
  },
  {
   "cell_type": "code",
   "execution_count": 23,
   "metadata": {},
   "outputs": [],
   "source": [
    "model.add_initialized_data(\"F\", [1.0])\n",
    "ind = model.add_source_term_brick(mim, \"u\", \"F\", RIGHT)"
   ]
  },
  {
   "cell_type": "markdown",
   "metadata": {},
   "source": [
    "The equation of Model object will be:\n",
    "$$\n",
    "\\begin{bmatrix}1 & 0\\\\\n",
    "-\\dfrac{EA}{L} & \\dfrac{EA}{L}\n",
    "\\end{bmatrix}\\begin{Bmatrix}u_{0}\\\\\n",
    "u_{1}\n",
    "\\end{Bmatrix}=\\begin{Bmatrix}0\\\\\n",
    "1\n",
    "\\end{Bmatrix}\n",
    "$$"
   ]
  },
  {
   "cell_type": "code",
   "execution_count": 24,
   "metadata": {},
   "outputs": [
    {
     "name": "stdout",
     "output_type": "stream",
     "text": [
      "matrix(2, 2)\n",
      "( (r0, 1) )\n",
      "( (r0, -100) (r1, 100) )\n",
      "\n",
      "[0. 1.]\n"
     ]
    }
   ],
   "source": [
    "model.assembly()\n",
    "SM = model.tangent_matrix()\n",
    "rhs = model.rhs()\n",
    "print(SM)\n",
    "print(rhs)"
   ]
  },
  {
   "cell_type": "markdown",
   "metadata": {},
   "source": [
    "If you know the excplit rhs.\n",
    "You can add it using `add_exclicit_rhs`:"
   ]
  },
  {
   "cell_type": "code",
   "execution_count": 25,
   "metadata": {},
   "outputs": [
    {
     "data": {
      "text/plain": [
       "\u001b[0;31mSignature:\u001b[0m \u001b[0mmodel\u001b[0m\u001b[0;34m.\u001b[0m\u001b[0madd_explicit_rhs\u001b[0m\u001b[0;34m(\u001b[0m\u001b[0mvarname\u001b[0m\u001b[0;34m,\u001b[0m \u001b[0mL\u001b[0m\u001b[0;34m)\u001b[0m\u001b[0;34m\u001b[0m\u001b[0;34m\u001b[0m\u001b[0m\n",
       "\u001b[0;31mDocstring:\u001b[0m\n",
       "Add a brick representing an explicit right hand side to be added to\n",
       "the right hand side of the tangent linear system relatively to the\n",
       "variable `varname`. The given rhs should have the same size than the\n",
       "dimension of `varname`. The rhs can be changed by the command\n",
       "Model.set_private_rhs(). If `dataname` is specified instead of\n",
       "`L`, the vector `L` is defined in the model as data with the given name.\n",
       "Return the brick index in the model.\n",
       "\u001b[0;31mFile:\u001b[0m      /usr/lib/python3/dist-packages/getfem/getfem.py\n",
       "\u001b[0;31mType:\u001b[0m      method\n"
      ]
     },
     "metadata": {},
     "output_type": "display_data"
    }
   ],
   "source": [
    "model.add_explicit_rhs?"
   ]
  },
  {
   "cell_type": "code",
   "execution_count": 26,
   "metadata": {},
   "outputs": [],
   "source": [
    "# model.add_explicit_rhs(\"u\", [0.0, 1.0])"
   ]
  },
  {
   "cell_type": "markdown",
   "metadata": {},
   "source": [
    "### Model solve\n",
    "Once the model is correctly defined, we can simply solve it by:"
   ]
  },
  {
   "cell_type": "code",
   "execution_count": 27,
   "metadata": {},
   "outputs": [
    {
     "data": {
      "text/plain": [
       "(0, 1)"
      ]
     },
     "execution_count": 27,
     "metadata": {},
     "output_type": "execute_result"
    }
   ],
   "source": [
    "model.solve()"
   ]
  },
  {
   "cell_type": "markdown",
   "metadata": {},
   "source": [
    "### Export of the solution"
   ]
  },
  {
   "cell_type": "markdown",
   "metadata": {},
   "source": [
    "The finite element problem is now solved. \n",
    "We can get the value of displacement variable using `variable` method."
   ]
  },
  {
   "cell_type": "code",
   "execution_count": 28,
   "metadata": {},
   "outputs": [
    {
     "name": "stdout",
     "output_type": "stream",
     "text": [
      "[0.   0.01]\n"
     ]
    }
   ],
   "source": [
    "U = model.variable(\"u\")\n",
    "print(U)"
   ]
  },
  {
   "cell_type": "markdown",
   "metadata": {},
   "source": [
    "The model is simple enough to make sure the results are correct."
   ]
  },
  {
   "cell_type": "code",
   "execution_count": 29,
   "metadata": {},
   "outputs": [
    {
     "name": "stdout",
     "output_type": "stream",
     "text": [
      "[0.0, 0.01]\n"
     ]
    }
   ],
   "source": [
    "U = [0.0, L / E * A]\n",
    "print(U)"
   ]
  },
  {
   "cell_type": "markdown",
   "metadata": {},
   "source": [
    "### Delete of brick"
   ]
  },
  {
   "cell_type": "markdown",
   "metadata": {},
   "source": [
    "In the next section, we calculate a dynamic analysis, so we delete the static load brick. `delete_brick` method delete a variable or a data from the model."
   ]
  },
  {
   "cell_type": "code",
   "execution_count": 30,
   "metadata": {},
   "outputs": [
    {
     "data": {
      "text/plain": [
       "\u001b[0;31mSignature:\u001b[0m \u001b[0mmodel\u001b[0m\u001b[0;34m.\u001b[0m\u001b[0mdelete_brick\u001b[0m\u001b[0;34m(\u001b[0m\u001b[0mind_brick\u001b[0m\u001b[0;34m)\u001b[0m\u001b[0;34m\u001b[0m\u001b[0;34m\u001b[0m\u001b[0m\n",
       "\u001b[0;31mDocstring:\u001b[0m Delete a variable or a data from the model.\n",
       "\u001b[0;31mFile:\u001b[0m      /usr/lib/python3/dist-packages/getfem/getfem.py\n",
       "\u001b[0;31mType:\u001b[0m      method\n"
      ]
     },
     "metadata": {},
     "output_type": "display_data"
    }
   ],
   "source": [
    "model.delete_brick?"
   ]
  },
  {
   "cell_type": "code",
   "execution_count": 31,
   "metadata": {},
   "outputs": [],
   "source": [
    "model.delete_brick(ind)"
   ]
  },
  {
   "cell_type": "markdown",
   "metadata": {},
   "source": [
    "The equation of Model object will be:\n",
    "$$\n",
    "\\begin{bmatrix}1 & 0\\\\\n",
    "-\\dfrac{EA}{L} & \\dfrac{EA}{L}\n",
    "\\end{bmatrix}\\begin{Bmatrix}u_{0}\\\\\n",
    "u_{1}\n",
    "\\end{Bmatrix}=\\begin{Bmatrix}0\\\\\n",
    "0\n",
    "\\end{Bmatrix}\n",
    "$$"
   ]
  },
  {
   "cell_type": "code",
   "execution_count": 32,
   "metadata": {},
   "outputs": [
    {
     "name": "stdout",
     "output_type": "stream",
     "text": [
      "matrix(2, 2)\n",
      "( (r0, 1) )\n",
      "( (r0, -100) (r1, 100) )\n",
      "\n",
      "[0. 0.]\n"
     ]
    }
   ],
   "source": [
    "model.assembly()\n",
    "SM = model.tangent_matrix()\n",
    "rhs = model.rhs()\n",
    "print(SM)\n",
    "print(rhs)"
   ]
  },
  {
   "cell_type": "markdown",
   "metadata": {},
   "source": [
    "### The model tools for the integration of transient problems"
   ]
  },
  {
   "cell_type": "markdown",
   "metadata": {},
   "source": [
    "Although time integration scheme can be written directly using the model object by describing the problem to be solved at each iteration, the model object furnishes some basic tools to facilitate the writing of such schemes.\n",
    "For example you can add Newmark scheme using `add_Newmark_scheme` method:"
   ]
  },
  {
   "cell_type": "code",
   "execution_count": 33,
   "metadata": {},
   "outputs": [],
   "source": [
    "beta = 1.0 / 4.0\n",
    "gamma = 1.0 / 2.0\n",
    "model.add_Newmark_scheme(\"u\", beta, gamma)"
   ]
  },
  {
   "cell_type": "markdown",
   "metadata": {},
   "source": [
    "We use average constant acceleration ($\\beta = \\dfrac{1}{4}$, $\\gamma = \\dfrac{1}{2}$) which is unconditonally stable in linear model."
   ]
  },
  {
   "cell_type": "markdown",
   "metadata": {},
   "source": [
    "Some intermediate variables are added to the model to represent the time derivative (and the second order time derivative for second order problem).\n",
    "For instance, if `u` is a variable, `Dot_u` will represent the first order time derivative of `u` and `Dot2_u` the second order one.\n",
    "One can refer to these variables in the model to add a brick on it or to use it in GWFL, the generic weak form language. However, these are not considered to be independent variables, they will be linked to their corresponding original variable (in an affine way) by the time integration scheme.\n",
    "Most of the schemes need also the time derivative at the previous time step and add the data `Previous_Dot_u` and possibly `Previous_Dot2_u` to the model."
   ]
  },
  {
   "cell_type": "markdown",
   "metadata": {},
   "source": [
    "Some data are added to the model to represent the state of the system at previous time steps.\n",
    "For classical one-step schemes (for the moment, only one-step schemes are provided), only the previous time step is stored.\n",
    "For instance if u is a variable (thus represented at step $n$), `Previous_u`, `Previous2_u`, `Previous3_u` will be the data representing the state of the variable at the previous time step (step $n-1$, $n-2$ and $n-3$)."
   ]
  },
  {
   "cell_type": "markdown",
   "metadata": {},
   "source": [
    "### Mass matrix"
   ]
  },
  {
   "cell_type": "markdown",
   "metadata": {},
   "source": [
    "The element consistent mass matrix is given by the following equation using the mass density and the test function of the element:\n",
    "$$\n",
    "M=\\int_{0}^{L}\\rho u\\cdot vdx\n",
    "$$\n",
    "Mass brick adds a mass matrix on the tangent linear system with respect to a certain variable.\n",
    "The function which adds this brick to a model is:"
   ]
  },
  {
   "cell_type": "code",
   "execution_count": 34,
   "metadata": {},
   "outputs": [
    {
     "data": {
      "text/plain": [
       "\u001b[0;31mSignature:\u001b[0m \u001b[0mmodel\u001b[0m\u001b[0;34m.\u001b[0m\u001b[0madd_mass_brick\u001b[0m\u001b[0;34m(\u001b[0m\u001b[0mmim\u001b[0m\u001b[0;34m,\u001b[0m \u001b[0mvarname\u001b[0m\u001b[0;34m,\u001b[0m \u001b[0mdataexpr_rho\u001b[0m\u001b[0;34m=\u001b[0m\u001b[0;32mNone\u001b[0m\u001b[0;34m,\u001b[0m \u001b[0;34m*\u001b[0m\u001b[0margs\u001b[0m\u001b[0;34m)\u001b[0m\u001b[0;34m\u001b[0m\u001b[0;34m\u001b[0m\u001b[0m\n",
       "\u001b[0;31mDocstring:\u001b[0m\n",
       "Synopsis: ind = Model.add_mass_brick(self, MeshIm mim, string varname[, string dataexpr_rho[, int region]])\n",
       "\n",
       "Add mass term to the model relatively to the variable `varname`.\n",
       "If specified, the data `dataexpr_rho` is the\n",
       "density (1 if omitted). `region` is an optional mesh region on\n",
       "which the term is added. If it is not specified, it\n",
       "is added on the whole mesh. Return the brick index in the model.\n",
       "\u001b[0;31mFile:\u001b[0m      /usr/lib/python3/dist-packages/getfem/getfem.py\n",
       "\u001b[0;31mType:\u001b[0m      method\n"
      ]
     },
     "metadata": {},
     "output_type": "display_data"
    }
   ],
   "source": [
    "model.add_mass_brick?"
   ]
  },
  {
   "cell_type": "code",
   "execution_count": 35,
   "metadata": {},
   "outputs": [],
   "source": [
    "# model.add_initialized_data(\"rho\", rho)\n",
    "# model.add_mass_brick(mim, \"u\", \"rho\")"
   ]
  },
  {
   "cell_type": "markdown",
   "metadata": {},
   "source": [
    "Of cource we can also add the mass matrix using Generic Weak-Form Language (GWFL)."
   ]
  },
  {
   "cell_type": "code",
   "execution_count": 36,
   "metadata": {},
   "outputs": [
    {
     "data": {
      "text/plain": [
       "2"
      ]
     },
     "execution_count": 36,
     "metadata": {},
     "output_type": "execute_result"
    }
   ],
   "source": [
    "model.add_initialized_data(\"rho\", [rho])\n",
    "model.add_linear_term(mim, \"rho*Dot2_u.Test_Dot2_u\")"
   ]
  },
  {
   "cell_type": "markdown",
   "metadata": {},
   "source": [
    "Excplict mass matrix is\n",
    "$$\n",
    "M=\\dfrac{\\rho AL}{6}\\begin{bmatrix}2 & 1\\\\\n",
    "1 & 2\n",
    "\\end{bmatrix}\n",
    "$$\n",
    "And the equation is\n",
    "$$\n",
    "\\begin{bmatrix}1 & 0\\\\\n",
    "\\dfrac{\\rho AL}{6} & \\dfrac{\\rho AL}{6}\n",
    "\\end{bmatrix}\\begin{Bmatrix}\\dfrac{\\partial^{2}u_{0}}{\\partial t^{2}}\\\\\n",
    "\\dfrac{\\partial^{2}u_{1}}{\\partial t^{2}}\n",
    "\\end{Bmatrix}+\\begin{bmatrix}1 & 0\\\\\n",
    "-\\dfrac{EA}{L} & \\dfrac{EA}{L}\n",
    "\\end{bmatrix}\\begin{Bmatrix}u_{0}\\\\\n",
    "u_{1}\n",
    "\\end{Bmatrix}=\\begin{Bmatrix}0\\\\\n",
    "0\n",
    "\\end{Bmatrix}\n",
    "$$"
   ]
  },
  {
   "cell_type": "markdown",
   "metadata": {},
   "source": [
    "Angular frequency without damping of this model is:\n",
    "$$\n",
    "\\omega_{u}=\\sqrt{\\dfrac{k}{m}}\n",
    "$$\n",
    "$$\n",
    "\\omega_{d}=\\dfrac{\\sqrt{4mk-c^{2}}}{2m}\n",
    "$$\n",
    "with\n",
    "$$\n",
    "m = \\dfrac{\\rho AL}{3}\n",
    "$$\n",
    "$$\n",
    "k = \\dfrac{EA}{L}\n",
    "$$"
   ]
  },
  {
   "cell_type": "markdown",
   "metadata": {},
   "source": [
    "### Damping matrix\n",
    "The damping matrix is given by the following equation using the viscous damping $\\mu$ and the test function $v$.\n",
    "$$\n",
    "C=\\int_{0}^{L}\\mu u\\cdot vdx\n",
    "$$\n",
    "However it is hard to compute the $mu$, we usually use Rayleigh damping.\n",
    "$$\n",
    "C=\\alpha \\cdot M + \\beta \\cdot K\n",
    "$$"
   ]
  },
  {
   "cell_type": "code",
   "execution_count": 37,
   "metadata": {},
   "outputs": [
    {
     "data": {
      "text/plain": [
       "5805.8474978713775"
      ]
     },
     "execution_count": 37,
     "metadata": {},
     "output_type": "execute_result"
    }
   ],
   "source": [
    "m = rho * A * L / 3.0\n",
    "k = E * A / L\n",
    "omega_u = np.sqrt(k / m)\n",
    "omega_u"
   ]
  },
  {
   "cell_type": "code",
   "execution_count": 38,
   "metadata": {},
   "outputs": [
    {
     "data": {
      "text/plain": [
       "5804.639291409139"
      ]
     },
     "execution_count": 38,
     "metadata": {},
     "output_type": "execute_result"
    }
   ],
   "source": [
    "h = 0.02\n",
    "alpha = 2.0 * omega_u * h\n",
    "beta = 2.0 * h / omega_u * h\n",
    "c = alpha * m + beta * k\n",
    "omega_d = np.sqrt(4.0 * m * k - c ** 2) / (2.0 * m)\n",
    "omega_d"
   ]
  },
  {
   "cell_type": "markdown",
   "metadata": {},
   "source": [
    "we can also add the matrix using Generic Weak-Form Language (GWFL) to `Dot_u`."
   ]
  },
  {
   "cell_type": "code",
   "execution_count": 39,
   "metadata": {},
   "outputs": [
    {
     "data": {
      "text/plain": [
       "3"
      ]
     },
     "execution_count": 39,
     "metadata": {},
     "output_type": "execute_result"
    }
   ],
   "source": [
    "model.add_initialized_data(\"alpha\", alpha)\n",
    "model.add_initialized_data(\"beta\", beta)\n",
    "model.add_linear_term(\n",
    "    mim, \"alpha*rho*Dot_u.Test_Dot_u+beta*D*(Grad_Dot_u.Grad_Test_Dot_u)\"\n",
    ")"
   ]
  },
  {
   "cell_type": "markdown",
   "metadata": {},
   "source": [
    "The equation is\n",
    "$$\n",
    "\\begin{bmatrix}1 & 0\\\\\n",
    "\\dfrac{\\rho AL}{6} & \\dfrac{\\rho AL}{3}\n",
    "\\end{bmatrix}\\begin{Bmatrix}\\dfrac{\\partial^{2}u_{0}}{\\partial t^{2}}\\\\\n",
    "\\dfrac{\\partial^{2}u_{1}}{\\partial t^{2}}\n",
    "\\end{Bmatrix}+\\left(\\alpha\\begin{bmatrix}1 & 0\\\\\n",
    "\\dfrac{\\rho AL}{6} & \\dfrac{\\rho AL}{3}\n",
    "\\end{bmatrix}+\\beta\\begin{bmatrix}1 & 0\\\\\n",
    "-\\dfrac{EA}{L} & \\dfrac{EA}{L}\n",
    "\\end{bmatrix}\\right)\\begin{Bmatrix}\\dfrac{\\partial u_{0}}{\\partial t}\\\\\n",
    "\\dfrac{\\partial u_{1}}{\\partial t}\n",
    "\\end{Bmatrix}+\\begin{bmatrix}1 & 0\\\\\n",
    "-\\dfrac{EA}{L} & \\dfrac{EA}{L}\n",
    "\\end{bmatrix}\\begin{Bmatrix}u_{0}\\\\\n",
    "u_{1}\n",
    "\\end{Bmatrix}=\\begin{Bmatrix}0\\\\\n",
    "0\n",
    "\\end{Bmatrix}\n",
    "$$"
   ]
  },
  {
   "cell_type": "markdown",
   "metadata": {},
   "source": [
    "### The implicit Newmark scheme for second order problems"
   ]
  },
  {
   "cell_type": "markdown",
   "metadata": {},
   "source": [
    "The equation of Newmark theme is following ($n$ is the step of time):\n",
    "$$\n",
    "\\left(K+\\dfrac{\\gamma}{\\beta\\Delta t}C+\\dfrac{1}{\\beta\\Delta t^{2}}M\\right)u_{n+1}=f_{n+1}+M\\left(\\left(\\dfrac{1}{2\\beta}-1\\right)\\dfrac{\\partial^{2}u_{n}}{\\partial t^{2}}+\\dfrac{1}{\\beta\\Delta t}\\dfrac{\\partial u_{n}}{\\partial t}+\\dfrac{1}{\\beta\\Delta t^{2}}u_{n}\\right)+C\\left(\\left(\\dfrac{\\gamma}{2\\beta}-1\\right)\\Delta t_{n}\\dfrac{\\partial^{2}u_{n}}{\\partial t^{2}}+\\left(\\dfrac{\\gamma}{\\beta}-1\\right)\\dfrac{\\partial u_{n}}{\\partial t}+\\dfrac{\\gamma}{\\beta\\Delta t}u_{n}\\right)\n",
    "$$\n",
    "We can set the time step $dt$ using `set_time_step` method."
   ]
  },
  {
   "cell_type": "code",
   "execution_count": 40,
   "metadata": {},
   "outputs": [
    {
     "data": {
      "text/plain": [
       "\u001b[0;31mSignature:\u001b[0m \u001b[0mmodel\u001b[0m\u001b[0;34m.\u001b[0m\u001b[0mset_time_step\u001b[0m\u001b[0;34m(\u001b[0m\u001b[0mdt\u001b[0m\u001b[0;34m)\u001b[0m\u001b[0;34m\u001b[0m\u001b[0;34m\u001b[0m\u001b[0m\n",
       "\u001b[0;31mDocstring:\u001b[0m\n",
       "Set the value of the time step to `dt`. This value can be change\n",
       "from a step to another for all one-step schemes (i.e for the moment\n",
       "to all proposed time integration schemes). \n",
       "\u001b[0;31mFile:\u001b[0m      /usr/lib/python3/dist-packages/getfem/getfem.py\n",
       "\u001b[0;31mType:\u001b[0m      method\n"
      ]
     },
     "metadata": {},
     "output_type": "display_data"
    }
   ],
   "source": [
    "model.set_time_step?"
   ]
  },
  {
   "cell_type": "markdown",
   "metadata": {},
   "source": [
    "It is generally recommended to use $1/20$ of the desired period for the time step.\n",
    "So we use 1/20 of the natural period of the model."
   ]
  },
  {
   "cell_type": "code",
   "execution_count": 41,
   "metadata": {},
   "outputs": [],
   "source": [
    "T0 = 2.0*np.pi*np.sqrt(m/k)\n",
    "dt = T0 / 20.0\n",
    "model.set_time_step(dt)"
   ]
  },
  {
   "cell_type": "markdown",
   "metadata": {},
   "source": [
    "We consider the case where the left side is fully constrained and the right side is subjected to a prescribed displacement of 1 mm."
   ]
  },
  {
   "cell_type": "code",
   "execution_count": 42,
   "metadata": {},
   "outputs": [],
   "source": [
    "U0 = np.array([0.0, 1.0]) # mm\n",
    "V0 = np.array([0.0, 0.0]) # mm/sec\n",
    "A0 = np.array([0.0, 0.0]) # mm/sec^2\n",
    "model.set_variable(\"Previous_u\", U0)\n",
    "model.set_variable(\"Previous_Dot_u\", U0)\n",
    "model.set_variable(\"Previous_Dot2_u\", A0)"
   ]
  },
  {
   "cell_type": "markdown",
   "metadata": {},
   "source": [
    "Typically, the solve on the different time steps will take the following form:"
   ]
  },
  {
   "cell_type": "code",
   "execution_count": 43,
   "metadata": {},
   "outputs": [],
   "source": [
    "T = np.array([])\n",
    "U = np.array([])\n",
    "for t in np.arange(0.0, 0.004, dt):\n",
    "    model.solve()\n",
    "    T = np.append(T, model.get_time())\n",
    "    U = np.append(U, model.variable(\"u\")[1])\n",
    "    model.shift_variables_for_time_integration()"
   ]
  },
  {
   "cell_type": "markdown",
   "metadata": {},
   "source": [
    "Note that the call of the method:"
   ]
  },
  {
   "cell_type": "code",
   "execution_count": 44,
   "metadata": {},
   "outputs": [
    {
     "data": {
      "text/plain": [
       "\u001b[0;31mSignature:\u001b[0m \u001b[0mmodel\u001b[0m\u001b[0;34m.\u001b[0m\u001b[0mshift_variables_for_time_integration\u001b[0m\u001b[0;34m(\u001b[0m\u001b[0;34m)\u001b[0m\u001b[0;34m\u001b[0m\u001b[0;34m\u001b[0m\u001b[0m\n",
       "\u001b[0;31mDocstring:\u001b[0m\n",
       "Function used to shift the variables of a model to the data\n",
       "corresponding of ther value on the previous time step for time\n",
       "integration schemes. For each variable for which a time integration\n",
       "scheme has been declared, the scheme is called to perform the shift.\n",
       "This function has to be called between two time steps. \n",
       "\u001b[0;31mFile:\u001b[0m      /usr/lib/python3/dist-packages/getfem/getfem.py\n",
       "\u001b[0;31mType:\u001b[0m      method\n"
      ]
     },
     "metadata": {},
     "output_type": "display_data"
    }
   ],
   "source": [
    "model.shift_variables_for_time_integration?"
   ]
  },
  {
   "cell_type": "markdown",
   "metadata": {},
   "source": [
    "is needed between two time step since it will copy the current value of the variables (`u` and `Dot_u` for instance) to the previous ones (`Previous_u` and `Previous_Dot_u`)."
   ]
  },
  {
   "cell_type": "markdown",
   "metadata": {},
   "source": [
    "The comparison between the damping rate of the analytical solution and the FEM amplitude is plotted in the bottom figure. Both are in good agreement.\n",
    "$$\n",
    "u\\left(t+nT\\right)=\\exp\\left(-2\\pi nh\\dfrac{\\omega_{u}}{\\omega_{d}}\\right)\n",
    "$$"
   ]
  },
  {
   "cell_type": "code",
   "execution_count": 45,
   "metadata": {},
   "outputs": [
    {
     "data": {
      "text/plain": [
       "<matplotlib.legend.Legend at 0x7f213c08cf70>"
      ]
     },
     "execution_count": 45,
     "metadata": {},
     "output_type": "execute_result"
    },
    {
     "data": {
      "image/png": "[encoded data removed]",
      "text/plain": [
       "<Figure size 432x288 with 1 Axes>"
      ]
     },
     "metadata": {
      "needs_background": "light"
     },
     "output_type": "display_data"
    }
   ],
   "source": [
    "import matplotlib.pyplot as plt\n",
    "\n",
    "fig = plt.figure()\n",
    "ax = fig.add_subplot(1, 1, 1)\n",
    "ax.plot(T, U, label=\"FEM\", color=\"black\")\n",
    "n = np.arange(0, 5)\n",
    "ax.plot(\n",
    "    n * 2.0 * np.pi / omega_d,\n",
    "    1.0 * np.exp(-2.0 * np.pi * n * h * omega_u / omega_d),\n",
    "    color=\"red\",\n",
    "    marker=\"o\",\n",
    "    label=\"Analytical\",\n",
    ")\n",
    "ax.set_xlim(0.000, 0.004)\n",
    "ax.set_ylim(-1.000, 1.000)\n",
    "ax.legend()"
   ]
  },
  {
   "cell_type": "markdown",
   "metadata": {},
   "source": [
    "This is a small model example, but you can calculate the more complicated element in the same way."
   ]
  },
  {
   "cell_type": "code",
   "execution_count": null,
   "metadata": {},
   "outputs": [],
   "source": []
  }
 ],
 "metadata": {
  "kernelspec": {
   "display_name": "Python 3",
   "language": "python",
   "name": "python3"
  },
  "language_info": {
   "codemirror_mode": {
    "name": "ipython",
    "version": 3
   },
   "file_extension": ".py",
   "mimetype": "text/x-python",
   "name": "python",
   "nbconvert_exporter": "python",
   "pygments_lexer": "ipython3",
   "version": "3.8.5"
  }
 },
 "nbformat": 4,
 "nbformat_minor": 4
}
