{
 "cells": [
  {
   "cell_type": "markdown",
   "metadata": {
    "colab_type": "text",
    "id": "L_IS3iGB1kNR"
   },
   "source": [
    "# study of cantilever beam\n",
    "[![Binder](https://mybinder.org/badge.svg)](https://mybinder.org/v2/gh/getfem-doc/getfem-examples/master?filepath=doc%2Fcantilever.ipynb)\n",
    "\n",
    "Consider a cantilever beam using the Finite Element Method library GetFEM++."
   ]
  },
  {
   "cell_type": "markdown",
   "metadata": {
    "colab_type": "text",
    "id": "VoX1kh7t_zFn"
   },
   "source": [
    "## Creating a Model"
   ]
  },
  {
   "cell_type": "markdown",
   "metadata": {
    "colab_type": "text",
    "id": "tIvfNf2F5mXz"
   },
   "source": [
    "Now we are ready, import the library."
   ]
  },
  {
   "cell_type": "code",
   "execution_count": 1,
   "metadata": {
    "colab": {},
    "colab_type": "code",
    "id": "es5ZAE995S5L"
   },
   "outputs": [],
   "source": [
    "import getfem as gf\n",
    "import numpy as np\n",
    "import numpy.testing as npt\n",
    "import pandas as pd\n",
    "import pyvista as pv\n",
    "from IPython.display import Markdown"
   ]
  },
  {
   "cell_type": "markdown",
   "metadata": {
    "colab_type": "text",
    "id": "cWjPHP7y7NdL"
   },
   "source": [
    "The review cases are as follows. GetFEM++ uses FEM_PRODUCT and IM_PRODUCT to two-dimensional the finite element method and the integration method, respectively. For quadratic elements, the Gaussian integration point is 3. IM_GAUSS1D(K) represents the integration point of $K/2+1$ points. The element uses plane strain elements. Set up these meshes, the finite element method and the integration method."
   ]
  },
  {
   "cell_type": "code",
   "execution_count": 2,
   "metadata": {
    "colab": {},
    "colab_type": "code",
    "id": "niYaXPZ3jYCG"
   },
   "outputs": [],
   "source": [
    "cases = [\n",
    "    \"case11\",\n",
    "    \"case12\",\n",
    "    \"case13\",\n",
    "    \"case14\",\n",
    "    \"case21\",\n",
    "    \"case22\",\n",
    "    \"case23\",\n",
    "    \"case24\",\n",
    "    \"case31\",\n",
    "    \"case32\",\n",
    "    \"case33\",\n",
    "    \"case34\",\n",
    "    \"case41\",\n",
    "    \"case42\",\n",
    "    \"case43\",\n",
    "    \"case44\",\n",
    "]"
   ]
  },
  {
   "cell_type": "code",
   "execution_count": 3,
   "metadata": {
    "colab": {},
    "colab_type": "code",
    "id": "To0AdNjowMhs"
   },
   "outputs": [],
   "source": [
    "xs = [\n",
    "    4,\n",
    "    4,\n",
    "    4,\n",
    "    16,\n",
    "    4,\n",
    "    4,\n",
    "    4,\n",
    "    16,\n",
    "    4,\n",
    "    4,\n",
    "    4,\n",
    "    16,\n",
    "    4,\n",
    "    4,\n",
    "    4,\n",
    "    16,\n",
    "]\n",
    "ys = [\n",
    "    1,\n",
    "    2,\n",
    "    4,\n",
    "    8,\n",
    "    1,\n",
    "    2,\n",
    "    4,\n",
    "    8,\n",
    "    1,\n",
    "    2,\n",
    "    4,\n",
    "    8,\n",
    "    1,\n",
    "    2,\n",
    "    4,\n",
    "    8,\n",
    "]"
   ]
  },
  {
   "cell_type": "code",
   "execution_count": 4,
   "metadata": {
    "colab": {},
    "colab_type": "code",
    "id": "Q1YaMRRGifB5"
   },
   "outputs": [],
   "source": [
    "fem_names = [\n",
    "    \"FEM_PK(1, 2)\",\n",
    "    \"FEM_PK(1, 2)\",\n",
    "    \"FEM_PK(1, 2)\",\n",
    "    \"FEM_PK(1, 2)\",\n",
    "    \"FEM_PK(1, 1)\",\n",
    "    \"FEM_PK(1, 1)\",\n",
    "    \"FEM_PK(1, 1)\",\n",
    "    \"FEM_PK(1, 1)\",\n",
    "    \"FEM_PK(1, 1)\",\n",
    "    \"FEM_PK(1, 1)\",\n",
    "    \"FEM_PK(1, 1)\",\n",
    "    \"FEM_PK(1, 1)\",\n",
    "    \"FEM_PK_WITH_CUBIC_BUBBLE(1, 1)\",\n",
    "    \"FEM_PK_WITH_CUBIC_BUBBLE(1, 1)\",\n",
    "    \"FEM_PK_WITH_CUBIC_BUBBLE(1, 1)\",\n",
    "    \"FEM_PK_WITH_CUBIC_BUBBLE(1, 1)\",\n",
    "]"
   ]
  },
  {
   "cell_type": "code",
   "execution_count": 5,
   "metadata": {
    "colab": {},
    "colab_type": "code",
    "id": "DDwYsdjErcPw"
   },
   "outputs": [],
   "source": [
    "methods = [\n",
    "    \"IM_GAUSS1D(4)\",\n",
    "    \"IM_GAUSS1D(4)\",\n",
    "    \"IM_GAUSS1D(4)\",\n",
    "    \"IM_GAUSS1D(4)\",\n",
    "    \"IM_GAUSS1D(2)\",\n",
    "    \"IM_GAUSS1D(2)\",\n",
    "    \"IM_GAUSS1D(2)\",\n",
    "    \"IM_GAUSS1D(2)\",\n",
    "    \"IM_GAUSS1D(0)\",\n",
    "    \"IM_GAUSS1D(0)\",\n",
    "    \"IM_GAUSS1D(0)\",\n",
    "    \"IM_GAUSS1D(0)\",\n",
    "    \"IM_GAUSS1D(4)\",\n",
    "    \"IM_GAUSS1D(4)\",\n",
    "    \"IM_GAUSS1D(4)\",\n",
    "    \"IM_GAUSS1D(4)\",\n",
    "]"
   ]
  },
  {
   "cell_type": "code",
   "execution_count": 6,
   "metadata": {
    "colab": {
     "base_uri": "https://localhost:8080/",
     "height": 541
    },
    "colab_type": "code",
    "id": "7uNHImiSu_rm",
    "outputId": "1e371259-004d-4670-d8ec-e3e837a5ece0"
   },
   "outputs": [
    {
     "data": {
      "text/markdown": [
       "|    | Case Name   | Mesh   | Finite Element Method          | Integration Method   |\n",
       "|---:|:------------|:-------|:-------------------------------|:---------------------|\n",
       "|  0 | case11      | 4x1    | FEM_PK(1, 2)                   | IM_GAUSS1D(4)        |\n",
       "|  1 | case12      | 4x2    | FEM_PK(1, 2)                   | IM_GAUSS1D(4)        |\n",
       "|  2 | case13      | 4x4    | FEM_PK(1, 2)                   | IM_GAUSS1D(4)        |\n",
       "|  3 | case14      | 16x8   | FEM_PK(1, 2)                   | IM_GAUSS1D(4)        |\n",
       "|  4 | case21      | 4x1    | FEM_PK(1, 1)                   | IM_GAUSS1D(2)        |\n",
       "|  5 | case22      | 4x2    | FEM_PK(1, 1)                   | IM_GAUSS1D(2)        |\n",
       "|  6 | case23      | 4x4    | FEM_PK(1, 1)                   | IM_GAUSS1D(2)        |\n",
       "|  7 | case24      | 16x8   | FEM_PK(1, 1)                   | IM_GAUSS1D(2)        |\n",
       "|  8 | case31      | 4x1    | FEM_PK(1, 1)                   | IM_GAUSS1D(0)        |\n",
       "|  9 | case32      | 4x2    | FEM_PK(1, 1)                   | IM_GAUSS1D(0)        |\n",
       "| 10 | case33      | 4x4    | FEM_PK(1, 1)                   | IM_GAUSS1D(0)        |\n",
       "| 11 | case34      | 16x8   | FEM_PK(1, 1)                   | IM_GAUSS1D(0)        |\n",
       "| 12 | case41      | 4x1    | FEM_PK_WITH_CUBIC_BUBBLE(1, 1) | IM_GAUSS1D(4)        |\n",
       "| 13 | case42      | 4x2    | FEM_PK_WITH_CUBIC_BUBBLE(1, 1) | IM_GAUSS1D(4)        |\n",
       "| 14 | case43      | 4x4    | FEM_PK_WITH_CUBIC_BUBBLE(1, 1) | IM_GAUSS1D(4)        |\n",
       "| 15 | case44      | 16x8   | FEM_PK_WITH_CUBIC_BUBBLE(1, 1) | IM_GAUSS1D(4)        |"
      ],
      "text/plain": [
       "<IPython.core.display.Markdown object>"
      ]
     },
     "execution_count": 6,
     "metadata": {},
     "output_type": "execute_result"
    }
   ],
   "source": [
    "pd.options.display.float_format = \"{:.2f}\".format\n",
    "data = []\n",
    "columns = [\"Case Name\", \"Mesh\", \"Finite Element Method\", \"Integration Method\"]\n",
    "for case, x, y, fem_name, method in zip(cases, xs, ys, fem_names, methods):\n",
    "    data.append([case, str(x) + \"x\" + str(y), fem_name, method])\n",
    "df = pd.DataFrame(data=data, columns=columns)\n",
    "Markdown(df.to_markdown())"
   ]
  },
  {
   "cell_type": "markdown",
   "metadata": {
    "colab_type": "text",
    "id": "JB2ke7MEowxr"
   },
   "source": [
    "### Mesh\n",
    "\n",
    "The overall size of the model is L = 10 mm in length, h = 1 mm in height, and b = 1 mm in depth. In general, a slender ratio of 1: 10 is considered a beam element."
   ]
  },
  {
   "cell_type": "code",
   "execution_count": 7,
   "metadata": {
    "colab": {},
    "colab_type": "code",
    "id": "A6iUeElf8Wf2"
   },
   "outputs": [],
   "source": [
    "L = 10.0\n",
    "b = 1.0\n",
    "h = 1.0\n",
    "meshs = []\n",
    "for case, x, y in zip(cases, xs, ys):\n",
    "    X = np.arange(x + 1) * L / x\n",
    "    Y = np.arange(y + 1) * h / y\n",
    "    mesh = gf.Mesh(\"cartesian\", X, Y)\n",
    "    meshs.append(mesh)\n",
    "    mesh.export_to_vtk(\"mesh_\" + case + \".vtk\", \"ascii\")"
   ]
  },
  {
   "cell_type": "markdown",
   "metadata": {
    "colab_type": "text",
    "id": "5tsdWFw3o7iZ"
   },
   "source": [
    "Outputs an image of each mesh."
   ]
  },
  {
   "cell_type": "code",
   "execution_count": 8,
   "metadata": {
    "colab": {
     "base_uri": "https://localhost:8080/",
     "height": 367
    },
    "colab_type": "code",
    "id": "HtMdJxpJqNaw",
    "outputId": "33d39318-609e-4a38-a9ab-d93ccd45ce3f"
   },
   "outputs": [
    {
     "data": {
      "image/png": "[encoded data removed]",
      "text/plain": [
       "<PIL.Image.Image image mode=RGB size=1024x768 at 0x7FB9C4E891C0>"
      ]
     },
     "metadata": {},
     "output_type": "display_data"
    }
   ],
   "source": [
    "p = pv.Plotter(shape=(4, 4))\n",
    "\n",
    "for i in range(4):\n",
    "    for j in range(4):\n",
    "        p.subplot(i, j)\n",
    "        mesh = pv.read(\"mesh_\" + cases[i * 4 + j] + \".vtk\")\n",
    "        p.add_text(cases[i * 4 + j], font_size=10)\n",
    "        p.add_mesh(mesh, color=\"tan\", show_edges=True)\n",
    "\n",
    "p.show(cpos=\"xy\")"
   ]
  },
  {
   "cell_type": "markdown",
   "metadata": {
    "colab_type": "text",
    "id": "ft8YGlwgswMF"
   },
   "source": [
    "### Region\n",
    "\n",
    "Sets the area on the left side of the mesh where the Dirichlet condition is set. The right side sets the area for setting the Neumann condition."
   ]
  },
  {
   "cell_type": "code",
   "execution_count": 9,
   "metadata": {
    "colab": {},
    "colab_type": "code",
    "id": "KHZ87B4NuVkH"
   },
   "outputs": [],
   "source": [
    "TOP_BOUND = 1\n",
    "RIGHT_BOUND = 2\n",
    "LEFT_BOUND = 3\n",
    "BOTTOM_BOUND = 4\n",
    "\n",
    "for mesh in meshs:\n",
    "    fb1 = mesh.outer_faces_with_direction([0.0, 1.0], 0.01)\n",
    "    fb2 = mesh.outer_faces_with_direction([1.0, 0.0], 0.01)\n",
    "    fb3 = mesh.outer_faces_with_direction([-1.0, 0.0], 0.01)\n",
    "    fb4 = mesh.outer_faces_with_direction([0.0, -1.0], 0.01)\n",
    "    mesh.set_region(TOP_BOUND, fb1)\n",
    "    mesh.set_region(RIGHT_BOUND, fb2)\n",
    "    mesh.set_region(LEFT_BOUND, fb3)\n",
    "    mesh.set_region(BOTTOM_BOUND, fb4)"
   ]
  },
  {
   "cell_type": "markdown",
   "metadata": {
    "colab_type": "text",
    "id": "wmc1X8kxuI0U"
   },
   "source": [
    "### Finite Element Method\n",
    "Create a MeshFem object and associate the mesh with the finite element method."
   ]
  },
  {
   "cell_type": "code",
   "execution_count": 10,
   "metadata": {
    "colab": {},
    "colab_type": "code",
    "id": "BZMl4G9fuHNw"
   },
   "outputs": [],
   "source": [
    "fems = []\n",
    "for fem_name in fem_names:\n",
    "    fems.append(gf.Fem(\"FEM_PRODUCT(\" + fem_name + \",\" + fem_name + \")\"))"
   ]
  },
  {
   "cell_type": "code",
   "execution_count": 11,
   "metadata": {
    "colab": {},
    "colab_type": "code",
    "id": "Cmfiow4MviZF"
   },
   "outputs": [],
   "source": [
    "mfus = []\n",
    "for mesh, fem in zip(meshs, fems):\n",
    "    mfu = gf.MeshFem(mesh, 2)\n",
    "    mfu.set_fem(fem)\n",
    "    mfus.append(mfu)"
   ]
  },
  {
   "cell_type": "markdown",
   "metadata": {
    "colab_type": "text",
    "id": "DsCLZKKfwrpx"
   },
   "source": [
    "### Integral method\n",
    "Associate the integration method with the mesh."
   ]
  },
  {
   "cell_type": "code",
   "execution_count": 12,
   "metadata": {
    "colab": {},
    "colab_type": "code",
    "id": "XyAaD48IwA0r"
   },
   "outputs": [],
   "source": [
    "ims = []\n",
    "for method in methods:\n",
    "    ims.append(gf.Integ(\"IM_PRODUCT(\" + method + \", \" + method + \")\"))"
   ]
  },
  {
   "cell_type": "code",
   "execution_count": 13,
   "metadata": {
    "colab": {},
    "colab_type": "code",
    "id": "MzAy5F_XxyVU"
   },
   "outputs": [],
   "source": [
    "mims = []\n",
    "for mesh, im in zip(meshs, ims):\n",
    "    mim = gf.MeshIm(mesh, im)\n",
    "    mims.append(mim)"
   ]
  },
  {
   "cell_type": "markdown",
   "metadata": {
    "colab_type": "text",
    "id": "inmXMhiDzynb"
   },
   "source": [
    "### Variable\n",
    "Define the model object and set the variable \"u\"."
   ]
  },
  {
   "cell_type": "code",
   "execution_count": 14,
   "metadata": {
    "colab": {},
    "colab_type": "code",
    "id": "GQU-6EO-zbe0"
   },
   "outputs": [],
   "source": [
    "mds = []\n",
    "for mfu in mfus:\n",
    "    md = gf.Model(\"real\")\n",
    "    md.add_fem_variable(\"u\", mfu)\n",
    "    mds.append(md)"
   ]
  },
  {
   "cell_type": "markdown",
   "metadata": {
    "colab_type": "text",
    "id": "iZZsWtD21d93"
   },
   "source": [
    "### Properties\n",
    "Define properties as constants for the model object. The Young's modulus of steel is $E = 205000\\times 10^6N/m^2$. Also set Poisson's ratio $\\nu = 0.0$ to ignore the Poisson effect."
   ]
  },
  {
   "cell_type": "code",
   "execution_count": 15,
   "metadata": {
    "colab": {},
    "colab_type": "code",
    "id": "9QjugTGu14Gj"
   },
   "outputs": [],
   "source": [
    "E = 10000  # N/mm2\n",
    "Nu = 0.0\n",
    "\n",
    "for md in mds:\n",
    "    md.add_initialized_data(\"E\", E)\n",
    "    md.add_initialized_data(\"Nu\", Nu)"
   ]
  },
  {
   "cell_type": "markdown",
   "metadata": {
    "colab_type": "text",
    "id": "gSF5W36n00E7"
   },
   "source": [
    "### Plane Strain Element\n",
    "Defines the plane strain element for variable 'u'."
   ]
  },
  {
   "cell_type": "code",
   "execution_count": 16,
   "metadata": {
    "colab": {},
    "colab_type": "code",
    "id": "BYQ4PrIezwcM"
   },
   "outputs": [],
   "source": [
    "for md, mim in zip(mds, mims):\n",
    "    md.add_isotropic_linearized_elasticity_brick_pstrain(mim, \"u\", \"E\", \"Nu\")"
   ]
  },
  {
   "cell_type": "markdown",
   "metadata": {
    "colab_type": "text",
    "id": "hPQ4wVVM3iK8"
   },
   "source": [
    "### Boundary Conditions\n",
    "\n",
    "Set the Dirichlet condition for the region on the left side."
   ]
  },
  {
   "cell_type": "code",
   "execution_count": 17,
   "metadata": {
    "colab": {},
    "colab_type": "code",
    "id": "P-rLV-Bp24II"
   },
   "outputs": [],
   "source": [
    "for (md, mim, mfu, fem) in zip(mds, mims, mfus, fems):\n",
    "    if fem.is_lagrange():\n",
    "        md.add_Dirichlet_condition_with_simplification(\"u\", LEFT_BOUND)\n",
    "    else:\n",
    "        md.add_Dirichlet_condition_with_multipliers(mim, \"u\", mfu, LEFT_BOUND)"
   ]
  },
  {
   "cell_type": "markdown",
   "metadata": {
    "colab_type": "text",
    "id": "7WMVp20z5Nhh"
   },
   "source": [
    "Set the Neumann boundary condition on the right side."
   ]
  },
  {
   "cell_type": "code",
   "execution_count": 18,
   "metadata": {
    "colab": {},
    "colab_type": "code",
    "id": "58PYqaOb45Tk"
   },
   "outputs": [],
   "source": [
    "F = 1.0  # N/mm2\n",
    "for (md, mfu, mim) in zip(mds, mfus, mims):\n",
    "    md.add_initialized_data(\"F\", [0, F / (b * h)])\n",
    "    md.add_source_term_brick(mim, \"u\", \"F\", RIGHT_BOUND)"
   ]
  },
  {
   "cell_type": "markdown",
   "metadata": {
    "colab_type": "text",
    "id": "wzRniIhB-sEI"
   },
   "source": [
    "## Solve\n",
    "\n",
    "Solve the simultaneous equations of the model object to find the value of the variable 'u'."
   ]
  },
  {
   "cell_type": "code",
   "execution_count": 19,
   "metadata": {
    "colab": {},
    "colab_type": "code",
    "id": "Ga_ybGEB_COm"
   },
   "outputs": [],
   "source": [
    "for md in mds:\n",
    "    md.solve()"
   ]
  },
  {
   "cell_type": "markdown",
   "metadata": {
    "colab_type": "text",
    "id": "DFU32bi0tBaL"
   },
   "source": [
    "The constraint on the left end has a displacement of 0.0."
   ]
  },
  {
   "cell_type": "code",
   "execution_count": 20,
   "metadata": {
    "colab": {},
    "colab_type": "code",
    "id": "cRGXMmgbtK4N"
   },
   "outputs": [],
   "source": [
    "for md, mfu, case in zip(mds, mfus, cases):\n",
    "    u = md.variable(\"u\")\n",
    "    dof = mfu.basic_dof_on_region(LEFT_BOUND)\n",
    "    npt.assert_almost_equal(abs(np.max(u[dof])), 0.0)"
   ]
  },
  {
   "cell_type": "markdown",
   "metadata": {
    "colab_type": "text",
    "id": "H0p8QbwA_Ss6"
   },
   "source": [
    "## Review results\n",
    "\n",
    "Output and visualize the results of each case to vtk files."
   ]
  },
  {
   "cell_type": "code",
   "execution_count": 21,
   "metadata": {
    "colab": {},
    "colab_type": "code",
    "id": "Yfz9hDGJAZKc"
   },
   "outputs": [],
   "source": [
    "for md, mfu, case in zip(mds, mfus, cases):\n",
    "    u = md.variable(\"u\")\n",
    "    mfu.export_to_vtk(\"u_\" + case + \".vtk\", \"ascii\", mfu, u, \"u\")"
   ]
  },
  {
   "cell_type": "markdown",
   "metadata": {
    "colab_type": "text",
    "id": "qnJP7kAfe9R5"
   },
   "source": [
    "### Computation of Theoretical Solutions\n",
    "Calculates the deflection at each coordinate for comparison with the theoretical solution. The theoretical solution for a cantilever beam subjected to a concentrated load is as follows.\n",
    "\n",
    "$w\\left(x\\right)=\\dfrac{FL^3}{3EI}$"
   ]
  },
  {
   "cell_type": "code",
   "execution_count": 22,
   "metadata": {
    "colab": {
     "base_uri": "https://localhost:8080/",
     "height": 36
    },
    "colab_type": "code",
    "id": "UMmE4D_If7bl",
    "outputId": "8c88948e-6c26-4870-c8ff-8cf753f2ab31"
   },
   "outputs": [
    {
     "data": {
      "text/plain": [
       "0.4"
      ]
     },
     "execution_count": 22,
     "metadata": {},
     "output_type": "execute_result"
    }
   ],
   "source": [
    "I = b * h ** 3 / 12\n",
    "w = F * L ** 3 / (3 * E * I)\n",
    "w"
   ]
  },
  {
   "cell_type": "markdown",
   "metadata": {
    "colab_type": "text",
    "id": "69vtNG2wNwsH"
   },
   "source": [
    "### deformation diagram of case11"
   ]
  },
  {
   "cell_type": "code",
   "execution_count": 23,
   "metadata": {
    "colab": {
     "base_uri": "https://localhost:8080/",
     "height": 367
    },
    "colab_type": "code",
    "id": "mtC4Fh8uEJ6d",
    "outputId": "d1ac4ed9-1e66-4e4c-d723-42d384b21f5c"
   },
   "outputs": [
    {
     "data": {
      "image/png": "[encoded data removed]",
      "text/plain": [
       "<PIL.Image.Image image mode=RGB size=1024x768 at 0x7FB9C4EBABB0>"
      ]
     },
     "metadata": {},
     "output_type": "display_data"
    }
   ],
   "source": [
    "p = pv.Plotter(shape=(4, 4))\n",
    "\n",
    "for i in range(4):\n",
    "    for j in range(4):\n",
    "        p.subplot(i, j)\n",
    "        mesh = pv.read(\"u_\" + cases[i * 4 + j] + \".vtk\")\n",
    "        p.add_text(cases[i * 4 + j], font_size=10)\n",
    "        p.add_mesh(mesh.warp_by_vector(\"u\"), color=\"tan\")\n",
    "\n",
    "p.show(cpos=\"xy\")"
   ]
  },
  {
   "cell_type": "markdown",
   "metadata": {
    "colab_type": "text",
    "id": "HngL2tNXPrem"
   },
   "source": [
    "### Comparison with Theoretical Solutions"
   ]
  },
  {
   "cell_type": "code",
   "execution_count": 24,
   "metadata": {
    "colab": {
     "base_uri": "https://localhost:8080/",
     "height": 36
    },
    "colab_type": "code",
    "id": "WKnwa4FSKP37",
    "outputId": "f00200fb-f2b7-4c88-b780-569b526c1d49"
   },
   "outputs": [
    {
     "data": {
      "text/plain": [
       "0.4"
      ]
     },
     "execution_count": 24,
     "metadata": {},
     "output_type": "execute_result"
    }
   ],
   "source": [
    "b = 1.0\n",
    "I = b * h ** 3.0 / 12.0\n",
    "dmax = 1.0 / 3.0 * (F * L ** 3) / (E * I)\n",
    "dmax"
   ]
  },
  {
   "cell_type": "markdown",
   "metadata": {
    "colab_type": "text",
    "id": "4b_vSpwXVuaK"
   },
   "source": [
    "Calculates the ratio of deformation to theoretical solution for each case.\n"
   ]
  },
  {
   "cell_type": "code",
   "execution_count": 25,
   "metadata": {
    "colab": {
     "base_uri": "https://localhost:8080/",
     "height": 541
    },
    "colab_type": "code",
    "id": "Bgo8KTz2bXZV",
    "outputId": "4a78aa1a-0559-482d-9367-43a66faf8d18"
   },
   "outputs": [
    {
     "data": {
      "text/markdown": [
       "|    | case name   | mesh   | finite element method          | integration method   |   ratio with theory |\n",
       "|---:|:------------|:-------|:-------------------------------|:---------------------|--------------------:|\n",
       "|  0 | case11      | 4x1    | FEM_PK(1, 2)                   | IM_GAUSS1D(4)        |         0.99899     |\n",
       "|  1 | case12      | 4x2    | FEM_PK(1, 2)                   | IM_GAUSS1D(4)        |         1.00029     |\n",
       "|  2 | case13      | 4x4    | FEM_PK(1, 2)                   | IM_GAUSS1D(4)        |         1.00039     |\n",
       "|  3 | case14      | 16x8   | FEM_PK(1, 2)                   | IM_GAUSS1D(4)        |         1.00601     |\n",
       "|  4 | case21      | 4x1    | FEM_PK(1, 1)                   | IM_GAUSS1D(2)        |         0.243636    |\n",
       "|  5 | case22      | 4x2    | FEM_PK(1, 1)                   | IM_GAUSS1D(2)        |         0.243636    |\n",
       "|  6 | case23      | 4x4    | FEM_PK(1, 1)                   | IM_GAUSS1D(2)        |         0.243676    |\n",
       "|  7 | case24      | 16x8   | FEM_PK(1, 1)                   | IM_GAUSS1D(2)        |         0.841436    |\n",
       "|  8 | case31      | 4x1    | FEM_PK(1, 1)                   | IM_GAUSS1D(0)        |         6.52355e+10 |\n",
       "|  9 | case32      | 4x2    | FEM_PK(1, 1)                   | IM_GAUSS1D(0)        |         1.3175      |\n",
       "| 10 | case33      | 4x4    | FEM_PK(1, 1)                   | IM_GAUSS1D(0)        |         1.05582     |\n",
       "| 11 | case34      | 16x8   | FEM_PK(1, 1)                   | IM_GAUSS1D(0)        |         1.02092     |\n",
       "| 12 | case41      | 4x1    | FEM_PK_WITH_CUBIC_BUBBLE(1, 1) | IM_GAUSS1D(4)        |         0.99899     |\n",
       "| 13 | case42      | 4x2    | FEM_PK_WITH_CUBIC_BUBBLE(1, 1) | IM_GAUSS1D(4)        |         1.00029     |\n",
       "| 14 | case43      | 4x4    | FEM_PK_WITH_CUBIC_BUBBLE(1, 1) | IM_GAUSS1D(4)        |         1.00039     |\n",
       "| 15 | case44      | 16x8   | FEM_PK_WITH_CUBIC_BUBBLE(1, 1) | IM_GAUSS1D(4)        |         1.00601     |"
      ],
      "text/plain": [
       "<IPython.core.display.Markdown object>"
      ]
     },
     "execution_count": 25,
     "metadata": {},
     "output_type": "execute_result"
    }
   ],
   "source": [
    "pd.options.display.float_format = \"{:.2f}\".format\n",
    "\n",
    "\n",
    "data = []\n",
    "\n",
    "columns = [\n",
    "    \"case name\",\n",
    "    \"mesh\",\n",
    "    \"finite element method\",\n",
    "    \"integration method\",\n",
    "    \"ratio with theory\",\n",
    "]\n",
    "\n",
    "for case, x, y, fem_name, method, md, mfu in zip(\n",
    "    cases, xs, ys, fem_names, methods, mds, mfus\n",
    "):\n",
    "    u = md.variable(\"u\")\n",
    "    dof = mfu.basic_dof_on_region(RIGHT_BOUND)\n",
    "    data.append([case, str(x) + \"x\" + str(y), fem_name, method, max(u[dof] / dmax)])\n",
    "df = pd.DataFrame(data=data, columns=columns)\n",
    "Markdown(df.to_markdown())"
   ]
  },
  {
   "cell_type": "code",
   "execution_count": null,
   "metadata": {},
   "outputs": [],
   "source": []
  }
 ],
 "metadata": {
  "colab": {
   "collapsed_sections": [],
   "name": "Cantilever.ipynb",
   "provenance": []
  },
  "kernelspec": {
   "display_name": "Python 3",
   "language": "python",
   "name": "python3"
  },
  "language_info": {
   "codemirror_mode": {
    "name": "ipython",
    "version": 3
   },
   "file_extension": ".py",
   "mimetype": "text/x-python",
   "name": "python",
   "nbconvert_exporter": "python",
   "pygments_lexer": "ipython3",
   "version": "3.8.5"
  }
 },
 "nbformat": 4,
 "nbformat_minor": 4
}
