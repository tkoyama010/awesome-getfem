{
 "cells": [
  {
   "cell_type": "markdown",
   "metadata": {
    "colab_type": "text",
    "id": "L_IS3iGB1kNR"
   },
   "source": [
    "# study of cantilever beam\n",
    "\n",
    "Consider a cantilever beam using the Finite Element Method library GetFEM."
   ]
  },
  {
   "cell_type": "markdown",
   "metadata": {
    "colab_type": "text",
    "id": "VoX1kh7t_zFn"
   },
   "source": [
    "## Creating a Model"
   ]
  },
  {
   "cell_type": "markdown",
   "metadata": {
    "colab_type": "text",
    "id": "tIvfNf2F5mXz"
   },
   "source": [
    "Let us begin by loading GetFEM and fixing the parameters of the problem."
   ]
  },
  {
   "cell_type": "code",
   "execution_count": null,
   "metadata": {
    "colab": {},
    "colab_type": "code",
    "id": "es5ZAE995S5L"
   },
   "outputs": [],
   "source": [
    "import getfem as gf\n",
    "import numpy as np\n",
    "import pandas as pd\n",
    "import numpy.testing as npt\n"
   ]
  },
  {
   "cell_type": "markdown",
   "metadata": {
    "colab_type": "text",
    "id": "cWjPHP7y7NdL"
   },
   "source": [
    "The review cases are as follows. GetFEM++ uses FEM_PRODUCT and IM_PRODUCT to two-dimensional the finite element method and the integration method, respectively. For quadratic elements, the Gaussian integration point is 3. IM_GAUSS1D(K) represents the integration point of $K/2+1$ points. The element uses plane strain elements. Set up these meshes, the finite element method and the integration method."
   ]
  },
  {
   "cell_type": "code",
   "execution_count": null,
   "metadata": {
    "colab": {},
    "colab_type": "code",
    "id": "niYaXPZ3jYCG"
   },
   "outputs": [],
   "source": [
    "cases = [\n",
    "    \"case11\",\n",
    "    \"case12\",\n",
    "    \"case13\",\n",
    "    \"case14\",\n",
    "    \"case21\",\n",
    "    \"case22\",\n",
    "    \"case23\",\n",
    "    \"case24\",\n",
    "    \"case31\",\n",
    "    \"case32\",\n",
    "    \"case33\",\n",
    "    \"case34\",\n",
    "    \"case41\",\n",
    "    \"case42\",\n",
    "    \"case43\",\n",
    "    \"case44\",\n",
    "]\n"
   ]
  },
  {
   "cell_type": "code",
   "execution_count": null,
   "metadata": {
    "colab": {},
    "colab_type": "code",
    "id": "To0AdNjowMhs"
   },
   "outputs": [],
   "source": [
    "xs = [\n",
    "    4,\n",
    "    4,\n",
    "    4,\n",
    "    16,\n",
    "    4,\n",
    "    4,\n",
    "    4,\n",
    "    16,\n",
    "    4,\n",
    "    4,\n",
    "    4,\n",
    "    16,\n",
    "    4,\n",
    "    4,\n",
    "    4,\n",
    "    16,\n",
    "]\n",
    "ys = [\n",
    "    1,\n",
    "    2,\n",
    "    4,\n",
    "    8,\n",
    "    1,\n",
    "    2,\n",
    "    4,\n",
    "    8,\n",
    "    1,\n",
    "    2,\n",
    "    4,\n",
    "    8,\n",
    "    1,\n",
    "    2,\n",
    "    4,\n",
    "    8,\n",
    "]\n"
   ]
  },
  {
   "cell_type": "code",
   "execution_count": null,
   "metadata": {
    "colab": {},
    "colab_type": "code",
    "id": "Q1YaMRRGifB5"
   },
   "outputs": [],
   "source": [
    "fem_names = [\n",
    "    \"FEM_PK(1, 2)\",\n",
    "    \"FEM_PK(1, 2)\",\n",
    "    \"FEM_PK(1, 2)\",\n",
    "    \"FEM_PK(1, 2)\",\n",
    "    \"FEM_PK(1, 1)\",\n",
    "    \"FEM_PK(1, 1)\",\n",
    "    \"FEM_PK(1, 1)\",\n",
    "    \"FEM_PK(1, 1)\",\n",
    "    \"FEM_PK(1, 1)\",\n",
    "    \"FEM_PK(1, 1)\",\n",
    "    \"FEM_PK(1, 1)\",\n",
    "    \"FEM_PK(1, 1)\",\n",
    "    \"FEM_PK_WITH_CUBIC_BUBBLE(1, 1)\",\n",
    "    \"FEM_PK_WITH_CUBIC_BUBBLE(1, 1)\",\n",
    "    \"FEM_PK_WITH_CUBIC_BUBBLE(1, 1)\",\n",
    "    \"FEM_PK_WITH_CUBIC_BUBBLE(1, 1)\",\n",
    "]\n"
   ]
  },
  {
   "cell_type": "code",
   "execution_count": null,
   "metadata": {
    "colab": {},
    "colab_type": "code",
    "id": "DDwYsdjErcPw"
   },
   "outputs": [],
   "source": [
    "methods = [\n",
    "    \"IM_GAUSS1D(4)\",\n",
    "    \"IM_GAUSS1D(4)\",\n",
    "    \"IM_GAUSS1D(4)\",\n",
    "    \"IM_GAUSS1D(4)\",\n",
    "    \"IM_GAUSS1D(2)\",\n",
    "    \"IM_GAUSS1D(2)\",\n",
    "    \"IM_GAUSS1D(2)\",\n",
    "    \"IM_GAUSS1D(2)\",\n",
    "    \"IM_GAUSS1D(0)\",\n",
    "    \"IM_GAUSS1D(0)\",\n",
    "    \"IM_GAUSS1D(0)\",\n",
    "    \"IM_GAUSS1D(0)\",\n",
    "    \"IM_GAUSS1D(4)\",\n",
    "    \"IM_GAUSS1D(4)\",\n",
    "    \"IM_GAUSS1D(4)\",\n",
    "    \"IM_GAUSS1D(4)\",\n",
    "]\n"
   ]
  },
  {
   "cell_type": "code",
   "execution_count": null,
   "metadata": {
    "colab": {
     "base_uri": "https://localhost:8080/",
     "height": 541
    },
    "colab_type": "code",
    "id": "7uNHImiSu_rm",
    "outputId": "1e371259-004d-4670-d8ec-e3e837a5ece0"
   },
   "outputs": [],
   "source": [
    "pd.options.display.float_format = \"{:.2f}\".format\n",
    "\n",
    "\n",
    "data = []\n",
    "\n",
    "columns = [\"Case Name\", \"Mesh\", \"Finite Element Method\", \"Integration Method\"]\n",
    "\n",
    "for case, x, y, fem_name, method in zip(cases, xs, ys, fem_names, methods):\n",
    "    data.append([case, str(x) + \"x\" + str(y), fem_name, method])\n",
    "\n",
    "df = pd.DataFrame(data=data, columns=columns)\n",
    "df\n"
   ]
  },
  {
   "cell_type": "markdown",
   "metadata": {
    "colab_type": "text",
    "id": "JB2ke7MEowxr"
   },
   "source": [
    "### Mesh\n",
    "\n",
    "The overall size of the model is L = 10 mm in length, h = 1 mm in height, and b = 1 mm in depth. In general, a slender ratio of 1: 10 is considered a beam element."
   ]
  },
  {
   "cell_type": "code",
   "execution_count": null,
   "metadata": {
    "colab": {},
    "colab_type": "code",
    "id": "A6iUeElf8Wf2"
   },
   "outputs": [],
   "source": [
    "L = 10.0\n",
    "b = 1.0\n",
    "h = 1.0\n",
    "\n",
    "meshs = []\n",
    "\n",
    "for case, x, y in zip(cases, xs, ys):\n",
    "    X = np.arange(x + 1) * L / x\n",
    "    Y = np.arange(y + 1) * h / y\n",
    "    mesh = gf.Mesh(\"cartesian\", X, Y)\n",
    "    meshs.append(mesh)\n",
    "    mesh.export_to_vtk(\"mesh_\" + case + \".vtk\")\n"
   ]
  },
  {
   "cell_type": "markdown",
   "metadata": {
    "colab_type": "text",
    "id": "5tsdWFw3o7iZ"
   },
   "source": [
    "Outputs an image of each mesh."
   ]
  },
  {
   "cell_type": "code",
   "execution_count": null,
   "metadata": {
    "colab": {
     "base_uri": "https://localhost:8080/",
     "height": 72
    },
    "colab_type": "code",
    "id": "rtbpws1NpGlF",
    "outputId": "453478ac-bdda-4c7d-d556-05e15abdaf0f"
   },
   "outputs": [],
   "source": [
    "from mayavi import mlab\n",
    "\n",
    "mlab.init_notebook()\n",
    "\n",
    "for case in cases:\n",
    "    vtk_file_reader = mlab.pipeline.open(\"mesh_\" + case + \".vtk\")\n",
    "    extract_edges = mlab.pipeline.extract_edges(vtk_file_reader)\n",
    "    surface = mlab.pipeline.surface(extract_edges)\n",
    "    mlab.show()\n",
    "    mlab.savefig(\"mesh_\" + case + \".png\")\n",
    "    mlab.clf()\n"
   ]
  },
  {
   "cell_type": "code",
   "execution_count": null,
   "metadata": {
    "colab": {
     "base_uri": "https://localhost:8080/",
     "height": 367
    },
    "colab_type": "code",
    "id": "HtMdJxpJqNaw",
    "outputId": "33d39318-609e-4a38-a9ab-d93ccd45ce3f"
   },
   "outputs": [],
   "source": [
    "from IPython.display import Image, display_png\n",
    "\n",
    "display_png(Image(\"mesh_\" + cases[0] + \".png\"))\n"
   ]
  },
  {
   "cell_type": "code",
   "execution_count": null,
   "metadata": {
    "colab": {
     "base_uri": "https://localhost:8080/",
     "height": 367
    },
    "colab_type": "code",
    "id": "hKK-Op-0qSWN",
    "outputId": "df8a21ee-dfd7-43af-a6cb-ce92a154cee3"
   },
   "outputs": [],
   "source": [
    "from IPython.display import Image, display_png\n",
    "\n",
    "display_png(Image(\"mesh_\" + cases[1] + \".png\"))\n"
   ]
  },
  {
   "cell_type": "code",
   "execution_count": null,
   "metadata": {
    "colab": {
     "base_uri": "https://localhost:8080/",
     "height": 367
    },
    "colab_type": "code",
    "id": "waCG51rWqUd9",
    "outputId": "8e05e7eb-6430-4a4e-a402-2ee996d89b97"
   },
   "outputs": [],
   "source": [
    "from IPython.display import Image, display_png\n",
    "\n",
    "display_png(Image(\"mesh_\" + cases[2] + \".png\"))\n"
   ]
  },
  {
   "cell_type": "code",
   "execution_count": null,
   "metadata": {
    "colab": {
     "base_uri": "https://localhost:8080/",
     "height": 367
    },
    "colab_type": "code",
    "id": "eebOMXDKqZ4e",
    "outputId": "5d3f7efe-b422-497e-f460-f2781cdeffc6"
   },
   "outputs": [],
   "source": [
    "from IPython.display import Image, display_png\n",
    "\n",
    "display_png(Image(\"mesh_\" + cases[3] + \".png\"))\n"
   ]
  },
  {
   "cell_type": "markdown",
   "metadata": {
    "colab_type": "text",
    "id": "ft8YGlwgswMF"
   },
   "source": [
    "### Region\n",
    "\n",
    "Sets the area on the left side of the mesh where the Dirichlet condition is set. The right side sets the area for setting the Neumann condition."
   ]
  },
  {
   "cell_type": "code",
   "execution_count": null,
   "metadata": {
    "colab": {},
    "colab_type": "code",
    "id": "KHZ87B4NuVkH"
   },
   "outputs": [],
   "source": [
    "TOP_BOUND = 1\n",
    "RIGHT_BOUND = 2\n",
    "LEFT_BOUND = 3\n",
    "BOTTOM_BOUND = 4\n",
    "\n",
    "for mesh in meshs:\n",
    "    fb1 = mesh.outer_faces_with_direction([0.0, 1.0], 0.01)\n",
    "    fb2 = mesh.outer_faces_with_direction([1.0, 0.0], 0.01)\n",
    "    fb3 = mesh.outer_faces_with_direction([-1.0, 0.0], 0.01)\n",
    "    fb4 = mesh.outer_faces_with_direction([0.0, -1.0], 0.01)\n",
    "    mesh.set_region(TOP_BOUND, fb1)\n",
    "    mesh.set_region(RIGHT_BOUND, fb2)\n",
    "    mesh.set_region(LEFT_BOUND, fb3)\n",
    "    mesh.set_region(BOTTOM_BOUND, fb4)\n"
   ]
  },
  {
   "cell_type": "markdown",
   "metadata": {
    "colab_type": "text",
    "id": "wmc1X8kxuI0U"
   },
   "source": [
    "### Finite Element Method\n",
    "Create a MeshFem object and associate the mesh with the finite element method."
   ]
  },
  {
   "cell_type": "code",
   "execution_count": null,
   "metadata": {
    "colab": {},
    "colab_type": "code",
    "id": "BZMl4G9fuHNw"
   },
   "outputs": [],
   "source": [
    "fems = []\n",
    "for fem_name in fem_names:\n",
    "    fems.append(gf.Fem(\"FEM_PRODUCT(\" + fem_name + \",\" + fem_name + \")\"))\n"
   ]
  },
  {
   "cell_type": "code",
   "execution_count": null,
   "metadata": {
    "colab": {},
    "colab_type": "code",
    "id": "Cmfiow4MviZF"
   },
   "outputs": [],
   "source": [
    "mfus = []\n",
    "for mesh, fem in zip(meshs, fems):\n",
    "    mfu = gf.MeshFem(mesh, 2)\n",
    "    mfu.set_fem(fem)\n",
    "    mfus.append(mfu)\n"
   ]
  },
  {
   "cell_type": "markdown",
   "metadata": {
    "colab_type": "text",
    "id": "DsCLZKKfwrpx"
   },
   "source": [
    "### Integral method\n",
    "Associate the integration method with the mesh."
   ]
  },
  {
   "cell_type": "code",
   "execution_count": null,
   "metadata": {
    "colab": {},
    "colab_type": "code",
    "id": "XyAaD48IwA0r"
   },
   "outputs": [],
   "source": [
    "ims = []\n",
    "for method in methods:\n",
    "    ims.append(gf.Integ(\"IM_PRODUCT(\" + method + \", \" + method + \")\"))\n"
   ]
  },
  {
   "cell_type": "code",
   "execution_count": null,
   "metadata": {
    "colab": {},
    "colab_type": "code",
    "id": "MzAy5F_XxyVU"
   },
   "outputs": [],
   "source": [
    "mims = []\n",
    "for mesh, im in zip(meshs, ims):\n",
    "    mim = gf.MeshIm(mesh, im)\n",
    "    mims.append(mim)\n"
   ]
  },
  {
   "cell_type": "markdown",
   "metadata": {
    "colab_type": "text",
    "id": "inmXMhiDzynb"
   },
   "source": [
    "### Variable\n",
    "Define the model object and set the variable \"u\"."
   ]
  },
  {
   "cell_type": "code",
   "execution_count": null,
   "metadata": {
    "colab": {},
    "colab_type": "code",
    "id": "GQU-6EO-zbe0"
   },
   "outputs": [],
   "source": [
    "mds = []\n",
    "for mfu in mfus:\n",
    "    md = gf.Model(\"real\")\n",
    "    md.add_fem_variable(\"u\", mfu)\n",
    "    mds.append(md)\n"
   ]
  },
  {
   "cell_type": "markdown",
   "metadata": {
    "colab_type": "text",
    "id": "iZZsWtD21d93"
   },
   "source": [
    "### Properties\n",
    "Define properties as constants for the model object. The Young's modulus of steel is $E = 205000\\times 10^6N/m^2$. Also set Poisson's ratio $\\nu = 0.0$ to ignore the Poisson effect."
   ]
  },
  {
   "cell_type": "code",
   "execution_count": null,
   "metadata": {
    "colab": {},
    "colab_type": "code",
    "id": "9QjugTGu14Gj"
   },
   "outputs": [],
   "source": [
    "E = 10000  # N/mm2\n",
    "Nu = 0.0\n",
    "\n",
    "for md in mds:\n",
    "    md.add_initialized_data(\"E\", E)\n",
    "    md.add_initialized_data(\"Nu\", Nu)\n"
   ]
  },
  {
   "cell_type": "markdown",
   "metadata": {
    "colab_type": "text",
    "id": "gSF5W36n00E7"
   },
   "source": [
    "### Plane Strain Element\n",
    "Defines the plane strain element for variable 'u'."
   ]
  },
  {
   "cell_type": "code",
   "execution_count": null,
   "metadata": {
    "colab": {},
    "colab_type": "code",
    "id": "BYQ4PrIezwcM"
   },
   "outputs": [],
   "source": [
    "for md, mim in zip(mds, mims):\n",
    "    md.add_isotropic_linearized_elasticity_brick_pstrain(mim, \"u\", \"E\", \"Nu\")\n"
   ]
  },
  {
   "cell_type": "markdown",
   "metadata": {
    "colab_type": "text",
    "id": "hPQ4wVVM3iK8"
   },
   "source": [
    "### Boundary Conditions\n",
    "\n",
    "Set the Dirichlet condition for the region on the left side."
   ]
  },
  {
   "cell_type": "code",
   "execution_count": null,
   "metadata": {
    "colab": {},
    "colab_type": "code",
    "id": "P-rLV-Bp24II"
   },
   "outputs": [],
   "source": [
    "for (md, mim, mfu, fem) in zip(mds, mims, mfus, fems):\n",
    "    if fem.is_lagrange():\n",
    "        md.add_Dirichlet_condition_with_simplification(\"u\", LEFT_BOUND)\n",
    "    else:\n",
    "        md.add_Dirichlet_condition_with_multipliers(mim, \"u\", mfu, LEFT_BOUND)\n"
   ]
  },
  {
   "cell_type": "markdown",
   "metadata": {
    "colab_type": "text",
    "id": "7WMVp20z5Nhh"
   },
   "source": [
    "Set the Neumann boundary condition on the right side."
   ]
  },
  {
   "cell_type": "code",
   "execution_count": null,
   "metadata": {
    "colab": {},
    "colab_type": "code",
    "id": "58PYqaOb45Tk"
   },
   "outputs": [],
   "source": [
    "F = 1.0  # N/mm2\n",
    "for (md, mfu, mim) in zip(mds, mfus, mims):\n",
    "    md.add_initialized_data(\"F\", [0, F / (b * h)])\n",
    "    md.add_source_term_brick(mim, \"u\", \"F\", RIGHT_BOUND)\n"
   ]
  },
  {
   "cell_type": "markdown",
   "metadata": {
    "colab_type": "text",
    "id": "wzRniIhB-sEI"
   },
   "source": [
    "## Solve\n",
    "\n",
    "Solve the simultaneous equations of the model object to find the value of the variable 'u'."
   ]
  },
  {
   "cell_type": "code",
   "execution_count": null,
   "metadata": {
    "colab": {},
    "colab_type": "code",
    "id": "Ga_ybGEB_COm"
   },
   "outputs": [],
   "source": [
    "for md in mds:\n",
    "    md.solve()\n"
   ]
  },
  {
   "cell_type": "markdown",
   "metadata": {
    "colab_type": "text",
    "id": "n948RG_OBhMB"
   },
   "source": [
    "After solving simultaneous equations, the right side rhs can be output. The sum of the right-hand terms equals $F*b*h$."
   ]
  },
  {
   "cell_type": "code",
   "execution_count": null,
   "metadata": {
    "colab": {},
    "colab_type": "code",
    "id": "KyyvtZc6Bzor"
   },
   "outputs": [],
   "source": [
    "#for case, md in zip(cases, mds):\n",
    "#    npt.assert_almost_equal(sum(md.rhs()), F*b*h)\n"
   ]
  },
  {
   "cell_type": "markdown",
   "metadata": {
    "colab_type": "text",
    "id": "DFU32bi0tBaL"
   },
   "source": [
    "The constraint on the left end has a displacement of 0.0."
   ]
  },
  {
   "cell_type": "code",
   "execution_count": null,
   "metadata": {
    "colab": {},
    "colab_type": "code",
    "id": "cRGXMmgbtK4N"
   },
   "outputs": [],
   "source": [
    "for md, mfu, case in zip(mds, mfus, cases):\n",
    "    u = md.variable('u')\n",
    "    dof = mfu.basic_dof_on_region(LEFT_BOUND)\n",
    "    npt.assert_almost_equal(abs(np.max(u[dof])), 0.0)"
   ]
  },
  {
   "cell_type": "markdown",
   "metadata": {
    "colab_type": "text",
    "id": "H0p8QbwA_Ss6"
   },
   "source": [
    "## Review results\n",
    "\n",
    "Output and visualize the results of each case to vtk files."
   ]
  },
  {
   "cell_type": "code",
   "execution_count": null,
   "metadata": {
    "colab": {},
    "colab_type": "code",
    "id": "Yfz9hDGJAZKc"
   },
   "outputs": [],
   "source": [
    "for md, mfu, case in zip(mds, mfus, cases):\n",
    "    u = md.variable(\"u\")\n",
    "    mfu.export_to_vtk(\"u_\" + case + \".vtk\", \"ascii\", mfu, u, \"u\")\n"
   ]
  },
  {
   "cell_type": "code",
   "execution_count": null,
   "metadata": {
    "colab": {
     "base_uri": "https://localhost:8080/",
     "height": 36
    },
    "colab_type": "code",
    "id": "xff7bVY_Ar-0",
    "outputId": "d83b5453-83f2-4855-835a-680525d6e85e"
   },
   "outputs": [],
   "source": [
    "from mayavi import mlab\n",
    "\n",
    "mlab.init_notebook()\n",
    "\n",
    "for case in cases:\n",
    "    vtk_file_reader = mlab.pipeline.open(\"u_\" + case + \".vtk\")\n",
    "    extract_edges = mlab.pipeline.extract_edges(vtk_file_reader)\n",
    "    warp_vector = mlab.pipeline.warp_vector(extract_edges)\n",
    "    surface = mlab.pipeline.surface(warp_vector)\n",
    "    mlab.show()\n",
    "    mlab.savefig(\"u_\" + case + \".png\")\n",
    "    mlab.clf()\n"
   ]
  },
  {
   "cell_type": "markdown",
   "metadata": {
    "colab_type": "text",
    "id": "qnJP7kAfe9R5"
   },
   "source": [
    "### Computation of Theoretical Solutions\n",
    "Calculates the deflection at each coordinate for comparison with the theoretical solution. The theoretical solution for a cantilever beam subjected to a concentrated load is as follows.\n",
    "\n",
    "$w\\left(x\\right)=\\dfrac{FL^3}{3EI}$"
   ]
  },
  {
   "cell_type": "code",
   "execution_count": null,
   "metadata": {
    "colab": {
     "base_uri": "https://localhost:8080/",
     "height": 36
    },
    "colab_type": "code",
    "id": "UMmE4D_If7bl",
    "outputId": "8c88948e-6c26-4870-c8ff-8cf753f2ab31"
   },
   "outputs": [],
   "source": [
    "I = b * h ** 3 / 12\n",
    "w = F * L ** 3 / (3 * E * I)\n",
    "w\n"
   ]
  },
  {
   "cell_type": "markdown",
   "metadata": {
    "colab_type": "text",
    "id": "69vtNG2wNwsH"
   },
   "source": [
    "### deformation diagram of case11"
   ]
  },
  {
   "cell_type": "code",
   "execution_count": null,
   "metadata": {
    "colab": {
     "base_uri": "https://localhost:8080/",
     "height": 367
    },
    "colab_type": "code",
    "id": "mtC4Fh8uEJ6d",
    "outputId": "d1ac4ed9-1e66-4e4c-d723-42d384b21f5c"
   },
   "outputs": [],
   "source": [
    "from IPython.display import Image, display_png\n",
    "\n",
    "display_png(Image(\"u_\" + \"case11\" + \".png\"))\n"
   ]
  },
  {
   "cell_type": "markdown",
   "metadata": {
    "colab_type": "text",
    "id": "ptYbOWxXOuYZ"
   },
   "source": [
    "### deformation diagram of case12"
   ]
  },
  {
   "cell_type": "code",
   "execution_count": null,
   "metadata": {
    "colab": {
     "base_uri": "https://localhost:8080/",
     "height": 367
    },
    "colab_type": "code",
    "id": "eP3m4aNDHo0o",
    "outputId": "123e8207-e871-4172-fc50-6b691e22e54a"
   },
   "outputs": [],
   "source": [
    "from IPython.display import Image, display_png\n",
    "\n",
    "display_png(Image(\"u_\" + \"case12\" + \".png\"))\n"
   ]
  },
  {
   "cell_type": "markdown",
   "metadata": {
    "colab_type": "text",
    "id": "17AGRkZ2PFa7"
   },
   "source": [
    "### deformation diagram of case13"
   ]
  },
  {
   "cell_type": "code",
   "execution_count": null,
   "metadata": {
    "colab": {
     "base_uri": "https://localhost:8080/",
     "height": 367
    },
    "colab_type": "code",
    "id": "1WSB1NhJJ6Gk",
    "outputId": "6e8f453f-1a76-4500-849f-e3e5c41bb5a8"
   },
   "outputs": [],
   "source": [
    "from IPython.display import Image, display_png\n",
    "\n",
    "display_png(Image(\"u_\" + \"case13\" + \".png\"))\n"
   ]
  },
  {
   "cell_type": "markdown",
   "metadata": {
    "colab_type": "text",
    "id": "jc2cZkG5PIVw"
   },
   "source": [
    "### deformation diagram of case14"
   ]
  },
  {
   "cell_type": "code",
   "execution_count": null,
   "metadata": {
    "colab": {
     "base_uri": "https://localhost:8080/",
     "height": 367
    },
    "colab_type": "code",
    "id": "YLdfHTXrJ778",
    "outputId": "9fb8629a-580d-43c4-b424-828854b0f45f"
   },
   "outputs": [],
   "source": [
    "from IPython.display import Image, display_png\n",
    "\n",
    "display_png(Image(\"u_\" + \"case14\" + \".png\"))\n"
   ]
  },
  {
   "cell_type": "markdown",
   "metadata": {
    "colab_type": "text",
    "id": "HwiVdED1PKzD"
   },
   "source": [
    "### deformation diagram of case21"
   ]
  },
  {
   "cell_type": "code",
   "execution_count": null,
   "metadata": {
    "colab": {
     "base_uri": "https://localhost:8080/",
     "height": 367
    },
    "colab_type": "code",
    "id": "kON4lrbaJ9xk",
    "outputId": "a26cc060-7581-4d44-e906-09ba1e29fa07"
   },
   "outputs": [],
   "source": [
    "from IPython.display import Image, display_png\n",
    "\n",
    "display_png(Image(\"u_\" + \"case21\" + \".png\"))\n"
   ]
  },
  {
   "cell_type": "markdown",
   "metadata": {
    "colab_type": "text",
    "id": "jCV589NKPTpf"
   },
   "source": [
    "### deformation diagram of case22"
   ]
  },
  {
   "cell_type": "code",
   "execution_count": null,
   "metadata": {
    "colab": {
     "base_uri": "https://localhost:8080/",
     "height": 367
    },
    "colab_type": "code",
    "id": "as9IYstcKATw",
    "outputId": "4520348e-8916-4d37-ae81-5ad6d66408ae"
   },
   "outputs": [],
   "source": [
    "from IPython.display import Image, display_png\n",
    "\n",
    "display_png(Image(\"u_\" + \"case22\" + \".png\"))\n"
   ]
  },
  {
   "cell_type": "markdown",
   "metadata": {
    "colab_type": "text",
    "id": "PY_KrYPAPQ_K"
   },
   "source": [
    "### deformation diagram of case23"
   ]
  },
  {
   "cell_type": "code",
   "execution_count": null,
   "metadata": {
    "colab": {
     "base_uri": "https://localhost:8080/",
     "height": 367
    },
    "colab_type": "code",
    "id": "XTqMfwfdKBl2",
    "outputId": "3b999ef8-6deb-4487-ea3b-2a4b23377082"
   },
   "outputs": [],
   "source": [
    "from IPython.display import Image, display_png\n",
    "\n",
    "display_png(Image(\"u_\" + \"case23\" + \".png\"))\n"
   ]
  },
  {
   "cell_type": "markdown",
   "metadata": {
    "colab_type": "text",
    "id": "Osw87MFZPXHn"
   },
   "source": [
    "### deformation diagram of case24"
   ]
  },
  {
   "cell_type": "code",
   "execution_count": null,
   "metadata": {
    "colab": {
     "base_uri": "https://localhost:8080/",
     "height": 367
    },
    "colab_type": "code",
    "id": "u0iE0RcYKC5i",
    "outputId": "78ac7c35-b029-423b-c757-7bdcfa955e0e"
   },
   "outputs": [],
   "source": [
    "from IPython.display import Image, display_png\n",
    "\n",
    "display_png(Image(\"u_\" + \"case24\" + \".png\"))\n"
   ]
  },
  {
   "cell_type": "markdown",
   "metadata": {
    "colab_type": "text",
    "id": "rQyj1kJzPaU_"
   },
   "source": [
    "### deformation diagram of case31"
   ]
  },
  {
   "cell_type": "code",
   "execution_count": null,
   "metadata": {
    "colab": {
     "base_uri": "https://localhost:8080/",
     "height": 367
    },
    "colab_type": "code",
    "id": "bWNLQzmNKEA4",
    "outputId": "73d377fa-b532-4e89-9759-5ad91e41b377"
   },
   "outputs": [],
   "source": [
    "from IPython.display import Image, display_png\n",
    "\n",
    "display_png(Image(\"u_\" + \"case31\" + \".png\"))\n"
   ]
  },
  {
   "cell_type": "markdown",
   "metadata": {
    "colab_type": "text",
    "id": "dEOU6jZLPdgE"
   },
   "source": [
    "### deformation diagram of case32"
   ]
  },
  {
   "cell_type": "code",
   "execution_count": null,
   "metadata": {
    "colab": {
     "base_uri": "https://localhost:8080/",
     "height": 367
    },
    "colab_type": "code",
    "id": "3yFyuP9NKFud",
    "outputId": "557ea6fd-d760-47ac-a26d-a8c6cf4e8bc8"
   },
   "outputs": [],
   "source": [
    "from IPython.display import Image, display_png\n",
    "\n",
    "display_png(Image(\"u_\" + \"case32\" + \".png\"))\n"
   ]
  },
  {
   "cell_type": "markdown",
   "metadata": {
    "colab_type": "text",
    "id": "Cn7FuHVNPfUt"
   },
   "source": [
    "### deformation diagram of case33"
   ]
  },
  {
   "cell_type": "code",
   "execution_count": null,
   "metadata": {
    "colab": {
     "base_uri": "https://localhost:8080/",
     "height": 367
    },
    "colab_type": "code",
    "id": "zEaysK3GKG5H",
    "outputId": "d3027abb-eb63-41ce-cd75-8a36817c9f58"
   },
   "outputs": [],
   "source": [
    "from IPython.display import Image, display_png\n",
    "\n",
    "display_png(Image(\"u_\" + \"case33\" + \".png\"))\n"
   ]
  },
  {
   "cell_type": "markdown",
   "metadata": {
    "colab_type": "text",
    "id": "9fnw5pfXPhNq"
   },
   "source": [
    "### deformation diagram of case34"
   ]
  },
  {
   "cell_type": "code",
   "execution_count": null,
   "metadata": {
    "colab": {
     "base_uri": "https://localhost:8080/",
     "height": 367
    },
    "colab_type": "code",
    "id": "qDBpneknKIJj",
    "outputId": "8f7f4574-bea1-49e5-bb03-d0480b8fb0ae"
   },
   "outputs": [],
   "source": [
    "from IPython.display import Image, display_png\n",
    "\n",
    "display_png(Image(\"u_\" + \"case34\" + \".png\"))\n"
   ]
  },
  {
   "cell_type": "markdown",
   "metadata": {
    "colab_type": "text",
    "id": "MCKqxPBIPjCX"
   },
   "source": [
    "### deformation diagram of case41"
   ]
  },
  {
   "cell_type": "code",
   "execution_count": null,
   "metadata": {
    "colab": {
     "base_uri": "https://localhost:8080/",
     "height": 367
    },
    "colab_type": "code",
    "id": "qhwFR0bnKJYR",
    "outputId": "1733b93b-f702-47ff-ee36-22093e6ac76a"
   },
   "outputs": [],
   "source": [
    "from IPython.display import Image, display_png\n",
    "\n",
    "display_png(Image(\"u_\" + \"case41\" + \".png\"))\n"
   ]
  },
  {
   "cell_type": "markdown",
   "metadata": {
    "colab_type": "text",
    "id": "UJM9mumLPlsK"
   },
   "source": [
    "### deformation diagram of case42"
   ]
  },
  {
   "cell_type": "code",
   "execution_count": null,
   "metadata": {
    "colab": {
     "base_uri": "https://localhost:8080/",
     "height": 367
    },
    "colab_type": "code",
    "id": "gJ11AuTIKKnr",
    "outputId": "a77df3d5-b57f-452f-d59e-e24722c0345a"
   },
   "outputs": [],
   "source": [
    "from IPython.display import Image, display_png\n",
    "\n",
    "display_png(Image(\"u_\" + \"case42\" + \".png\"))\n"
   ]
  },
  {
   "cell_type": "markdown",
   "metadata": {
    "colab_type": "text",
    "id": "EVLdO58BPnsP"
   },
   "source": [
    "### deformation diagram of case43"
   ]
  },
  {
   "cell_type": "code",
   "execution_count": null,
   "metadata": {
    "colab": {
     "base_uri": "https://localhost:8080/",
     "height": 367
    },
    "colab_type": "code",
    "id": "FEqhs7RbKNAr",
    "outputId": "85df7b82-ea6d-4628-9872-75afb90dbb05"
   },
   "outputs": [],
   "source": [
    "from IPython.display import Image, display_png\n",
    "\n",
    "display_png(Image(\"u_\" + \"case43\" + \".png\"))\n"
   ]
  },
  {
   "cell_type": "markdown",
   "metadata": {
    "colab_type": "text",
    "id": "2QVCW0t6PpcY"
   },
   "source": [
    "### deformation diagram of case44"
   ]
  },
  {
   "cell_type": "code",
   "execution_count": null,
   "metadata": {
    "colab": {
     "base_uri": "https://localhost:8080/",
     "height": 367
    },
    "colab_type": "code",
    "id": "ajFVdPM8KOIy",
    "outputId": "0a89e108-f4c5-4900-bdab-d8431375bcc0"
   },
   "outputs": [],
   "source": [
    "from IPython.display import Image, display_png\n",
    "\n",
    "display_png(Image(\"u_\" + \"case44\" + \".png\"))\n"
   ]
  },
  {
   "cell_type": "markdown",
   "metadata": {
    "colab_type": "text",
    "id": "HngL2tNXPrem"
   },
   "source": [
    "### Comparison with Theoretical Solutions"
   ]
  },
  {
   "cell_type": "code",
   "execution_count": null,
   "metadata": {
    "colab": {
     "base_uri": "https://localhost:8080/",
     "height": 36
    },
    "colab_type": "code",
    "id": "WKnwa4FSKP37",
    "outputId": "f00200fb-f2b7-4c88-b780-569b526c1d49"
   },
   "outputs": [],
   "source": [
    "b = 1.0\n",
    "I = b*h**3.0/12.0\n",
    "dmax = 1.0/3.0*(F*L**3)/(E*I)\n",
    "dmax"
   ]
  },
  {
   "cell_type": "markdown",
   "metadata": {
    "colab_type": "text",
    "id": "4b_vSpwXVuaK"
   },
   "source": [
    "Calculates the ratio of deformation to theoretical solution for each case.\n"
   ]
  },
  {
   "cell_type": "code",
   "execution_count": null,
   "metadata": {
    "colab": {
     "base_uri": "https://localhost:8080/",
     "height": 541
    },
    "colab_type": "code",
    "id": "Bgo8KTz2bXZV",
    "outputId": "4a78aa1a-0559-482d-9367-43a66faf8d18"
   },
   "outputs": [],
   "source": [
    "pd.options.display.float_format = \"{:.2f}\".format\n",
    "\n",
    "\n",
    "data = []\n",
    "\n",
    "columns = [\n",
    "    \"case name\",\n",
    "    \"mesh\",\n",
    "    \"finite element method\",\n",
    "    \"integration method\",\n",
    "    \"ratio with theory\",\n",
    "]\n",
    "\n",
    "for case, x, y, fem_name, method, md, mfu in zip(\n",
    "    cases, xs, ys, fem_names, methods, mds, mfus\n",
    "):\n",
    "    u = md.variable(\"u\")\n",
    "    dof = mfu.basic_dof_on_region(RIGHT_BOUND)\n",
    "    data.append([case, str(x) + \"x\" + str(y), fem_name, method, max(u[dof] / dmax)])\n",
    "df = pd.DataFrame(data=data, columns=columns)\n",
    "df\n"
   ]
  },
  {
   "cell_type": "code",
   "execution_count": null,
   "metadata": {
    "colab": {},
    "colab_type": "code",
    "id": "DFvTsPDclXxH"
   },
   "outputs": [],
   "source": []
  }
 ],
 "metadata": {
  "colab": {
   "collapsed_sections": [],
   "name": "Cantilever.ipynb",
   "provenance": []
  },
  "kernelspec": {
   "display_name": "Python 3",
   "language": "python",
   "name": "python3"
  },
  "language_info": {
   "codemirror_mode": {
    "name": "ipython",
    "version": 3
   },
   "file_extension": ".py",
   "mimetype": "text/x-python",
   "name": "python",
   "nbconvert_exporter": "python",
   "pygments_lexer": "ipython3",
   "version": "3.8.2"
  }
 },
 "nbformat": 4,
 "nbformat_minor": 1
}
