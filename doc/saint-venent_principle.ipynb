{
 "cells": [
  {
   "cell_type": "markdown",
   "metadata": {},
   "source": [
    "# Saint-Venent's principle"
   ]
  },
  {
   "cell_type": "markdown",
   "metadata": {},
   "source": [
    "## Initialization"
   ]
  },
  {
   "cell_type": "code",
   "execution_count": 1,
   "metadata": {},
   "outputs": [],
   "source": [
    "import getfem as gf\n",
    "import numpy as np\n",
    "import pyvista as pv"
   ]
  },
  {
   "cell_type": "markdown",
   "metadata": {},
   "source": [
    "## Parameters of the model"
   ]
  },
  {
   "cell_type": "code",
   "execution_count": 2,
   "metadata": {},
   "outputs": [],
   "source": [
    "E = 21E6\n",
    "nu = 0.3\n",
    "clambda = E*nu/((1+nu)*(1-2*nu))\n",
    "cmu = E/(2*(1+nu))"
   ]
  },
  {
   "cell_type": "markdown",
   "metadata": {},
   "source": [
    "## Mesh generation"
   ]
  },
  {
   "cell_type": "code",
   "execution_count": 3,
   "metadata": {},
   "outputs": [],
   "source": [
    "H = 2.0\n",
    "\n",
    "DX = DY = DZ = H / 2.0\n",
    "X = np.arange(0.0, 10 * H / 2 + DX, DX)\n",
    "Y = np.arange(0.0, H / 2 + DY, DY)\n",
    "Z = np.arange(0.0, H / 2 + DZ, DZ)\n",
    "\n",
    "m = gf.Mesh(\"cartesian\", X, Y, Z)"
   ]
  },
  {
   "cell_type": "markdown",
   "metadata": {},
   "source": [
    "## Boundary selection"
   ]
  },
  {
   "cell_type": "code",
   "execution_count": 4,
   "metadata": {},
   "outputs": [],
   "source": [
    "fb1 = m.outer_faces_with_direction([1.0, 0.0, 0.0], 0.01)\n",
    "fb2 = m.outer_faces_with_direction([-1.0, 0.0, 0.0], 0.01)\n",
    "fb3 = m.outer_faces_with_direction([0.0, -1.0, 0.0], 0.01)\n",
    "fb4 = m.outer_faces_with_direction([0.0, 0.0, -1.0], 0.01)\n",
    "\n",
    "RIGHT_BOUND = 1\n",
    "LEFT_BOUND = 2\n",
    "BOTTOM_BOUND = 3\n",
    "BEFORE_BOUND = 4\n",
    "\n",
    "m.set_region(RIGHT_BOUND, fb1)\n",
    "m.set_region(LEFT_BOUND, fb2)\n",
    "m.set_region(BOTTOM_BOUND, fb3)\n",
    "m.set_region(BEFORE_BOUND, fb4)"
   ]
  },
  {
   "cell_type": "markdown",
   "metadata": {},
   "source": [
    "## Mesh draw"
   ]
  },
  {
   "cell_type": "code",
   "execution_count": 5,
   "metadata": {},
   "outputs": [
    {
     "data": {
      "image/png": "[encoded data removed]",
      "text/plain": [
       "<PIL.Image.Image image mode=RGB size=1024x768 at 0x7EFFEF37DF70>"
      ]
     },
     "metadata": {},
     "output_type": "display_data"
    }
   ],
   "source": [
    "export_file_name = \"m.vtk\"\n",
    "m.export_to_vtk(export_file_name)\n",
    "mesh = pv.read(export_file_name)\n",
    "mesh.plot(show_edges=True, color=True)"
   ]
  },
  {
   "cell_type": "code",
   "execution_count": 6,
   "metadata": {},
   "outputs": [],
   "source": [
    "mfu = gf.MeshFem(m, 3)"
   ]
  },
  {
   "cell_type": "code",
   "execution_count": 7,
   "metadata": {},
   "outputs": [],
   "source": [
    "elements_degree = 1\n",
    "mfu.set_classical_fem(elements_degree)"
   ]
  },
  {
   "cell_type": "code",
   "execution_count": 8,
   "metadata": {},
   "outputs": [],
   "source": [
    "mim = gf.MeshIm(m, elements_degree*2)"
   ]
  },
  {
   "cell_type": "code",
   "execution_count": 9,
   "metadata": {},
   "outputs": [],
   "source": [
    "md = gf.Model(\"real\")"
   ]
  },
  {
   "cell_type": "code",
   "execution_count": 10,
   "metadata": {},
   "outputs": [],
   "source": [
    "md.add_fem_variable(\"u\", mfu)"
   ]
  },
  {
   "cell_type": "code",
   "execution_count": 11,
   "metadata": {},
   "outputs": [
    {
     "data": {
      "text/plain": [
       "\u001b[0;31mSignature:\u001b[0m\n",
       "\u001b[0mmd\u001b[0m\u001b[0;34m.\u001b[0m\u001b[0madd_isotropic_linearized_elasticity_brick\u001b[0m\u001b[0;34m(\u001b[0m\u001b[0;34m\u001b[0m\n",
       "\u001b[0;34m\u001b[0m    \u001b[0mmim\u001b[0m\u001b[0;34m,\u001b[0m\u001b[0;34m\u001b[0m\n",
       "\u001b[0;34m\u001b[0m    \u001b[0mvarname\u001b[0m\u001b[0;34m,\u001b[0m\u001b[0;34m\u001b[0m\n",
       "\u001b[0;34m\u001b[0m    \u001b[0mdataname_lambda\u001b[0m\u001b[0;34m,\u001b[0m\u001b[0;34m\u001b[0m\n",
       "\u001b[0;34m\u001b[0m    \u001b[0mdataname_mu\u001b[0m\u001b[0;34m,\u001b[0m\u001b[0;34m\u001b[0m\n",
       "\u001b[0;34m\u001b[0m    \u001b[0mregion\u001b[0m\u001b[0;34m=\u001b[0m\u001b[0;32mNone\u001b[0m\u001b[0;34m,\u001b[0m\u001b[0;34m\u001b[0m\n",
       "\u001b[0;34m\u001b[0m\u001b[0;34m)\u001b[0m\u001b[0;34m\u001b[0m\u001b[0;34m\u001b[0m\u001b[0m\n",
       "\u001b[0;31mDocstring:\u001b[0m\n",
       "Add an isotropic linearized elasticity term to the model relatively to\n",
       "the variable `varname`. `dataname_lambda` and `dataname_mu` should\n",
       "contain the Lame coefficients. `region` is an optional mesh region\n",
       "on which the term is added. If it is not specified, it is added\n",
       "on the whole mesh. Return the brick index in the model.\n",
       "\u001b[0;31mFile:\u001b[0m      /usr/lib/python3/dist-packages/getfem/getfem.py\n",
       "\u001b[0;31mType:\u001b[0m      method\n"
      ]
     },
     "metadata": {},
     "output_type": "display_data"
    }
   ],
   "source": [
    "md.add_isotropic_linearized_elasticity_brick?"
   ]
  },
  {
   "cell_type": "code",
   "execution_count": 12,
   "metadata": {},
   "outputs": [],
   "source": [
    "md.add_initialized_data(\"lambda\", clambda)\n",
    "md.add_initialized_data(\"mu\", cmu)"
   ]
  },
  {
   "cell_type": "code",
   "execution_count": 13,
   "metadata": {},
   "outputs": [
    {
     "data": {
      "text/plain": [
       "0"
      ]
     },
     "execution_count": 13,
     "metadata": {},
     "output_type": "execute_result"
    }
   ],
   "source": [
    "md.add_isotropic_linearized_elasticity_brick(mim, \"u\", \"lambda\", \"mu\")"
   ]
  },
  {
   "cell_type": "code",
   "execution_count": null,
   "metadata": {},
   "outputs": [],
   "source": []
  }
 ],
 "metadata": {
  "kernelspec": {
   "display_name": "Python 3",
   "language": "python",
   "name": "python3"
  },
  "language_info": {
   "codemirror_mode": {
    "name": "ipython",
    "version": 3
   },
   "file_extension": ".py",
   "mimetype": "text/x-python",
   "name": "python",
   "nbconvert_exporter": "python",
   "pygments_lexer": "ipython3",
   "version": "3.8.2"
  }
 },
 "nbformat": 4,
 "nbformat_minor": 4
}
