{
 "cells": [
  {
   "cell_type": "markdown",
   "metadata": {},
   "source": [
    "# Compute arbitrary terms - high-level generic assembly procedures - Generic Weak-Form Language (GWFL)"
   ]
  },
  {
   "cell_type": "code",
   "execution_count": 1,
   "metadata": {},
   "outputs": [],
   "source": [
    "import getfem as gf\n",
    "import numpy as np\n",
    "\n",
    "elements_degree = 1\n",
    "# elements_degree = 2\n",
    "\n",
    "mesh = gf.Mesh(\"cartesian\", np.arange(0.0, 2.0, 1.0))"
   ]
  },
  {
   "cell_type": "markdown",
   "metadata": {},
   "source": [
    "`mf` is supposed to be an already declared `gf.MeshFem` object and `mim` a already declared `gf.MeshIm` object on the same mesh."
   ]
  },
  {
   "cell_type": "code",
   "execution_count": 2,
   "metadata": {},
   "outputs": [
    {
     "name": "stdout",
     "output_type": "stream",
     "text": [
      "\n",
      "BEGIN MESH_FEM\n",
      "\n",
      "QDIM 1\n",
      " CONVEX 0 'FEM_PK(1,1)'\n",
      " BEGIN DOF_ENUMERATION \n",
      "  0:  0 1\n",
      " END DOF_ENUMERATION \n",
      "END MESH_FEM\n",
      "\n"
     ]
    }
   ],
   "source": [
    "mf = gf.MeshFem(mesh, 1)\n",
    "mf.set_classical_fem(elements_degree)\n",
    "print(mf)"
   ]
  },
  {
   "cell_type": "code",
   "execution_count": 3,
   "metadata": {},
   "outputs": [
    {
     "name": "stdout",
     "output_type": "stream",
     "text": [
      "\n",
      "BEGIN MESH_IM\n",
      "\n",
      " CONVEX 0 'IM_GAUSS1D(2)'\n",
      "END MESH_IM\n",
      "\n"
     ]
    }
   ],
   "source": [
    "mim = gf.MeshIm(mesh, elements_degree*2)\n",
    "print(mim)"
   ]
  },
  {
   "cell_type": "markdown",
   "metadata": {},
   "source": [
    "As a first example, if one needs to perform the assembly of a Poisson problem\n",
    "\n",
    "$$\n",
    "-\\mathrm{div} \\nabla u=f,\\mathrm{in} \\Omega ,\n",
    "$$\n",
    "\n",
    "the stiffness matrix is given\n",
    "\n",
    "$$\n",
    "K_{i,j} =\\int _{\\Omega } \\nabla \\varphi _{i} \\cdot \\nabla \\varphi _{j} dx,\n",
    "$$\n",
    "\n",
    "and will be assembled by the following code:"
   ]
  },
  {
   "cell_type": "code",
   "execution_count": 4,
   "metadata": {},
   "outputs": [
    {
     "name": "stdout",
     "output_type": "stream",
     "text": [
      "matrix(2, 2)\n",
      "( (r0, 1) (r1, -1) )\n",
      "( (r0, -1) (r1, 1) )\n",
      "\n"
     ]
    }
   ],
   "source": [
    "md = gf.Model(\"real\")\n",
    "md.add_fem_variable(\"u\", mf)\n",
    "md.add_nonlinear_term(mim, \"Grad_u.Grad_Test_u\")\n",
    "md.assembly(option=\"build_matrix\")\n",
    "K = md.tangent_matrix()\n",
    "print(K)"
   ]
  },
  {
   "cell_type": "markdown",
   "metadata": {},
   "source": [
    "Note that the value of the variable do not really intervene because of the linearity of the problem.\n",
    "This allows to pass `\"u\"` as the value of the variable which will not be used.\n",
    "Note also that two other possible expressions for exactly the same result for the assembly string are `\"Grad_Test2_u.Grad_Test_u\"` (i.e. an order 2 expression) or `\"Norm_sqr(Grad_u)/2\"` (i.e. a potential). \n",
    "In fact other possible assembly string will give the same result such as `\"Grad_u.Grad_u/2\"` or `\"[Grad_u(1), Grad_u(2)].[Grad_Test_u(1), Grad_Test_u(2)]\"` for two-dimensional problems.\n",
    "However, the recommendation is preferably to give an order 1 expression (weak formulation) if there is no particular reason to prefer an order 0 or an order 2 expression."
   ]
  },
  {
   "cell_type": "code",
   "execution_count": 5,
   "metadata": {},
   "outputs": [
    {
     "name": "stdout",
     "output_type": "stream",
     "text": [
      "matrix(2, 2)\n",
      "( (r0, 1) (r1, -1) )\n",
      "( (r0, -1) (r1, 1) )\n",
      "\n"
     ]
    }
   ],
   "source": [
    "md = gf.Model(\"real\")\n",
    "md.add_fem_variable(\"u\", mf)\n",
    "md.add_nonlinear_term(mim, \"Grad_u.Grad_u/2\")\n",
    "md.assembly(option=\"build_matrix\")\n",
    "K = md.tangent_matrix()\n",
    "print(K)"
   ]
  },
  {
   "cell_type": "code",
   "execution_count": 6,
   "metadata": {},
   "outputs": [],
   "source": [
    "# for two-dimensional problems\n",
    "# md = gf.Model(\"real\")\n",
    "# md.add_fem_variable(\"u\", mf)\n",
    "# md.add_nonlinear_term(mim, \"[Grad_u(1), Grad_u(2)].[Grad_Test_u(1), Grad_Test_u(2)]\")\n",
    "# md.assembly(option=\"build_matrix\")\n",
    "# K = md.tangent_matrix()\n",
    "# print(K)"
   ]
  },
  {
   "cell_type": "markdown",
   "metadata": {},
   "source": [
    "As a second example, let us consider a coupled problem, for instance the mixed problem of incompressible elasticity given by the equations\n",
    "\n",
    "$$\n",
    "-\\mathrm{div}\\left( \\mu \\left( \\nabla u+( \\nabla u)^{T}\\right) -pI_{d}\\right) =f,\\mathrm{in} \\thinspace \\Omega , \\\\\n",
    "-\\mathrm{div} \\thinspace u=0.\n",
    "$$\n",
    "\n",
    "where `u` is the vector valued displacement and `p` the pressure. The assembly of the matrix for the whole coupled system can be performed as follows:"
   ]
  },
  {
   "cell_type": "code",
   "execution_count": null,
   "metadata": {},
   "outputs": [],
   "source": []
  }
 ],
 "metadata": {
  "kernelspec": {
   "display_name": "Python 3",
   "language": "python",
   "name": "python3"
  },
  "language_info": {
   "codemirror_mode": {
    "name": "ipython",
    "version": 3
   },
   "file_extension": ".py",
   "mimetype": "text/x-python",
   "name": "python",
   "nbconvert_exporter": "python",
   "pygments_lexer": "ipython3",
   "version": "3.8.5"
  }
 },
 "nbformat": 4,
 "nbformat_minor": 4
}
