{
 "cells": [
  {
   "cell_type": "markdown",
   "metadata": {},
   "source": [
    "# Assembly examples in Python\n",
    "\n",
    "This is the use with Python interface of the [C++ assembly examples](https://getfem.readthedocs.io/en/latest/userdoc/gasm_high.html#c-assembly-examples) in [Compute arbitrary terms - high-level generic assembly procedures - Generic Weak-Form Language (GWFL)](https://getfem.readthedocs.io/en/latest/userdoc/gasm_high.html)."
   ]
  },
  {
   "cell_type": "code",
   "execution_count": 1,
   "metadata": {},
   "outputs": [],
   "source": [
    "import getfem as gf\n",
    "import numpy as np\n",
    "\n",
    "elements_degree = 1\n",
    "# elements_degree = 2\n",
    "\n",
    "mesh = gf.Mesh(\"cartesian\", np.arange(0.0, 2.0, 1.0))"
   ]
  },
  {
   "cell_type": "markdown",
   "metadata": {},
   "source": [
    "`mf` is supposed to be an already declared `gf.MeshFem` object and `mim` a already declared `gf.MeshIm` object on the same mesh."
   ]
  },
  {
   "cell_type": "code",
   "execution_count": 2,
   "metadata": {},
   "outputs": [
    {
     "name": "stdout",
     "output_type": "stream",
     "text": [
      "\n",
      "BEGIN MESH_FEM\n",
      "\n",
      "QDIM 1\n",
      " CONVEX 0 'FEM_PK(1,1)'\n",
      " BEGIN DOF_ENUMERATION \n",
      "  0:  0 1\n",
      " END DOF_ENUMERATION \n",
      "END MESH_FEM\n",
      "\n"
     ]
    }
   ],
   "source": [
    "mf = gf.MeshFem(mesh, 1)\n",
    "mf.set_classical_fem(elements_degree)\n",
    "print(mf)"
   ]
  },
  {
   "cell_type": "code",
   "execution_count": 3,
   "metadata": {},
   "outputs": [
    {
     "name": "stdout",
     "output_type": "stream",
     "text": [
      "\n",
      "BEGIN MESH_IM\n",
      "\n",
      " CONVEX 0 'IM_GAUSS1D(2)'\n",
      "END MESH_IM\n",
      "\n"
     ]
    }
   ],
   "source": [
    "mim = gf.MeshIm(mesh, elements_degree*2)\n",
    "print(mim)"
   ]
  },
  {
   "cell_type": "markdown",
   "metadata": {},
   "source": [
    "As a first example, if one needs to perform the assembly of a Poisson problem\n",
    "\n",
    "$$\n",
    "-\\mathrm{div} \\nabla u=f,\\mathrm{in} \\Omega ,\n",
    "$$\n",
    "\n",
    "the stiffness matrix is given\n",
    "\n",
    "$$\n",
    "K_{i,j} =\\int _{\\Omega } \\nabla \\varphi _{i} \\cdot \\nabla \\varphi _{j} dx,\n",
    "$$\n",
    "\n",
    "and will be assembled by the following code:"
   ]
  },
  {
   "cell_type": "code",
   "execution_count": 4,
   "metadata": {},
   "outputs": [
    {
     "name": "stdout",
     "output_type": "stream",
     "text": [
      "matrix(2, 2)\n",
      "( (r0, 1) (r1, -1) )\n",
      "( (r0, -1) (r1, 1) )\n",
      "\n"
     ]
    }
   ],
   "source": [
    "md = gf.Model(\"real\")\n",
    "md.add_fem_variable(\"u\", mf)\n",
    "md.add_nonlinear_term(mim, \"Grad_u.Grad_Test_u\")\n",
    "md.assembly(option=\"build_matrix\")\n",
    "K = md.tangent_matrix()\n",
    "print(K)"
   ]
  },
  {
   "cell_type": "markdown",
   "metadata": {},
   "source": [
    "Note that the value of the variable do not really intervene because of the linearity of the problem.\n",
    "This allows to pass `\"u\"` as the value of the variable which will not be used.\n",
    "Note also that two other possible expressions for exactly the same result for the assembly string are `\"Grad_Test2_u.Grad_Test_u\"` (i.e. an order 2 expression) or `\"Norm_sqr(Grad_u)/2\"` (i.e. a potential). \n",
    "In fact other possible assembly string will give the same result such as `\"Grad_u.Grad_u/2\"` or `\"[Grad_u(1), Grad_u(2)].[Grad_Test_u(1), Grad_Test_u(2)]\"` for two-dimensional problems.\n",
    "However, the recommendation is preferably to give an order 1 expression (weak formulation) if there is no particular reason to prefer an order 0 or an order 2 expression."
   ]
  },
  {
   "cell_type": "code",
   "execution_count": 5,
   "metadata": {},
   "outputs": [
    {
     "name": "stdout",
     "output_type": "stream",
     "text": [
      "matrix(2, 2)\n",
      "( (r0, 1) (r1, -1) )\n",
      "( (r0, -1) (r1, 1) )\n",
      "\n"
     ]
    }
   ],
   "source": [
    "md = gf.Model(\"real\")\n",
    "md.add_fem_variable(\"u\", mf)\n",
    "md.add_nonlinear_term(mim, \"Grad_u.Grad_u/2\")\n",
    "md.assembly(option=\"build_matrix\")\n",
    "K = md.tangent_matrix()\n",
    "print(K)"
   ]
  },
  {
   "cell_type": "code",
   "execution_count": 6,
   "metadata": {},
   "outputs": [],
   "source": [
    "# for two-dimensional problems\n",
    "# md = gf.Model(\"real\")\n",
    "# md.add_fem_variable(\"u\", mf)\n",
    "# md.add_nonlinear_term(mim, \"[Grad_u(1), Grad_u(2)].[Grad_Test_u(1), Grad_Test_u(2)]\")\n",
    "# md.assembly(option=\"build_matrix\")\n",
    "# K = md.tangent_matrix()\n",
    "# print(K)"
   ]
  },
  {
   "cell_type": "markdown",
   "metadata": {},
   "source": [
    "As a second example, let us consider a coupled problem, for instance the mixed problem of incompressible elasticity given by the equations\n",
    "\n",
    "$$\n",
    "-\\mathrm{div}\\left( \\mu \\left( \\nabla u+( \\nabla u)^{T}\\right) -pI_{d}\\right) =f,\\mathrm{in} \\thinspace \\Omega , \\\\\n",
    "-\\mathrm{div} \\thinspace u=0.\n",
    "$$\n",
    "\n",
    "where `u` is the vector valued displacement and `p` the pressure. The assembly of the matrix for the whole coupled system can be performed as follows:"
   ]
  },
  {
   "cell_type": "code",
   "execution_count": 7,
   "metadata": {},
   "outputs": [
    {
     "name": "stdout",
     "output_type": "stream",
     "text": [
      "matrix(4, 4)\n",
      "( (r2, 0.5) (r3, -0.5) )\n",
      "( (r2, 0.5) (r3, -0.5) )\n",
      "( (r0, 0.5) (r1, 0.5) (r2, 1.61538e+07) (r3, -1.61538e+07) )\n",
      "( (r0, -0.5) (r1, -0.5) (r2, -1.61538e+07) (r3, 1.61538e+07) )\n",
      "\n"
     ]
    }
   ],
   "source": [
    "epsilon = 1.; E = 21E6; nu = 0.3;\n",
    "clambda = E*nu/((1+nu)*(1-2*nu));\n",
    "cmu = E/(2*(1+nu));\n",
    "\n",
    "mf_u = gf.MeshFem(mesh, 1)\n",
    "mf_u.set_classical_fem(elements_degree)\n",
    "mf_p = gf.MeshFem(mesh, 1)\n",
    "mf_p.set_classical_fem(elements_degree)\n",
    "\n",
    "md = gf.Model(\"real\")\n",
    "md.add_fem_variable(\"u\", mf_u)\n",
    "md.add_fem_variable(\"p\", mf_p)\n",
    "md.add_initialized_data(\"mu\", cmu)\n",
    "md.add_nonlinear_term(mim, \"2*mu*Sym(Grad_u):Grad_Test_u\"\n",
    "                     \"- p*Trace(Grad_Test_u) - Test_p*Trace(Grad_u)\")\n",
    "md.assembly(option=\"build_matrix\")\n",
    "K = md.tangent_matrix()\n",
    "print(K)"
   ]
  },
  {
   "cell_type": "markdown",
   "metadata": {},
   "source": [
    "where, here, `mf_u` and `mf_p` are supposed to be some already declared `getfem::mesh_fem` objects defined on the same mesh, `mim` a already declared `getfem::mesh_im` object and mu is the Lame coefficient.\n",
    "It is also possible to perform the assembly of the sub-matrix of this system separately."
   ]
  },
  {
   "cell_type": "markdown",
   "metadata": {},
   "source": [
    "Let us see now how to perform the assembly of a source term. The weak formulation of a volumic source term is"
   ]
  },
  {
   "cell_type": "markdown",
   "metadata": {},
   "source": [
    "Let us see now how to perform the assembly of a source term. The weak formulation of a volumic source term is\n",
    "\n",
    "$$\n",
    "\\int _{\\Omega } fvdx\n",
    "$$\n",
    "\n",
    "where $f$ is the source term and $v$ the test function. The corresponding assembly can be written:"
   ]
  },
  {
   "cell_type": "code",
   "execution_count": 8,
   "metadata": {},
   "outputs": [
    {
     "name": "stdout",
     "output_type": "stream",
     "text": [
      "[-0.5 -0.5]\n"
     ]
    }
   ],
   "source": [
    "F = np.ones(mf_u.nbdof())\n",
    "\n",
    "md = gf.Model(\"real\")\n",
    "md.add_fem_variable(\"u\", mf_u)\n",
    "md.add_initialized_fem_data(\"f\", mf_u, F)\n",
    "md.add_nonlinear_term(mim, \"f*Test_u\")\n",
    "md.assembly(\"build_rhs\")\n",
    "rhs = md.rhs()\n",
    "print(rhs)"
   ]
  },
  {
   "cell_type": "markdown",
   "metadata": {},
   "source": [
    "if the source term is describe on a finite element `mf_data` and the corresponding vector of degrees of freedom F. Explicit source terms are also possible. For instance:"
   ]
  },
  {
   "cell_type": "code",
   "execution_count": 9,
   "metadata": {},
   "outputs": [
    {
     "name": "stdout",
     "output_type": "stream",
     "text": [
      "[-0.15767352 -0.30191429]\n"
     ]
    }
   ],
   "source": [
    "region = -1 # ALL\n",
    "md = gf.Model(\"real\")\n",
    "md.add_fem_variable(\"u\", mf_u)\n",
    "md.add_nonlinear_term(mim, \"sin(X(1))*Test_u\", region)\n",
    "# for two-dimensional problems\n",
    "# md.add_nonlinear_term(mim, \"sin(X(1)+X(2))*Test_u\", region)\n",
    "md.assembly(\"build_rhs\")\n",
    "rhs = md.rhs()\n",
    "print(rhs)"
   ]
  },
  {
   "cell_type": "markdown",
   "metadata": {},
   "source": [
    "where `region` is the mesh region number."
   ]
  },
  {
   "cell_type": "markdown",
   "metadata": {},
   "source": [
    "As another example, let us describe a simple nonlinear elasticity problem. \n",
    "Assume that we consider a Saint-Venant Kirchhoff constitutive law which means that we consider the following elastic energy on a body of reference configuration $\\Omega$:\n",
    "\n",
    "$$\n",
    "\\int _{\\Omega }\\dfrac{\\lambda }{2}\\left(\\mathrm{tr}( E)^{2} +\\mu \\mathrm{tr}\\left( E^{2}\\right)\\right) dx\n",
    "$$\n",
    "\n",
    "where $\\lambda$, $\\mu$ are the Lamé coefficients and $E$ is the strain tensor given by $E=\\left( \\nabla u+( \\nabla u)^{T} +( \\nabla u)^{T} \\nabla u\\right) /2$.\n",
    "\n",
    "This is possible to perform the assembly of the corresponding tangent problem as follows:"
   ]
  },
  {
   "cell_type": "code",
   "execution_count": 10,
   "metadata": {},
   "outputs": [
    {
     "name": "stdout",
     "output_type": "stream",
     "text": [
      "[0. 0.]\n",
      "matrix(4, 4)\n",
      "( (r2, 0.5) (r3, -0.5) )\n",
      "( (r2, 0.5) (r3, -0.5) )\n",
      "( (r0, 0.5) (r1, 0.5) (r2, 1.61538e+07) (r3, -1.61538e+07) )\n",
      "( (r0, -0.5) (r1, -0.5) (r2, -1.61538e+07) (r3, 1.61538e+07) )\n",
      "\n"
     ]
    }
   ],
   "source": [
    "md = gf.Model(\"real\")\n",
    "\n",
    "md.add_fem_variable(\"u\", mf_u)\n",
    "md.add_initialized_data(\"lambda\", clambda)\n",
    "md.add_initialized_data(\"mu\", cmu)\n",
    "md.add_nonlinear_term(mim, \"lambda*sqr(Trace(Grad_u+Grad_u'+Grad_u'*Grad_u))\"\n",
    "                      \"+ mu*Trace((Grad_u+Grad_u'+Grad_u'*Grad_u)\"\n",
    "                      \"*(Grad_u+Grad_u'+Grad_u'*Grad_u))\")\n",
    "md.assembly(\"build_rhs\")\n",
    "rhs = md.rhs()\n",
    "print(rhs)\n",
    "md.assembly(\"build_matrix\")\n",
    "print(K)"
   ]
  },
  {
   "cell_type": "markdown",
   "metadata": {},
   "source": [
    "and to adapt a Newton-Raphson algorithm to solve that nonlinear problem. Of course the expression is rather repetitive and it would be preferable to define some intermediate nonlinear operators. However, note that repeated expressions are automatically detected and computed only once in the assembly."
   ]
  },
  {
   "cell_type": "markdown",
   "metadata": {},
   "source": [
    "The last example is the assembly of the stiffness matrix of an order four problem, the Kirchhoff-Love plate problem:"
   ]
  },
  {
   "cell_type": "code",
   "execution_count": 11,
   "metadata": {},
   "outputs": [],
   "source": [
    "h = 1.0 # mm\n",
    "D = 2.0*h**3*E/(3*(1-nu**2))\n",
    "\n",
    "md = gf.Model(\"real\")\n",
    "\n",
    "md.add_fem_variable(\"u\", mf)\n",
    "md.add_initialized_data(\"D\", D)\n",
    "md.add_initialized_data(\"nu\", nu)\n",
    "md.add_nonlinear_term(mim, \"D*(1-nu)*(Hess_u:Hess_Test_u) - \"\n",
    "                           \"D*nu*Trace(Hess_u)*Trace(Hess_Test_u)\")\n",
    "md.assembly(option=\"build_all\")\n",
    "K = md.tangent_matrix()"
   ]
  },
  {
   "cell_type": "markdown",
   "metadata": {},
   "source": [
    "with $D$ the flexion modulus and $\\nu$ the Poisson ratio."
   ]
  },
  {
   "cell_type": "code",
   "execution_count": null,
   "metadata": {},
   "outputs": [],
   "source": []
  }
 ],
 "metadata": {
  "kernelspec": {
   "display_name": "Python 3",
   "language": "python",
   "name": "python3"
  },
  "language_info": {
   "codemirror_mode": {
    "name": "ipython",
    "version": 3
   },
   "file_extension": ".py",
   "mimetype": "text/x-python",
   "name": "python",
   "nbconvert_exporter": "python",
   "pygments_lexer": "ipython3",
   "version": "3.8.5"
  }
 },
 "nbformat": 4,
 "nbformat_minor": 4
}
