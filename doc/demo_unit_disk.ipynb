{
 "cells": [
  {
   "cell_type": "markdown",
   "metadata": {
    "slideshow": {
     "slide_type": "-"
    }
   },
   "source": [
    "# Introduction to FEM Analysis with Python\n",
    "[![Binder](https://mybinder.org/badge.svg)](https://mybinder.org/v2/gh/getfem-doc/getfem-examples/master?filepath=doc%2Fdemo_unit_disk.ipynb)\n",
    "\n",
    "This tutorial aims to show using Python to pre-processing, solve, and post-processing of Finite Element Method analysis. It uses a finite element method library with a Python interface called [GetFEM](http://getfem.org/) for preprocessing and solving. We will load vtk file by using [meshio](https://github.com/nschloe/meshio) and visualize by [matplotlib](https://github.com/matplotlib/matplotlib) in pre-processing and post-processing. This tutorial was used in the [PyConJP 2019 talk](https://pycon.jp/2019/schedule/?sessionId=120). You can watch the talk on YouTube below. This tutorial is based on the following [official GetFEM page tutorial](http://getfem.org/tutorial/thermo_coupling.html)."
   ]
  },
  {
   "cell_type": "code",
   "execution_count": 1,
   "metadata": {},
   "outputs": [
    {
     "data": {
      "image/jpeg": "[encoded data removed]",
      "text/html": [
       "\n",
       "        <iframe\n",
       "            width=\"400\"\n",
       "            height=\"300\"\n",
       "            src=\"https://www.youtube.com/embed/6JuB1GiDLQQ?start=512\"\n",
       "            frameborder=\"0\"\n",
       "            allowfullscreen\n",
       "        ></iframe>\n",
       "        "
      ],
      "text/plain": [
       "<IPython.lib.display.YouTubeVideo at 0x7f96d123cfd0>"
      ]
     },
     "execution_count": 1,
     "metadata": {},
     "output_type": "execute_result"
    }
   ],
   "source": [
    "from IPython.display import YouTubeVideo\n",
    "\n",
    "YouTubeVideo(\"6JuB1GiDLQQ\", start=512)"
   ]
  },
  {
   "cell_type": "markdown",
   "metadata": {},
   "source": [
    "## Installation\n",
    "\n",
    "GetFEM including its python interface can be installed from a terminal by executing aptitude update and aptitude install python3-getfem++."
   ]
  },
  {
   "cell_type": "raw",
   "metadata": {},
   "source": [
    "sudo aptitude install python3-getfem++"
   ]
  },
  {
   "cell_type": "markdown",
   "metadata": {},
   "source": [
    "The additional packages in [requirements.txt](https://github.com/getfem-doc/getfem-examples/blob/master/requirements.txt) are required for this tutorial. You do not need to build these environments because they are already configured in the [Dockerfile](https://github.com/getfem-doc/getfem-examples/blob/master/Dockerfile)."
   ]
  },
  {
   "cell_type": "markdown",
   "metadata": {},
   "source": [
    "## The problem setting\n",
    "\n",
    "The problem refers to [\"Poisson's Equation on Unit Disk\"](https://mathworks.com/help/pde/ug/solve-poissons-equation-on-a-unit-disk.html) published by Math Works's homepage.\n",
    "\n",
    "\n",
    "$$−\\Delta u=1 \\ {\\rm on}\\  \\Omega, u=0 \\ {\\rm on}\\  \\delta \\Omega $$\n",
    "\n",
    "![pdedemo1_01](https://jp.mathworks.com/help/examples/pde/win64/pdedemo1_01.png)\n",
    "\n"
   ]
  },
  {
   "cell_type": "markdown",
   "metadata": {},
   "source": [
    "## How to use GetFEM\n",
    "\n",
    "We take the following steps when using GetFEM to solve finite element problems. See [this page](http://getfem.org/tutorial/basic_usage.html) for more information on using GetFEM.\n",
    "\n",
    "- define a [MesherObject](http://getfem.org/python/cmdref_MesherObject.html)\n",
    "- define a [Mesh](http://getfem.org/python/cmdref_Mesh.html)\n",
    "- define a [MeshFem](http://getfem.org/python/cmdref_MeshFem.html)\n",
    "- define a [MeshIm](http://getfem.org/python/cmdref_MeshIm.html)\n",
    "- define a [Model](http://getfem.org/python/cmdref_Model.html) and set it up\n",
    "- solve Model object\n",
    "- get value from Model object"
   ]
  },
  {
   "cell_type": "markdown",
   "metadata": {},
   "source": [
    "## Initialization\n",
    "\n",
    "GetFEM can be imported as follows (numpy has also to be imported). "
   ]
  },
  {
   "cell_type": "code",
   "execution_count": 2,
   "metadata": {
    "scrolled": true
   },
   "outputs": [],
   "source": [
    "import getfem as gf\n",
    "import numpy as np"
   ]
  },
  {
   "cell_type": "markdown",
   "metadata": {},
   "source": [
    "## Mesh generation"
   ]
  },
  {
   "cell_type": "markdown",
   "metadata": {},
   "source": [
    "We use GetFEM's [MesherObject](http://getfem.org/python/cmdref_MesherObject.html#) to create a mesh from the geometric information to be analyzed.\n",
    "This object represent a geometric object to be meshed by the experimental meshing procedure of GetFEM. We can represent a disk by specifying a radius, a 2D center, and using \"ball\" geometry."
   ]
  },
  {
   "cell_type": "code",
   "execution_count": 3,
   "metadata": {},
   "outputs": [],
   "source": [
    "center = [0.0, 0.0]\n",
    "radius = 1.0\n",
    "\n",
    "mo = gf.MesherObject(\"ball\", center, radius)"
   ]
  },
  {
   "cell_type": "markdown",
   "metadata": {},
   "source": [
    "We can make mesh object `mesh` by calling the experimental mesher of GetFEM on the geometry represented by `mo`. The approximate element diameter is given by `h` and the degree of the mesh is `K` ($K > 1$ for curved boundaries)."
   ]
  },
  {
   "cell_type": "code",
   "execution_count": 4,
   "metadata": {},
   "outputs": [],
   "source": [
    "h = 0.1\n",
    "K = 2\n",
    "mesh = gf.Mesh(\"generate\", mo, h, K)"
   ]
  },
  {
   "cell_type": "markdown",
   "metadata": {},
   "source": [
    "## Boundary selection"
   ]
  },
  {
   "cell_type": "markdown",
   "metadata": {},
   "source": [
    "To define a boundary condition, we set a boundary number on the outer circumference of the circle."
   ]
  },
  {
   "cell_type": "code",
   "execution_count": 5,
   "metadata": {},
   "outputs": [],
   "source": [
    "outer_faces = mesh.outer_faces()\n",
    "OUTER_BOUND = 1\n",
    "mesh.set_region(OUTER_BOUND, outer_faces)"
   ]
  },
  {
   "cell_type": "markdown",
   "metadata": {},
   "source": [
    "## Mesh draw"
   ]
  },
  {
   "cell_type": "markdown",
   "metadata": {},
   "source": [
    "We visualize the created mesh to check its quality. We can output mesh objects, but matplotlib can only display triangles. Therefore, we make a `Slice` object with a slice operation of `(\"none\",)`, which does not cut the mesh. With a refinement of 1, this serves to convert the mesh to triangles."
   ]
  },
  {
   "cell_type": "code",
   "execution_count": 6,
   "metadata": {},
   "outputs": [],
   "source": [
    "sl = gf.Slice((\"none\",), mesh, 1)"
   ]
  },
  {
   "cell_type": "markdown",
   "metadata": {},
   "source": [
    "We can export a slice to VTK file by using export_to_vtk method."
   ]
  },
  {
   "cell_type": "code",
   "execution_count": 7,
   "metadata": {},
   "outputs": [],
   "source": [
    "sl.export_to_vtk(\"sl.vtk\", \"ascii\")"
   ]
  },
  {
   "cell_type": "markdown",
   "metadata": {},
   "source": [
    "We can render VTK files using Paraview or mayavi2. In order to display in the jupyter notebook this time, we read in meshio and draw in matplotlib."
   ]
  },
  {
   "cell_type": "code",
   "execution_count": 8,
   "metadata": {},
   "outputs": [
    {
     "data": {
      "image/png": "[encoded data removed]",
      "text/plain": [
       "<PIL.Image.Image image mode=RGB size=512x384 at 0x7F9694D31490>"
      ]
     },
     "metadata": {},
     "output_type": "display_data"
    },
    {
     "data": {
      "text/plain": [
       "<pyvirtualdisplay.display.Display at 0x7f96ba6ef160>"
      ]
     },
     "execution_count": 8,
     "metadata": {},
     "output_type": "execute_result"
    }
   ],
   "source": [
    "import pyvista as pv\n",
    "from pyvirtualdisplay import Display\n",
    "\n",
    "display = Display(visible=0, size=(1280, 1024))\n",
    "display.start()\n",
    "p = pv.Plotter()\n",
    "m = pv.read(\"sl.vtk\")\n",
    "p.add_mesh(m, show_edges=True)\n",
    "pts = m.points\n",
    "p.show(window_size=[512, 384], cpos=\"xy\")\n",
    "display.stop()"
   ]
  },
  {
   "cell_type": "markdown",
   "metadata": {},
   "source": [
    "## Definition of finite element methods and integration method\n",
    "\n",
    "We define the finite element and integration methods to use. We create a `MeshFem` that defines the degree of freedom of the mesh as rank 1 (scalar)."
   ]
  },
  {
   "cell_type": "code",
   "execution_count": 9,
   "metadata": {},
   "outputs": [],
   "source": [
    "mfu = gf.MeshFem(mesh, 1)"
   ]
  },
  {
   "cell_type": "markdown",
   "metadata": {},
   "source": [
    "Next we set the finite element used. Classical finite element means a continuous Lagrange element. Setting `elements_degree` to 2 means that we will use quadratic (isoparametric) elements."
   ]
  },
  {
   "cell_type": "code",
   "execution_count": 10,
   "metadata": {},
   "outputs": [],
   "source": [
    "elements_degree = 2\n",
    "mfu.set_classical_fem(elements_degree)"
   ]
  },
  {
   "cell_type": "markdown",
   "metadata": {},
   "source": [
    "The last thing to define is an integration method `mim`. There is no default integration method in GetFEM so it is mandatory to define an integration method. Of course, the order of the integration method has to be chosen sufficient to make a convenient integration of the selected finite element method. Here, the square of `elements_degree` is sufficient."
   ]
  },
  {
   "cell_type": "code",
   "execution_count": 11,
   "metadata": {},
   "outputs": [],
   "source": [
    "mim = gf.MeshIm(mesh, pow(elements_degree, 2))"
   ]
  },
  {
   "cell_type": "markdown",
   "metadata": {},
   "source": [
    "## Model definition\n",
    "The model object in GetFEM gathers the variables of the models (the unknowns), the data and what are called the model bricks. The model bricks are some parts of the model (linear or nonlinear terms) applied on a single variable or linking several variables. A model brick is an object that is supposed to represent a part of a model. It aims to represent some integral terms in a weak formulation of a PDE model. They are used to make the assembly of the (tangent) linear system (see [The model object](http://getfem.org/userdoc/model_object.html) for more details).\n",
    "$$ [K] \\left\\{ u \\right\\} = \\left\\{ F \\right\\} $$"
   ]
  },
  {
   "cell_type": "code",
   "execution_count": 12,
   "metadata": {},
   "outputs": [],
   "source": [
    "md = gf.Model(\"real\")\n",
    "md.add_fem_variable(\"u\", mfu)"
   ]
  },
  {
   "cell_type": "markdown",
   "metadata": {},
   "source": [
    "## Poisson's equation\n",
    "To define Poisson's equation, we have to define a Laplacian term and RHS source term. We can add the Laplacian term (which is called a brick in GetFEM) by using `add_Laplacian_brick()`."
   ]
  },
  {
   "cell_type": "code",
   "execution_count": 13,
   "metadata": {},
   "outputs": [
    {
     "data": {
      "text/plain": [
       "0"
      ]
     },
     "execution_count": 13,
     "metadata": {},
     "output_type": "execute_result"
    }
   ],
   "source": [
    "md.add_Laplacian_brick(mim, \"u\")"
   ]
  },
  {
   "cell_type": "markdown",
   "metadata": {},
   "source": [
    "If you want to define constants in GetFEM, we use the `add_fem_data()` method."
   ]
  },
  {
   "cell_type": "code",
   "execution_count": 14,
   "metadata": {},
   "outputs": [],
   "source": [
    "F = 1.0\n",
    "md.add_fem_data(\"F\", mfu)"
   ]
  },
  {
   "cell_type": "markdown",
   "metadata": {},
   "source": [
    "We can set constant values with the `set_variable()` method. Here we pass a vector (`ndarray`) the size of the degrees of freedom."
   ]
  },
  {
   "cell_type": "code",
   "execution_count": 15,
   "metadata": {},
   "outputs": [],
   "source": [
    "md.set_variable(\"F\", np.repeat(F, mfu.nbdof()))"
   ]
  },
  {
   "cell_type": "markdown",
   "metadata": {},
   "source": [
    "We define the term RHS with the `add_source_term_brick()` method, using the constant `F` just defined."
   ]
  },
  {
   "cell_type": "code",
   "execution_count": 16,
   "metadata": {},
   "outputs": [
    {
     "data": {
      "text/plain": [
       "1"
      ]
     },
     "execution_count": 16,
     "metadata": {},
     "output_type": "execute_result"
    }
   ],
   "source": [
    "md.add_source_term_brick(mim, \"u\", \"F\")"
   ]
  },
  {
   "cell_type": "markdown",
   "metadata": {},
   "source": [
    "Finally, we set the Dirichlet condition at the boundary."
   ]
  },
  {
   "cell_type": "code",
   "execution_count": 17,
   "metadata": {},
   "outputs": [
    {
     "data": {
      "text/plain": [
       "2"
      ]
     },
     "execution_count": 17,
     "metadata": {},
     "output_type": "execute_result"
    }
   ],
   "source": [
    "md.add_Dirichlet_condition_with_multipliers(mim, \"u\", elements_degree - 1, OUTER_BOUND)"
   ]
  },
  {
   "cell_type": "markdown",
   "metadata": {},
   "source": [
    "## Model solve\n",
    "Once the model is correctly defined, we can simply solve it by:"
   ]
  },
  {
   "cell_type": "code",
   "execution_count": 18,
   "metadata": {},
   "outputs": [
    {
     "data": {
      "text/plain": [
       "(0, 1)"
      ]
     },
     "execution_count": 18,
     "metadata": {},
     "output_type": "execute_result"
    }
   ],
   "source": [
    "md.solve()"
   ]
  },
  {
   "cell_type": "markdown",
   "metadata": {},
   "source": [
    "## Export/visualization of the solution\n",
    "\n",
    "The finite element problem is now solved. We can get the solution $u$ by using `variable` method."
   ]
  },
  {
   "cell_type": "code",
   "execution_count": 19,
   "metadata": {},
   "outputs": [],
   "source": [
    "U = md.variable(\"u\")"
   ]
  },
  {
   "cell_type": "markdown",
   "metadata": {},
   "source": [
    "We can output the computed u with the mesh of the Slice object."
   ]
  },
  {
   "cell_type": "code",
   "execution_count": 20,
   "metadata": {},
   "outputs": [
    {
     "data": {
      "image/png": "[encoded data removed]",
      "text/plain": [
       "<PIL.Image.Image image mode=RGB size=384x384 at 0x7F968C03AA60>"
      ]
     },
     "metadata": {},
     "output_type": "display_data"
    },
    {
     "data": {
      "text/plain": [
       "<pyvirtualdisplay.display.Display at 0x7f968c03a760>"
      ]
     },
     "execution_count": 20,
     "metadata": {},
     "output_type": "execute_result"
    }
   ],
   "source": [
    "sl.export_to_vtk(\"u.vtk\", \"ascii\", mfu, U, \"U\")\n",
    "\n",
    "display = Display(visible=0, size=(1280, 1024))\n",
    "display.start()\n",
    "p = pv.Plotter()\n",
    "m = pv.read(\"u.vtk\")\n",
    "contours = m.contour()\n",
    "p.add_mesh(m, show_edges=False)\n",
    "p.add_mesh(contours, color=\"black\", line_width=1)\n",
    "p.add_mesh(m.contour(8).extract_largest(), opacity=0.1)\n",
    "pts = m.points\n",
    "p.show(window_size=[384, 384], cpos=\"xy\")\n",
    "display.stop()"
   ]
  },
  {
   "cell_type": "markdown",
   "metadata": {},
   "source": [
    "## Exact solution\n",
    "\n",
    "The exact solution to this problem is given by the following equation:\n",
    "$$u(x, y) = \\dfrac{1-x^2-y^2}{4}$$"
   ]
  },
  {
   "cell_type": "code",
   "execution_count": 21,
   "metadata": {},
   "outputs": [],
   "source": [
    "evalue = mfu.eval(\"(1-x*x-y*y)/4\")"
   ]
  },
  {
   "cell_type": "markdown",
   "metadata": {},
   "source": [
    "We can calculate the error for the L2 and H1 norms by using `compute`:"
   ]
  },
  {
   "cell_type": "code",
   "execution_count": 22,
   "metadata": {},
   "outputs": [
    {
     "name": "stdout",
     "output_type": "stream",
     "text": [
      "Error in L2 norm :  1.965329030567132e-06\n",
      "Error in H1 norm :  0.00010936971229957788\n"
     ]
    }
   ],
   "source": [
    "L2error = gf.compute(mfu, U - evalue, \"L2 norm\", mim)\n",
    "H1error = gf.compute(mfu, U - evalue, \"H1 norm\", mim)\n",
    "print(\"Error in L2 norm : \", L2error)\n",
    "print(\"Error in H1 norm : \", H1error)"
   ]
  },
  {
   "cell_type": "markdown",
   "metadata": {},
   "source": [
    "As you can see, the size of the error is within the acceptable range."
   ]
  },
  {
   "cell_type": "markdown",
   "metadata": {},
   "source": [
    "## Quadrangular shape case\n",
    "\n",
    "Even if the shape of the region is different, GetFEM can obtain a finite element solution by rewriting the program a little. In the case of a quadrangular shape it may be calculated for:."
   ]
  },
  {
   "cell_type": "code",
   "execution_count": 23,
   "metadata": {},
   "outputs": [
    {
     "data": {
      "image/png": "[encoded data removed]",
      "text/plain": [
       "<PIL.Image.Image image mode=RGB size=512x384 at 0x7F968C057CD0>"
      ]
     },
     "metadata": {},
     "output_type": "display_data"
    },
    {
     "data": {
      "text/plain": [
       "<pyvirtualdisplay.display.Display at 0x7f96ba6dd040>"
      ]
     },
     "execution_count": 23,
     "metadata": {},
     "output_type": "execute_result"
    }
   ],
   "source": [
    "# Mesh generation\n",
    "mo = gf.MesherObject(\"rectangle\", [-1.0, -1.0], [1.0, 1.0])\n",
    "h = 0.1\n",
    "K = 2\n",
    "mesh = gf.Mesh(\"generate\", mo, h, K)\n",
    "\n",
    "# Boundary selection\n",
    "outer_faces = mesh.outer_faces()\n",
    "OUTER_BOUND = 1\n",
    "mesh.set_region(OUTER_BOUND, outer_faces)\n",
    "sl = gf.Slice((\"none\",), mesh, 1)\n",
    "sl.export_to_vtk(\"sl.vtk\", \"ascii\")\n",
    "\n",
    "# Mesh draw\n",
    "display = Display(visible=0, size=(1280, 1024))\n",
    "display.start()\n",
    "p = pv.Plotter()\n",
    "m = pv.read(\"sl.vtk\")\n",
    "p.add_mesh(m, show_edges=True)\n",
    "pts = m.points\n",
    "p.show(window_size=[512, 384], cpos=\"xy\")\n",
    "display.stop()"
   ]
  },
  {
   "cell_type": "code",
   "execution_count": 24,
   "metadata": {},
   "outputs": [
    {
     "data": {
      "image/png": "[encoded data removed]",
      "text/plain": [
       "<PIL.Image.Image image mode=RGB size=384x384 at 0x7F968C04F370>"
      ]
     },
     "metadata": {},
     "output_type": "display_data"
    },
    {
     "data": {
      "text/plain": [
       "<pyvirtualdisplay.display.Display at 0x7f9694d31730>"
      ]
     },
     "execution_count": 24,
     "metadata": {},
     "output_type": "execute_result"
    }
   ],
   "source": [
    "# Definition of finite element methods and integration method\n",
    "mfu = gf.MeshFem(mesh, 1)\n",
    "elements_degree = 2\n",
    "mfu.set_classical_fem(elements_degree)\n",
    "mim = gf.MeshIm(mesh, pow(elements_degree, 2))\n",
    "\n",
    "# Model definition\n",
    "md = gf.Model(\"real\")\n",
    "md.add_fem_variable(\"u\", mfu)\n",
    "\n",
    "# Poisson’s equation\n",
    "md.add_Laplacian_brick(mim, \"u\")\n",
    "F = 1.0\n",
    "md.add_fem_data(\"F\", mfu)\n",
    "md.set_variable(\"F\", np.repeat(F, mfu.nbdof()))\n",
    "md.add_source_term_brick(mim, \"u\", \"F\")\n",
    "md.add_Dirichlet_condition_with_multipliers(mim, \"u\", elements_degree - 1, OUTER_BOUND)\n",
    "\n",
    "# Model solve\n",
    "md.solve()\n",
    "\n",
    "# Export/visualization of the solution\n",
    "U = md.variable(\"u\")\n",
    "sl.export_to_vtk(\"u.vtk\", \"ascii\", mfu, U, \"U\")\n",
    "\n",
    "display = Display(visible=0, size=(1280, 1024))\n",
    "display.start()\n",
    "p = pv.Plotter()\n",
    "m = pv.read(\"u.vtk\")\n",
    "contours = m.contour()\n",
    "p.add_mesh(m, show_edges=False)\n",
    "p.add_mesh(contours, color=\"black\", line_width=1)\n",
    "p.add_mesh(m.contour(8).extract_largest(), opacity=0.1)\n",
    "pts = m.points\n",
    "p.show(window_size=[384, 384], cpos=\"xy\")\n",
    "display.stop()"
   ]
  },
  {
   "cell_type": "code",
   "execution_count": null,
   "metadata": {},
   "outputs": [],
   "source": []
  }
 ],
 "metadata": {
  "kernelspec": {
   "display_name": "Python 3",
   "language": "python",
   "name": "python3"
  },
  "language_info": {
   "codemirror_mode": {
    "name": "ipython",
    "version": 3
   },
   "file_extension": ".py",
   "mimetype": "text/x-python",
   "name": "python",
   "nbconvert_exporter": "python",
   "pygments_lexer": "ipython3",
   "version": "3.8.5"
  }
 },
 "nbformat": 4,
 "nbformat_minor": 4
}
