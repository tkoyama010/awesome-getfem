{
 "cells": [
  {
   "cell_type": "markdown",
   "metadata": {},
   "source": [
    "# Initialization\n",
    "\n",
    "Let us begin by loading Getfem and pyvista."
   ]
  },
  {
   "cell_type": "code",
   "execution_count": 1,
   "metadata": {},
   "outputs": [],
   "source": [
    "import getfem as gf\n",
    "import pyvista as pv\n",
    "import numpy as np\n",
    "\n",
    "pv.set_plot_theme(\"document\")"
   ]
  },
  {
   "cell_type": "markdown",
   "metadata": {},
   "source": [
    "# Mesh generation\n",
    "\n",
    "When you want to build mesh from empty situation, you can use \"empty\" command in Mesh object."
   ]
  },
  {
   "cell_type": "code",
   "execution_count": 2,
   "metadata": {},
   "outputs": [
    {
     "data": {
      "text/plain": [
       "\u001b[0;31mInit signature:\u001b[0m \u001b[0mgf\u001b[0m\u001b[0;34m.\u001b[0m\u001b[0mMesh\u001b[0m\u001b[0;34m(\u001b[0m\u001b[0;34m*\u001b[0m\u001b[0margs\u001b[0m\u001b[0;34m)\u001b[0m\u001b[0;34m\u001b[0m\u001b[0;34m\u001b[0m\u001b[0m\n",
       "\u001b[0;31mDocstring:\u001b[0m     \n",
       "GeFEM Mesh object\n",
       "\n",
       "This object is able to store any element in any dimension even if you mix\n",
       "elements with different dimensions.\n",
       "\u001b[0;31mInit docstring:\u001b[0m\n",
       "General constructor for Mesh objects\n",
       "\n",
       "* ``M = Mesh('empty', int dim)``\n",
       "  Create a new empty mesh.\n",
       "\n",
       "* ``M = Mesh('cartesian', vec X[, vec Y[, vec Z,..]])``\n",
       "  Build quickly a regular mesh of quadrangles, cubes, etc.\n",
       "\n",
       "* ``M = Mesh('pyramidal', vec X[, vec Y[, vec Z,..]])``\n",
       "  Build quickly a regular mesh of pyramids, etc.\n",
       "\n",
       "* ``M = Mesh('cartesian Q1', vec X, vec Y[, vec Z,..])``\n",
       "  Build quickly a regular mesh of quadrangles, cubes, etc. with\n",
       "  Q1 elements.\n",
       "\n",
       "* ``M = Mesh('triangles grid', vec X, vec Y)``\n",
       "  Build quickly a regular mesh of triangles.\n",
       "  \n",
       "  This is a very limited and somehow deprecated function (See also\n",
       "  ``Mesh('ptND')``, ``Mesh('regular simplices')`` and\n",
       "  ``Mesh('cartesian')``).\n",
       "\n",
       "* ``M = Mesh('regular simplices', vec X[, vec Y[, vec Z,...]]['degree', int k]['noised'])``\n",
       "  Mesh a n-dimensionnal parallelepipeded with simplices (triangles,\n",
       "  tetrahedrons etc) .\n",
       "  \n",
       "  The optional degree may be used to build meshes with non linear\n",
       "  geometric transformations.\n",
       "\n",
       "* ``M = Mesh('curved', Mesh m, vec F)``\n",
       "  Build a curved (n+1)-dimensions mesh from a n-dimensions mesh `m`.\n",
       "  \n",
       "  The points of the new mesh have one additional coordinate, given by\n",
       "  the vector `F`. This can be used to obtain meshes for shells. `m` may\n",
       "  be a MeshFem object, in that case its linked mesh will be used.\n",
       "\n",
       "* ``M = Mesh('prismatic', Mesh m, int nl[, int degree])``\n",
       "  Extrude a prismatic Mesh `M` from a Mesh `m`.\n",
       "  \n",
       "  In the additional dimension there are `nl` layers of elements\n",
       "  distributed from ``0`` to ``1``.\n",
       "  If the optional parameter `degree` is provided with a value greater\n",
       "  than the default value of ``1``, a non-linear transformation of\n",
       "  corresponding degree is considered in the extrusion direction.\n",
       "\n",
       "* ``M = Mesh('pt2D', mat P, imat T[, int n])``\n",
       "  Build a mesh from a 2D triangulation.\n",
       "  \n",
       "  Each column of `P` contains a point coordinate, and each column of `T`\n",
       "  contains the point indices of a triangle. `n` is optional and is a\n",
       "  zone number. If `n` is specified then only the zone number `n` is\n",
       "  converted (in that case, `T` is expected to have 4 rows, the fourth\n",
       "  containing these zone numbers).\n",
       "  \n",
       "  \n",
       "\n",
       "* ``M = Mesh('ptND', mat P, imat T)``\n",
       "  Build a mesh from a n-dimensional \"triangulation\".\n",
       "  \n",
       "  Similar function to 'pt2D', for building simplexes meshes from a\n",
       "  triangulation given in `T`, and a list of points given in `P`. The\n",
       "  dimension of the mesh will be the number of rows of `P`, and the\n",
       "  dimension of the simplexes will be the number of rows of `T`.\n",
       "\n",
       "* ``M = Mesh('load', string filename)``\n",
       "  Load a mesh from a getfem++ ascii mesh file.\n",
       "  \n",
       "  See also ``Mesh.save(string filename)``.\n",
       "\n",
       "* ``M = Mesh('from string', string s)``\n",
       "  Load a mesh from a string description.\n",
       "  \n",
       "  For example, a string returned by ``Mesh.char()``.\n",
       "\n",
       "* ``M = Mesh('import', string format, string filename)``\n",
       "  Import a mesh.\n",
       "  \n",
       "  `format` may be:\n",
       "  \n",
       "  - 'gmsh' for a mesh created with `Gmsh`\n",
       "  - 'gid' for a mesh created with `GiD`\n",
       "  - 'cdb' for a mesh created with `ANSYS`\n",
       "  - 'am_fmt' for a mesh created with `EMC2`\n",
       "\n",
       "* ``M = Mesh('clone', Mesh m2)``\n",
       "  Create a copy of a mesh.\n",
       "\n",
       "* ``M = Mesh('generate', MesherObject mo, scalar h[, int K = 1[, mat vertices]])``\n",
       "  Call the experimental mesher of Getfem on the geometry\n",
       "  represented by `mo`. please control the conformity of the produced mesh.\n",
       "  You can help the mesher by adding a priori vertices in the array\n",
       "  `vertices` which should be of size ``n x m`` where ``n`` n is the\n",
       "  dimension of the mesh and ``m`` the number of points. `h` is\n",
       "  approximate diameter of the elements. `K` is the degree of the\n",
       "  mesh ( > 1 for curved boundaries).  The mesher try to optimize the\n",
       "  quality of the elements. This operation may be time consuming.\n",
       "  Note that if the mesh generation fails, because of some random\n",
       "  procedure used, it can be run again since it will not give necessarily\n",
       "  the same result due to random procedures used.\n",
       "  The messages send to the console by the mesh generation can be\n",
       "  desactivated using `gf_util('trace level', 2)`. More information\n",
       "  can be obtained by `gf_util('trace level', 4)`. See ``MesherObject``\n",
       "  to manipulate geometric primitives in order to desribe the geometry.\n",
       "  \n",
       "\n",
       "  \n",
       "\u001b[0;31mFile:\u001b[0m           /usr/lib/python3/dist-packages/getfem/getfem.py\n",
       "\u001b[0;31mType:\u001b[0m           type\n",
       "\u001b[0;31mSubclasses:\u001b[0m     \n"
      ]
     },
     "metadata": {},
     "output_type": "display_data"
    }
   ],
   "source": [
    "gf.Mesh?"
   ]
  },
  {
   "cell_type": "code",
   "execution_count": 3,
   "metadata": {},
   "outputs": [],
   "source": [
    "mesh = gf.Mesh(\"empty\", 3)\n",
    "\n",
    "for x in range(10):\n",
    "    for y in range(10):\n",
    "        for z in [0, 10]:\n",
    "            mesh.add_convex(\n",
    "                gf.GeoTrans(\"GT_PRODUCT(GT_QK(1, 1), GT_QK(1, 1))\"),\n",
    "                [[x, x+1, x, x+1], [y, y, y+1, y+1], [z, z, z, z]],\n",
    "            )\n",
    "\n",
    "for x in range(10):\n",
    "    for z in range(10):\n",
    "        for y in [0, 10]:\n",
    "            mesh.add_convex(\n",
    "                gf.GeoTrans(\"GT_PRODUCT(GT_QK(1, 1), GT_QK(1, 1))\"),\n",
    "                [[x, x+1, x, x+1], [y, y, y, y], [z, z, z+1, z+1]],\n",
    "            )\n",
    "\n",
    "for y in range(10):\n",
    "    for z in range(10):\n",
    "        for x in [0, 10]:\n",
    "            mesh.add_convex(\n",
    "                gf.GeoTrans(\"GT_PRODUCT(GT_QK(1, 1), GT_QK(1, 1))\"),\n",
    "                [[x, x, x, x], [y, y+1, y, y+1], [z, z, z+1, z+1]],\n",
    "           )\n",
    "\n",
    "mesh.translate([-5.0, -5.0, -5.0])\n",
    "mesh.export_to_vtk(\"m1.vtk\")"
   ]
  },
  {
   "cell_type": "code",
   "execution_count": 4,
   "metadata": {},
   "outputs": [],
   "source": [
    "pts = mesh.pts()\n",
    "radius = np.sqrt(pts[0]**2 + pts[1]**2 + pts[2]**2)\n",
    "mesh.set_pts(pts*(100.0/radius))\n",
    "mesh.export_to_vtk(\"m2.vtk\")"
   ]
  },
  {
   "cell_type": "code",
   "execution_count": 5,
   "metadata": {},
   "outputs": [
    {
     "data": {
      "image/png": "[encoded data removed]",
      "text/plain": [
       "<PIL.Image.Image image mode=RGB size=1024x768 at 0x7F29D0A21C70>"
      ]
     },
     "metadata": {},
     "output_type": "display_data"
    }
   ],
   "source": [
    "p = pv.Plotter(shape=(1, 2))\n",
    "p.subplot(0, 0)\n",
    "mesh1 = pv.read(\"m1.vtk\")\n",
    "p.add_text(\"Structured mesh\", font_size=24)\n",
    "p.add_mesh(mesh1, show_edges = True)\n",
    "p.subplot(0, 1)\n",
    "mesh2 = pv.read(\"m2.vtk\")\n",
    "p.add_text(\"Unstructured mesh\", font_size=24)\n",
    "p.add_mesh(mesh2, show_edges = True)\n",
    "p.show()"
   ]
  },
  {
   "cell_type": "code",
   "execution_count": 6,
   "metadata": {},
   "outputs": [
    {
     "data": {
      "text/plain": [
       "\u001b[0;31mInit signature:\u001b[0m \u001b[0mgf\u001b[0m\u001b[0;34m.\u001b[0m\u001b[0mMeshFem\u001b[0m\u001b[0;34m(\u001b[0m\u001b[0;34m*\u001b[0m\u001b[0margs\u001b[0m\u001b[0;34m)\u001b[0m\u001b[0;34m\u001b[0m\u001b[0;34m\u001b[0m\u001b[0m\n",
       "\u001b[0;31mDocstring:\u001b[0m     \n",
       "GeFEM MeshFem object\n",
       "\n",
       "This object represents a finite element method defined on a whole mesh.\n",
       "\u001b[0;31mInit docstring:\u001b[0m\n",
       "General constructor for MeshFem objects\n",
       "\n",
       "* ``MF = MeshFem(Mesh m[, int Qdim1=1[, int Qdim2=1, ...]])``\n",
       "  Build a new MeshFem object.\n",
       "  \n",
       "  The `Qdim` parameters specifies the dimension of the field represented\n",
       "  by the finite element method. Qdim1 = 1 for a scalar field,\n",
       "  Qdim1 = n for a vector field off size n, Qdim1=m, Qdim2=n for\n",
       "  a matrix field of size mxn ...\n",
       "  Returns the handle of the created object. \n",
       "\n",
       "* ``MF = MeshFem('load', string fname[, Mesh m])``\n",
       "  Load a MeshFem from a file.\n",
       "  \n",
       "  If the mesh `m` is not supplied (this kind of file does not store the\n",
       "  mesh), then it is read from the file `fname` and its descriptor is\n",
       "  returned as the second output argument.\n",
       "\n",
       "* ``MF = MeshFem('from string', string s[, Mesh m])``\n",
       "  Create a MeshFem object from its string description.\n",
       "  \n",
       "  See also ``MeshFem.char()``\n",
       "\n",
       "* ``MF = MeshFem('clone', MeshFem mf)``\n",
       "  Create a copy of a MeshFem.\n",
       "\n",
       "* ``MF = MeshFem('sum', MeshFem mf1, MeshFem mf2[, MeshFem mf3[, ...]])``\n",
       "  Create a MeshFem that spans two (or more) MeshFem's.\n",
       "  \n",
       "  All MeshFem must share the same mesh.\n",
       "  \n",
       "  After that, you should not modify the FEM of `mf1`, `mf2` etc.\n",
       "\n",
       "* ``MF = MeshFem('product', MeshFem mf1, MeshFem mf2)``\n",
       "  Create a MeshFem that spans all the product of a selection of shape\n",
       "  functions of `mf1` by all shape functions of `mf2`.\n",
       "  Designed for Xfem enrichment.\n",
       "  \n",
       "  `mf1` and `mf2` must share the same mesh.\n",
       "  \n",
       "  After that, you should not modify the FEM of `mf1`, `mf2`.\n",
       "\n",
       "* ``MF = MeshFem('levelset', MeshLevelSet mls, MeshFem mf)``\n",
       "  Create a MeshFem that is conformal to implicit surfaces defined in\n",
       "  MeshLevelSet.\n",
       "\n",
       "* ``MF = MeshFem('global function', Mesh m, LevelSet ls, (GlobalFunction GF1,...)[, int Qdim_m])``\n",
       "  Create a MeshFem whose base functions are global function given by the\n",
       "  user in the system of coordinate defined by the iso-values of the two\n",
       "  level-set function of `ls`. \n",
       "\n",
       "* ``MF = MeshFem('partial', MeshFem mf, ivec DOFs[, ivec RCVs])``\n",
       "  Build a restricted MeshFem by keeping only a subset of the degrees of\n",
       "  freedom of `mf`.\n",
       "  \n",
       "  If `RCVs` is given, no FEM will be put on the convexes listed in\n",
       "  `RCVs`.\n",
       "\n",
       "  \n",
       "\u001b[0;31mFile:\u001b[0m           /usr/lib/python3/dist-packages/getfem/getfem.py\n",
       "\u001b[0;31mType:\u001b[0m           type\n",
       "\u001b[0;31mSubclasses:\u001b[0m     \n"
      ]
     },
     "metadata": {},
     "output_type": "display_data"
    }
   ],
   "source": [
    "gf.MeshFem?"
   ]
  },
  {
   "cell_type": "code",
   "execution_count": 7,
   "metadata": {},
   "outputs": [],
   "source": [
    "mfu = gf.MeshFem(mesh, 3)\n",
    "mfd = gf.MeshFem(mesh, 1)\n",
    "mfu.set_classical_fem(1)\n",
    "mfd.set_classical_fem(1)\n",
    "mim = gf.MeshIm(mesh, 2)"
   ]
  },
  {
   "cell_type": "code",
   "execution_count": 8,
   "metadata": {},
   "outputs": [],
   "source": [
    "model = gf.Model(\"real\")\n",
    "model.add_fem_variable(\"u\", mfd)\n",
    "model.add_initialized_data(\"E\", 1.0)\n",
    "model.add_initialized_data(\"Nu\", 0.3)\n",
    "model.add_Kirchhoff_Love_plate_brick(mim, \"u\", \"E\", \"Nu\")\n",
    "model.assembly()\n",
    "K = model.tangent_matrix()\n",
    "del model"
   ]
  },
  {
   "cell_type": "code",
   "execution_count": 9,
   "metadata": {},
   "outputs": [],
   "source": [
    "model = gf.Model(\"real\")\n",
    "model.add_fem_variable(\"u\", mfd)\n",
    "model.add_initialized_data(\"rho\", 1.0/(10^6))\n",
    "model.add_mass_brick(mim, \"u\", \"rho\")\n",
    "model.assembly()\n",
    "M = model.tangent_matrix()\n",
    "del model"
   ]
  },
  {
   "cell_type": "code",
   "execution_count": 10,
   "metadata": {},
   "outputs": [
    {
     "data": {
      "text/plain": [
       "\u001b[0;31mSignature:\u001b[0m \u001b[0mK\u001b[0m\u001b[0;34m.\u001b[0m\u001b[0msave\u001b[0m\u001b[0;34m(\u001b[0m\u001b[0mformat\u001b[0m\u001b[0;34m,\u001b[0m \u001b[0mfilename\u001b[0m\u001b[0;34m)\u001b[0m\u001b[0;34m\u001b[0m\u001b[0;34m\u001b[0m\u001b[0m\n",
       "\u001b[0;31mDocstring:\u001b[0m\n",
       "Export the sparse matrix.\n",
       "\n",
       "the format of the file may be 'hb' for Harwell-Boeing, or 'mm'\n",
       "for Matrix-Market.\n",
       "\u001b[0;31mFile:\u001b[0m      /usr/lib/python3/dist-packages/getfem/getfem.py\n",
       "\u001b[0;31mType:\u001b[0m      method\n"
      ]
     },
     "metadata": {},
     "output_type": "display_data"
    }
   ],
   "source": [
    "K.save?"
   ]
  },
  {
   "cell_type": "code",
   "execution_count": 11,
   "metadata": {},
   "outputs": [],
   "source": [
    "K.save(\"mm\", \"K.mtx\")\n",
    "M.save(\"mm\", \"M.mtx\")"
   ]
  },
  {
   "cell_type": "code",
   "execution_count": 12,
   "metadata": {},
   "outputs": [
    {
     "name": "stdout",
     "output_type": "stream",
     "text": [
      "Object `linalg.eig` not found.\n"
     ]
    }
   ],
   "source": [
    "linalg.eig?"
   ]
  },
  {
   "cell_type": "code",
   "execution_count": 13,
   "metadata": {},
   "outputs": [
    {
     "name": "stderr",
     "output_type": "stream",
     "text": [
      "<ipython-input-13-18e62582bc6f>:8: RuntimeWarning: invalid value encountered in sqrt\n",
      "  omega = np.sqrt(w.real)\n"
     ]
    }
   ],
   "source": [
    "import scipy\n",
    "from scipy import io\n",
    "from scipy import linalg\n",
    "\n",
    "SM = io.mmread(\"K.mtx\")\n",
    "MM = io.mmread(\"M.mtx\")\n",
    "w, vr = linalg.eig(SM.todense(), MM.todense())\n",
    "omega = np.sqrt(w.real)"
   ]
  },
  {
   "cell_type": "code",
   "execution_count": null,
   "metadata": {},
   "outputs": [],
   "source": []
  }
 ],
 "metadata": {
  "kernelspec": {
   "display_name": "Python 3",
   "language": "python",
   "name": "python3"
  },
  "language_info": {
   "codemirror_mode": {
    "name": "ipython",
    "version": 3
   },
   "file_extension": ".py",
   "mimetype": "text/x-python",
   "name": "python",
   "nbconvert_exporter": "python",
   "pygments_lexer": "ipython3",
   "version": "3.8.2"
  }
 },
 "nbformat": 4,
 "nbformat_minor": 4
}
